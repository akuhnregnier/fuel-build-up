{
 "cells": [
  {
   "cell_type": "markdown",
   "metadata": {},
   "source": [
    "## Setup"
   ]
  },
  {
   "cell_type": "code",
   "execution_count": null,
   "metadata": {},
   "outputs": [],
   "source": [
    "from specific import *"
   ]
  },
  {
   "cell_type": "markdown",
   "metadata": {},
   "source": [
    "### Get shifted data"
   ]
  },
  {
   "cell_type": "code",
   "execution_count": null,
   "metadata": {},
   "outputs": [],
   "source": [
    "(\n",
    "    endog_data,\n",
    "    exog_data,\n",
    "    master_mask,\n",
    "    filled_datasets,\n",
    "    masked_datasets,\n",
    "    land_mask,\n",
    ") = get_offset_data()"
   ]
  },
  {
   "cell_type": "markdown",
   "metadata": {},
   "source": [
    "## Mapping"
   ]
  },
  {
   "cell_type": "code",
   "execution_count": null,
   "metadata": {},
   "outputs": [],
   "source": [
    "plt.hist(endog_data.values, bins=1000)\n",
    "plt.xscale(\"log\")\n",
    "plt.yscale(\"log\")"
   ]
  },
  {
   "cell_type": "code",
   "execution_count": null,
   "metadata": {},
   "outputs": [],
   "source": [
    "import scipy.stats\n",
    "\n",
    "scipy.stats.percentileofscore(endog_data.values, 0.2)"
   ]
  },
  {
   "cell_type": "code",
   "execution_count": null,
   "metadata": {},
   "outputs": [],
   "source": [
    "combined = exog_data.copy()\n",
    "combined[\"GFED4 BA\"] = endog_data.values"
   ]
  },
  {
   "cell_type": "code",
   "execution_count": null,
   "metadata": {},
   "outputs": [],
   "source": [
    "with figure_saver(\"high_max_temp_high_vod_3m\", sub_directory=\"map_plots\"):\n",
    "    mpl.rc(\"figure\", figsize=(11, 4))\n",
    "    constrained_map_plot(\n",
    "        {\"Max Temp\": (310, None), \"VOD Ku-band -3 Month\": (0.9, None)},\n",
    "        combined,\n",
    "        master_mask,\n",
    "        plot_variable=\"GFED4 BA\",\n",
    "        coastline_kwargs={\"linewidth\": 0.4},\n",
    "        boundaries=[0.01, 0.1, 0.2, 0.4],\n",
    "        cmap=\"inferno\",\n",
    "    )"
   ]
  },
  {
   "cell_type": "code",
   "execution_count": null,
   "metadata": {},
   "outputs": [],
   "source": [
    "with figure_saver(\"high_max_temp_low_sif\", sub_directory=\"map_plots\"):\n",
    "    mpl.rc(\"figure\", figsize=(11, 4))\n",
    "    constrained_map_plot(\n",
    "        {\"Max Temp\": (310, None), \"SIF\": (0.5,)},\n",
    "        combined,\n",
    "        master_mask,\n",
    "        plot_variable=\"GFED4 BA\",\n",
    "        coastline_kwargs={\"linewidth\": 0.4},\n",
    "        boundaries=[0.01, 0.1, 0.2, 0.4],\n",
    "        cmap=\"inferno\",\n",
    "    )"
   ]
  },
  {
   "cell_type": "code",
   "execution_count": null,
   "metadata": {},
   "outputs": [],
   "source": [
    "with figure_saver(\"high_max_temp_high_lightning\", sub_directory=\"map_plots\"):\n",
    "    mpl.rc(\"figure\", figsize=(11, 4))\n",
    "    constrained_map_plot(\n",
    "        {\"Max Temp\": (314, None), \"lightning\": (0.1, None)},\n",
    "        combined,\n",
    "        master_mask,\n",
    "        plot_variable=\"GFED4 BA\",\n",
    "        coastline_kwargs={\"linewidth\": 0.4},\n",
    "        #         boundaries=[0.01, 0.1, 0.2, 0.4],\n",
    "        log=True,\n",
    "        log_auto_bins=False,\n",
    "        cmap=\"inferno\",\n",
    "    )"
   ]
  },
  {
   "cell_type": "code",
   "execution_count": null,
   "metadata": {},
   "outputs": [],
   "source": [
    "with figure_saver(\"low_vod_3m_high_lightning\", sub_directory=\"map_plots\"):\n",
    "    mpl.rc(\"figure\", figsize=(11, 4))\n",
    "    constrained_map_plot(\n",
    "        {\"VOD Ku-band -3 Month\": (None, 0.4), \"lightning\": (0.3, None)},\n",
    "        combined,\n",
    "        master_mask,\n",
    "        plot_variable=\"GFED4 BA\",\n",
    "        coastline_kwargs={\"linewidth\": 0.4},\n",
    "        #         boundaries=[0.01, 0.1, 0.2, 0.4],\n",
    "        log=True,\n",
    "        log_auto_bins=False,\n",
    "        cmap=\"inferno\",\n",
    "    )"
   ]
  },
  {
   "cell_type": "code",
   "execution_count": null,
   "metadata": {},
   "outputs": [],
   "source": [
    "with figure_saver(\"high_dry_days_high_lightning\", sub_directory=\"map_plots\"):\n",
    "    mpl.rc(\"figure\", figsize=(11, 4))\n",
    "    constrained_map_plot(\n",
    "        {\"Dry Day Period\": (20, None), \"lightning\": (0.05, None)},\n",
    "        combined,\n",
    "        master_mask,\n",
    "        plot_variable=\"GFED4 BA\",\n",
    "        coastline_kwargs={\"linewidth\": 0.4},\n",
    "        boundaries=[0.001, 0.01, 0.1, 0.2, 0.4],\n",
    "        log=True,\n",
    "        log_auto_bins=False,\n",
    "        cmap=\"inferno\",\n",
    "    )"
   ]
  },
  {
   "cell_type": "markdown",
   "metadata": {},
   "source": [
    "## Correlation Plot"
   ]
  },
  {
   "cell_type": "code",
   "execution_count": null,
   "metadata": {},
   "outputs": [],
   "source": [
    "X_corr = exog_data\n",
    "with figure_saver(\"corr_plot\"):\n",
    "    corr_plot(shorten_columns(X_corr), fig_kwargs={\"figsize\": (12, 8)})"
   ]
  }
 ],
 "metadata": {
  "kernelspec": {
   "display_name": "Python [conda env:wildfires]",
   "language": "python",
   "name": "conda-env-wildfires-python3-ffmpeg"
  }
 },
 "nbformat": 4,
 "nbformat_minor": 4
}
