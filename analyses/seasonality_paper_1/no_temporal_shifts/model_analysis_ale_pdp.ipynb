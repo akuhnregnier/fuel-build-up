{
 "cells": [
  {
   "cell_type": "markdown",
   "metadata": {},
   "source": [
    "## Setup"
   ]
  },
  {
   "cell_type": "code",
   "execution_count": null,
   "metadata": {},
   "outputs": [],
   "source": [
    "from specific import *"
   ]
  },
  {
   "cell_type": "markdown",
   "metadata": {},
   "source": [
    "### Retrieve previous results from the 'model' notebook"
   ]
  },
  {
   "cell_type": "code",
   "execution_count": null,
   "metadata": {},
   "outputs": [],
   "source": [
    "X_train, X_test, y_train, y_test = data_split_cache.load()\n",
    "results, rf = cross_val_cache.load()"
   ]
  },
  {
   "cell_type": "markdown",
   "metadata": {},
   "source": [
    "#### Get Dask Client"
   ]
  },
  {
   "cell_type": "code",
   "execution_count": null,
   "metadata": {},
   "outputs": [],
   "source": [
    "client = get_client()\n",
    "# client = Client(n_workers=1, threads_per_worker=8, resources={'threads': 8})\n",
    "client"
   ]
  },
  {
   "cell_type": "code",
   "execution_count": null,
   "metadata": {},
   "outputs": [],
   "source": [
    "rf_fut = client.scatter(rf, broadcast=True)\n",
    "X_fut = client.scatter(X_train, broadcast=True)"
   ]
  },
  {
   "cell_type": "markdown",
   "metadata": {},
   "source": [
    "## ALE Plotting"
   ]
  },
  {
   "cell_type": "markdown",
   "metadata": {},
   "source": [
    "### Worldwide"
   ]
  },
  {
   "cell_type": "code",
   "execution_count": null,
   "metadata": {},
   "outputs": [],
   "source": [
    "world_ale_1d_cache = SimpleCache(\"world_ale_1d\", cache_dir=CACHE_DIR)\n",
    "\n",
    "# world_ale_1d_cache.clear()\n",
    "\n",
    "\n",
    "@world_ale_1d_cache\n",
    "def get_world_ale_1d():\n",
    "    n_threads = 16\n",
    "    ale_fs = [\n",
    "        client.submit(\n",
    "            add_common_path_deco(save_ale_plot_1d_with_ptp),\n",
    "            model=rf_fut,\n",
    "            X_train=X_fut,\n",
    "            column=column,\n",
    "            n_jobs=n_threads,\n",
    "            monte_carlo_rep=1000,\n",
    "            resources={\"threads\": n_threads},\n",
    "        )\n",
    "        for column in X_train.columns\n",
    "    ]\n",
    "\n",
    "    for ale_f in tqdm(\n",
    "        dask.distributed.as_completed(ale_fs),\n",
    "        total=len(ale_fs),\n",
    "        unit=\"plot\",\n",
    "        desc=\"Calculating 1D ALE plots\",\n",
    "        smoothing=0,\n",
    "    ):\n",
    "        if ale_f.status == \"error\":\n",
    "            print(ale_f.result())\n",
    "\n",
    "    ptp_values = {}\n",
    "    mc_ptp_values = {}\n",
    "\n",
    "    for column, ale_f in zip(X_train.columns, ale_fs):\n",
    "        ptp_values[column], mc_ptp_values[column] = ale_f.result()\n",
    "    return ptp_values, mc_ptp_values\n",
    "\n",
    "\n",
    "ptp_values, mc_ptp_values = get_world_ale_1d()"
   ]
  },
  {
   "cell_type": "markdown",
   "metadata": {},
   "source": [
    "### Run Non-MC runs manually (just for the plots)"
   ]
  },
  {
   "cell_type": "code",
   "execution_count": null,
   "metadata": {},
   "outputs": [],
   "source": [
    "n_threads = 16\n",
    "ale_fs = [\n",
    "    client.submit(\n",
    "        add_common_path_deco(save_ale_plot_1d_with_ptp),\n",
    "        model=rf_fut,\n",
    "        X_train=X_fut,\n",
    "        column=column,\n",
    "        n_jobs=n_threads,\n",
    "        monte_carlo=False,\n",
    "        resources={\"threads\": n_threads},\n",
    "    )\n",
    "    for column in X_train.columns\n",
    "]\n",
    "\n",
    "for ale_f in tqdm(\n",
    "    dask.distributed.as_completed(ale_fs),\n",
    "    total=len(ale_fs),\n",
    "    unit=\"plot\",\n",
    "    desc=\"Calculating 1D Non-MC ALE plots\",\n",
    "    smoothing=0,\n",
    "):\n",
    "    if ale_f.status == \"error\":\n",
    "        print(ale_f.result())"
   ]
  },
  {
   "cell_type": "markdown",
   "metadata": {},
   "source": [
    "## PDP Plotting"
   ]
  },
  {
   "cell_type": "markdown",
   "metadata": {},
   "source": [
    "### Worldwide"
   ]
  },
  {
   "cell_type": "code",
   "execution_count": null,
   "metadata": {},
   "outputs": [],
   "source": [
    "%time save_pdp_plot_1d(rf, X_train, 'Dry Day Period -12 - 0 Month', n_jobs=32)"
   ]
  },
  {
   "cell_type": "markdown",
   "metadata": {},
   "source": [
    "### Sequentially Locally"
   ]
  },
  {
   "cell_type": "code",
   "execution_count": null,
   "metadata": {},
   "outputs": [],
   "source": [
    "for column in tqdm(\n",
    "    X_train.columns, unit=\"plot\", desc=\"Calculating 1D PDP plots\", smoothing=0.05\n",
    "):\n",
    "    figs, pdp_isolate_out, data_file = save_pdp_plot_1d(rf, X_train, column, n_jobs=32)\n",
    "    for fig in figs:\n",
    "        plt.close(fig)"
   ]
  },
  {
   "cell_type": "markdown",
   "metadata": {},
   "source": [
    "### Using a Dask distributed Cluster"
   ]
  },
  {
   "cell_type": "code",
   "execution_count": null,
   "metadata": {},
   "outputs": [],
   "source": [
    "%%time\n",
    "n_threads = 32\n",
    "pdp_fs = [\n",
    "    client.submit(\n",
    "        add_common_path_deco(save_pdp_plot_1d),\n",
    "        model=rf_fut,\n",
    "        X_train=X_fut,\n",
    "        column=column,\n",
    "        n_jobs=n_threads,\n",
    "        resources={\"threads\": n_threads},\n",
    "    )\n",
    "    for column in X_train.columns\n",
    "]\n",
    "\n",
    "for pdp_f in tqdm(\n",
    "    dask.distributed.as_completed(pdp_fs),\n",
    "    total=len(pdp_fs),\n",
    "    unit=\"plot\",\n",
    "    desc=\"Calculating 1D PDP plots\",\n",
    "    smoothing=0.04,\n",
    "):\n",
    "    if pdp_f.status == \"error\":\n",
    "        print(pdp_f.result())"
   ]
  }
 ],
 "metadata": {
  "kernelspec": {
   "display_name": "Python [conda env:wildfires] *",
   "language": "python",
   "name": "conda-env-wildfires-py"
  }
 },
 "nbformat": 4,
 "nbformat_minor": 4
}
