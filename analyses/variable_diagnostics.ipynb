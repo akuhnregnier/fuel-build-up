{
 "cells": [
  {
   "cell_type": "markdown",
   "metadata": {},
   "source": [
    "## Initialisation"
   ]
  },
  {
   "cell_type": "code",
   "execution_count": null,
   "metadata": {},
   "outputs": [],
   "source": [
    "import logging\n",
    "import os\n",
    "import re\n",
    "import sys\n",
    "import warnings\n",
    "from collections import namedtuple\n",
    "from functools import reduce\n",
    "from itertools import combinations\n",
    "from operator import mul\n",
    "\n",
    "import cloudpickle\n",
    "import matplotlib as mpl\n",
    "import matplotlib.pyplot as plt\n",
    "import numpy as np\n",
    "import pandas as pd\n",
    "import scipy\n",
    "import shap\n",
    "from joblib import Memory, Parallel, delayed\n",
    "from loguru import logger as loguru_logger\n",
    "from matplotlib.patches import Rectangle\n",
    "from sklearn.ensemble import RandomForestRegressor\n",
    "from sklearn.model_selection import cross_val_score, train_test_split\n",
    "from tqdm import tqdm\n",
    "\n",
    "import wildfires.analysis\n",
    "from alepython import ale_plot\n",
    "from alepython.ale import _second_order_ale_quant\n",
    "from wildfires.analysis import *\n",
    "from wildfires.dask_cx1 import *\n",
    "from wildfires.data import *\n",
    "from wildfires.logging_config import enable_logging\n",
    "from wildfires.qstat import get_ncpus\n",
    "from wildfires.utils import *\n",
    "\n",
    "loguru_logger.enable(\"alepython\")\n",
    "loguru_logger.remove()\n",
    "loguru_logger.add(sys.stderr, level=\"WARNING\")\n",
    "\n",
    "logger = logging.getLogger(__name__)\n",
    "\n",
    "enable_logging(\"jupyter\")\n",
    "\n",
    "warnings.filterwarnings(\"ignore\", \".*Collapsing a non-contiguous coordinate.*\")\n",
    "warnings.filterwarnings(\"ignore\", \".*DEFAULT_SPHERICAL_EARTH_RADIUS*\")\n",
    "warnings.filterwarnings(\"ignore\", \".*guessing contiguous bounds*\")\n",
    "\n",
    "normal_coast_linewidth = 0.5\n",
    "mpl.rc(\"figure\", figsize=(14, 6))\n",
    "mpl.rc(\"font\", size=9.0)\n",
    "\n",
    "save_name = \"analysis_variable_diagnostics\"\n",
    "\n",
    "figure_saver = FigureSaver(directories=os.path.join(\"~\", \"tmp\", save_name), debug=True,)\n",
    "memory = get_memory(save_name, verbose=100)\n",
    "CACHE_DIR = os.path.join(DATA_DIR, \".pickle\", save_name)"
   ]
  },
  {
   "cell_type": "markdown",
   "metadata": {},
   "source": [
    "### Load the customized `get_data()` function for this experiment."
   ]
  },
  {
   "cell_type": "code",
   "execution_count": null,
   "metadata": {},
   "outputs": [],
   "source": [
    "from get_lags_rf_cross_val_data import get_data"
   ]
  },
  {
   "cell_type": "markdown",
   "metadata": {},
   "source": [
    "## Creating the Data Structures used for Fitting"
   ]
  },
  {
   "cell_type": "code",
   "execution_count": null,
   "metadata": {},
   "outputs": [],
   "source": [
    "shift_months = [1, 3, 6, 9, 12, 18, 24]\n",
    "\n",
    "(\n",
    "    e_s_endog_data,\n",
    "    e_s_exog_data,\n",
    "    e_s_master_mask,\n",
    "    e_s_filled_datasets,\n",
    "    e_s_masked_datasets,\n",
    "    e_s_land_mask,\n",
    ") = get_data(shift_months=shift_months, selection_variables=None)"
   ]
  },
  {
   "cell_type": "markdown",
   "metadata": {},
   "source": [
    "### Offset data from 12 or more months before the current month in order to ease analysis (interpretability).\n",
    "\n",
    "We are interested in the trends in these properties, not their absolute values, therefore we subtract a recent 'seasonal cycle' analogue.\n",
    "This hopefully avoids capturing the same relationships for a variable and its 12 month counterpart due to their high correlation."
   ]
  },
  {
   "cell_type": "code",
   "execution_count": null,
   "metadata": {},
   "outputs": [],
   "source": [
    "to_delete = []\n",
    "for column in e_s_exog_data:\n",
    "    match = re.search(r\"-\\d{1,2}\", column)\n",
    "    if match:\n",
    "        span = match.span()\n",
    "        # Change the string to reflect the shift.\n",
    "        original_offset = int(column[slice(*span)])\n",
    "        if original_offset > -12:\n",
    "            # Only shift months that are 12 or more months before the current month.\n",
    "            continue\n",
    "        comp = -(-original_offset % 12)\n",
    "        new_column = \" \".join(\n",
    "            (\n",
    "                column[: span[0] - 1],\n",
    "                f\"{original_offset} - {comp}\",\n",
    "                column[span[1] + 1 :],\n",
    "            )\n",
    "        )\n",
    "        if comp == 0:\n",
    "            comp_column = column[: span[0] - 1]\n",
    "        else:\n",
    "            comp_column = \" \".join(\n",
    "                (column[: span[0] - 1], f\"{comp}\", column[span[1] + 1 :])\n",
    "            )\n",
    "        print(column, comp_column)\n",
    "        e_s_exog_data[new_column] = e_s_exog_data[column] - e_s_exog_data[comp_column]\n",
    "        to_delete.append(column)\n",
    "for column in to_delete:\n",
    "    del e_s_exog_data[column]"
   ]
  },
  {
   "cell_type": "markdown",
   "metadata": {},
   "source": [
    "## Mapping"
   ]
  },
  {
   "cell_type": "code",
   "execution_count": null,
   "metadata": {},
   "outputs": [],
   "source": [
    "FAPAR_lim = 0.39\n",
    "DRY_DAY_lim = 20\n",
    "\n",
    "fapar_data = np.ma.MaskedArray(\n",
    "    np.zeros_like(e_s_master_mask, dtype=np.float64),\n",
    "    mask=np.ones_like(e_s_master_mask, dtype=np.float64),\n",
    ")\n",
    "dry_day_data = fapar_data.copy()\n",
    "\n",
    "fapar_data[~e_s_master_mask] = e_s_exog_data[\"FAPAR\"].values\n",
    "dry_day_data[~e_s_master_mask] = e_s_exog_data[\"Dry Day Period\"].values\n",
    "\n",
    "combined_mask = (\n",
    "    dry_day_data.mask\n",
    "    | fapar_data.mask\n",
    "    | (dry_day_data < DRY_DAY_lim)\n",
    "    | (fapar_data < FAPAR_lim)\n",
    ")\n",
    "combined_mask &= match_shape(get_land_mask(), dry_day_data.shape)\n",
    "combined_mask |= ~match_shape(\n",
    "    box_mask(lats=(-60, 90), lons=(-180, 180)), dry_day_data.shape\n",
    ")\n",
    "\n",
    "selection = match_shape(np.any(~combined_mask, axis=0), combined_mask.shape)\n",
    "new_fapar_data = fapar_data.copy()\n",
    "new_fapar_data.mask = ~selection\n",
    "\n",
    "new_fapar = dummy_lat_lon_cube(new_fapar_data)\n",
    "\n",
    "mpl.rc(\"figure\", figsize=(9, 3.8), dpi=100)\n",
    "with figure_saver(\"fapar_upper_quadrant_map\"):\n",
    "    _ = cube_plotting(\n",
    "        new_fapar,\n",
    "        select_valid=True,\n",
    "        title=f\"FAPAR > {FAPAR_lim} & Dry Day Period > {DRY_DAY_lim}\",\n",
    "        label=\"Mean FAPAR\",\n",
    "        coastline_kwargs={\"linewidth\": 0.3},\n",
    "    )"
   ]
  },
  {
   "cell_type": "code",
   "execution_count": null,
   "metadata": {},
   "outputs": [],
   "source": [
    "dry_day_data18 = np.ma.MaskedArray(\n",
    "    np.zeros_like(e_s_master_mask, dtype=np.float64),\n",
    "    mask=np.ones_like(e_s_master_mask, dtype=np.float64),\n",
    ")\n",
    "agb_tree_data = dry_day_data18.copy()\n",
    "\n",
    "dry_day_data18[~e_s_master_mask] = e_s_exog_data[\"Dry Day Period -18 - -6 Month\"].values\n",
    "agb_tree_data[~e_s_master_mask] = e_s_exog_data[\"AGB Tree\"].values\n",
    "\n",
    "dry_day_lim = 22\n",
    "agb_tree_lims = (0.9, 20)\n",
    "\n",
    "combined_mask = (\n",
    "    dry_day_data18.mask\n",
    "    | agb_tree_data.mask\n",
    "    | (dry_day_data18 < dry_day_lim)\n",
    "    | (agb_tree_data < agb_tree_lims[0])\n",
    "    | (agb_tree_data > agb_tree_lims[1])\n",
    ")\n",
    "combined_mask &= match_shape(get_land_mask(), dry_day_data.shape)\n",
    "combined_mask |= ~match_shape(\n",
    "    box_mask(lats=(-60, 90), lons=(-180, 180)), dry_day_data.shape\n",
    ")\n",
    "\n",
    "selection = match_shape(np.any(~combined_mask, axis=0), combined_mask.shape)\n",
    "show_data = agb_tree_data.copy()\n",
    "show_data.mask = ~selection\n",
    "\n",
    "show_data = dummy_lat_lon_cube(show_data)\n",
    "\n",
    "mpl.rc(\"figure\", figsize=(9, 3.8), dpi=100)\n",
    "with figure_saver(\"tree_wedge_map\"):\n",
    "    _ = cube_plotting(\n",
    "        show_data,\n",
    "        select_valid=True,\n",
    "        title=f\"Dry Day Period Δ18 Month > {dry_day_lim} & {agb_tree_lims[0]} < AGBTree < {agb_tree_lims[1]}\",\n",
    "        label=\"Mean AGBTree\",\n",
    "        coastline_kwargs={\"linewidth\": 0.3},\n",
    "    )"
   ]
  },
  {
   "cell_type": "markdown",
   "metadata": {},
   "source": [
    "## Correlation Plot"
   ]
  },
  {
   "cell_type": "code",
   "execution_count": null,
   "metadata": {},
   "outputs": [],
   "source": [
    "X_corr = e_s_exog_data\n",
    "with figure_saver(\"corr_plot_with_sif\"):\n",
    "    corr_plot(X_corr[X_corr.columns[:-12]], fig_kwargs={\"figsize\": (12, 8)})\n",
    "print(\"Excluded columns:\", X_corr.columns[-12:])"
   ]
  },
  {
   "cell_type": "code",
   "execution_count": null,
   "metadata": {},
   "outputs": [],
   "source": [
    "with figure_saver(\"corr_plot_full\"):\n",
    "    corr_plot(X_corr[X_corr.columns], fig_kwargs={\"figsize\": (12, 8)})"
   ]
  }
 ],
 "metadata": {
  "kernelspec": {
   "display_name": "Python 3",
   "language": "python",
   "name": "python3"
  }
 },
 "nbformat": 4,
 "nbformat_minor": 4
}
