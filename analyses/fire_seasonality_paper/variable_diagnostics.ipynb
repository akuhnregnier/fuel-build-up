{
 "cells": [
  {
   "cell_type": "markdown",
   "metadata": {},
   "source": [
    "## Setup"
   ]
  },
  {
   "cell_type": "code",
   "execution_count": null,
   "metadata": {},
   "outputs": [],
   "source": [
    "from common import *"
   ]
  },
  {
   "cell_type": "markdown",
   "metadata": {},
   "source": [
    "### Get shifted data"
   ]
  },
  {
   "cell_type": "code",
   "execution_count": null,
   "metadata": {},
   "outputs": [],
   "source": [
    "(\n",
    "    endog_data,\n",
    "    exog_data,\n",
    "    master_mask,\n",
    "    filled_datasets,\n",
    "    masked_datasets,\n",
    "    land_mask,\n",
    ") = get_offset_data()"
   ]
  },
  {
   "cell_type": "markdown",
   "metadata": {},
   "source": [
    "## Mapping"
   ]
  },
  {
   "cell_type": "code",
   "execution_count": null,
   "metadata": {},
   "outputs": [],
   "source": [
    "constrained_map_plot(\n",
    "    {\"FAPAR\": (0.39, None), \"Dry Day Period\": (20, None)},\n",
    "    exog_data,\n",
    "    master_mask,\n",
    "    plot_variable=\"FAPAR\",\n",
    "    coastline_kwargs={\"linewidth\": 0.5},\n",
    ")"
   ]
  },
  {
   "cell_type": "code",
   "execution_count": null,
   "metadata": {},
   "outputs": [],
   "source": [
    "constrained_map_plot(\n",
    "    {\"Dry Day Period -18 - -6 Month\": (22, None), \"AGB Tree\": (0.9, 20)},\n",
    "    exog_data,\n",
    "    master_mask,\n",
    "    plot_variable=\"AGB Tree\",\n",
    "    coastline_kwargs={\"linewidth\": 0.5},\n",
    ")"
   ]
  },
  {
   "cell_type": "markdown",
   "metadata": {},
   "source": [
    "## Correlation Plot"
   ]
  },
  {
   "cell_type": "code",
   "execution_count": null,
   "metadata": {},
   "outputs": [],
   "source": [
    "X_corr = exog_data\n",
    "with figure_saver(\"corr_plot\"):\n",
    "    corr_plot(X_corr[X_corr.columns[:-15]], fig_kwargs={\"figsize\": (12, 8)})\n",
    "print(\"Excluded columns:\", X_corr.columns[-15:])"
   ]
  },
  {
   "cell_type": "code",
   "execution_count": null,
   "metadata": {},
   "outputs": [],
   "source": [
    "with figure_saver(\"corr_plot_full\"):\n",
    "    corr_plot(X_corr[X_corr.columns], fig_kwargs={\"figsize\": (12, 8)})"
   ]
  }
 ],
 "metadata": {
  "kernelspec": {
   "display_name": "Python [conda env:wildfires] *",
   "language": "python",
   "name": "conda-env-wildfires-python3-ffmpeg"
  }
 },
 "nbformat": 4,
 "nbformat_minor": 4
}
