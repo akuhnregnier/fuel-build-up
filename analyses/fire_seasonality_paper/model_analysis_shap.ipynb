{
 "cells": [
  {
   "cell_type": "markdown",
   "metadata": {},
   "source": [
    "## Setup"
   ]
  },
  {
   "cell_type": "code",
   "execution_count": null,
   "metadata": {},
   "outputs": [],
   "source": [
    "from common import *"
   ]
  },
  {
   "cell_type": "markdown",
   "metadata": {},
   "source": [
    "### Retrieve previous results from the 'model' notebook"
   ]
  },
  {
   "cell_type": "code",
   "execution_count": null,
   "metadata": {},
   "outputs": [],
   "source": [
    "X_train, X_test, y_train, y_test = data_split_cache.load()\n",
    "results, rf = cross_val_cache.load()"
   ]
  },
  {
   "cell_type": "markdown",
   "metadata": {},
   "source": [
    "### SHAP values"
   ]
  },
  {
   "cell_type": "markdown",
   "metadata": {},
   "source": [
    "#### Normal SHAP values\n",
    "\n",
    "~ 15 sample / s"
   ]
  },
  {
   "cell_type": "code",
   "execution_count": null,
   "metadata": {},
   "outputs": [],
   "source": [
    "total_samples = 20000\n",
    "chunk_size = 100\n",
    "cores = 30\n",
    "\n",
    "tree_path_dependent_shap_cache = SimpleCache(\n",
    "    f\"tree_path_dependent_shap_{total_samples}\", cache_dir=CACHE_DIR\n",
    ")\n",
    "\n",
    "# tree_path_dependent_shap_cache.clear()\n",
    "\n",
    "\n",
    "@tree_path_dependent_shap_cache\n",
    "def tree_path_dependent_shap():\n",
    "    if chunk_size is None:\n",
    "        chunk_nr = cores\n",
    "    else:\n",
    "        # Use the next highest multiple of `cores` for the number of chunks.\n",
    "        chunk_nr = math.ceil((total_samples / chunk_size) / cores) * cores\n",
    "\n",
    "    chunk_edges = np.unique(np.linspace(0, total_samples, chunk_nr + 1, dtype=np.int64))\n",
    "    with concurrent.futures.ProcessPoolExecutor(max_workers=cores) as executor:\n",
    "        shap_fs = [\n",
    "            executor.submit(get_shap_values, rf, X_train[i:j])\n",
    "            for i, j in zip(chunk_edges[:-1], chunk_edges[1:])\n",
    "        ]\n",
    "\n",
    "        shap_prog = tqdm(\n",
    "            total=total_samples,\n",
    "            unit=\"sample\",\n",
    "            desc=\"Calculating SHAP values\",\n",
    "            smoothing=0,\n",
    "            position=0,\n",
    "        )\n",
    "        for shap_f in concurrent.futures.as_completed(shap_fs):\n",
    "            shap_prog.update(shap_f.result().shape[0])\n",
    "\n",
    "    return np.vstack([shap_f.result() for shap_f in shap_fs])\n",
    "\n",
    "\n",
    "shap_values = tree_path_dependent_shap()"
   ]
  },
  {
   "cell_type": "code",
   "execution_count": null,
   "metadata": {},
   "outputs": [],
   "source": [
    "with figure_saver(\"SHAP\"):\n",
    "    shap.summary_plot(\n",
    "        shap_values,\n",
    "        X_train[:total_samples],\n",
    "        title=\"SHAP Feature Importances\",\n",
    "        show=False,\n",
    "    )"
   ]
  },
  {
   "cell_type": "code",
   "execution_count": null,
   "metadata": {},
   "outputs": [],
   "source": [
    "mean_abs_shap = np.mean(np.abs(shap_values), axis=0)\n",
    "mean_shap_importances = pd.DataFrame(\n",
    "    [X_train.columns, mean_abs_shap], index=[\"column\", \"shap\"]\n",
    ")\n",
    "mean_shap_importances = mean_shap_importances.T\n",
    "mean_shap_importances.sort_values(\"shap\", ascending=False, inplace=True)\n",
    "mean_shap_importances"
   ]
  },
  {
   "cell_type": "markdown",
   "metadata": {},
   "source": [
    "#### Interaction SHAP values\n",
    "\n",
    "~ 150 s / sample !!"
   ]
  },
  {
   "cell_type": "code",
   "execution_count": null,
   "metadata": {},
   "outputs": [],
   "source": [
    "client = get_client()\n",
    "client"
   ]
  },
  {
   "cell_type": "code",
   "execution_count": null,
   "metadata": {},
   "outputs": [],
   "source": [
    "total_samples = 600\n",
    "cores = 30\n",
    "\n",
    "chunk_edges = np.arange(0, total_samples + 1, 2)\n",
    "\n",
    "tree_path_dependent_shap_interact_cache = SimpleCache(\n",
    "    f\"tree_path_dependent_shap_interact_{total_samples}\", cache_dir=CACHE_DIR\n",
    ")\n",
    "\n",
    "# tree_path_dependent_shap_interact_cache.clear()\n",
    "\n",
    "get_interact_shap_values = partial(get_shap_values, interaction=True)\n",
    "\n",
    "\n",
    "@tree_path_dependent_shap_interact_cache\n",
    "def tree_path_dependent_shap_interact(chunk_edges=chunk_edges):\n",
    "    if chunk_edges is None:\n",
    "        if chunk_size is None:\n",
    "            chunk_nr = cores\n",
    "        else:\n",
    "            # Use the next highest multiple of `cores` for the number of chunks.\n",
    "            chunk_nr = math.ceil((total_samples / chunk_size) / cores) * cores\n",
    "\n",
    "        chunk_edges = np.unique(\n",
    "            np.linspace(0, total_samples, chunk_nr + 1, dtype=np.int64)\n",
    "        )\n",
    "    with concurrent.futures.ProcessPoolExecutor(max_workers=cores) as executor:\n",
    "        shap_fs = [\n",
    "            executor.submit(get_interact_shap_values, rf, X_train[i:j])\n",
    "            for i, j in zip(chunk_edges[:-1], chunk_edges[1:])\n",
    "        ]\n",
    "\n",
    "        shap_prog = tqdm(\n",
    "            total=total_samples,\n",
    "            unit=\"sample\",\n",
    "            desc=\"Calculating SHAP interaction values\",\n",
    "            smoothing=0,\n",
    "            position=0,\n",
    "        )\n",
    "        for shap_f in concurrent.futures.as_completed(shap_fs):\n",
    "            shap_prog.update(shap_f.result().shape[0])\n",
    "\n",
    "    return np.vstack([shap_f.result() for shap_f in shap_fs])\n",
    "\n",
    "\n",
    "shap_interact_values = tree_path_dependent_shap_interact()\n",
    "\n",
    "# worker = list(client.scheduler_info()['workers'])[1]\n",
    "# shap_interact_values = client.run(tree_path_dependent_shap_interact, workers=[worker])"
   ]
  },
  {
   "cell_type": "code",
   "execution_count": null,
   "metadata": {},
   "outputs": [],
   "source": [
    "shap.summary_plot(\n",
    "    shap_values, X_train[:total_samples], title=\"SHAP Feature Importances\"\n",
    ")"
   ]
  }
 ],
 "metadata": {
  "kernelspec": {
   "display_name": "Python [conda env:wildfires] *",
   "language": "python",
   "name": "conda-env-wildfires-py"
  }
 },
 "nbformat": 4,
 "nbformat_minor": 4
}
