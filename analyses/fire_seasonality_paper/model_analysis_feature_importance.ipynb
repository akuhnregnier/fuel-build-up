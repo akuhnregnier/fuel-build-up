{
 "cells": [
  {
   "cell_type": "markdown",
   "metadata": {},
   "source": [
    "## Setup"
   ]
  },
  {
   "cell_type": "code",
   "execution_count": null,
   "metadata": {},
   "outputs": [],
   "source": [
    "from common import *"
   ]
  },
  {
   "cell_type": "markdown",
   "metadata": {},
   "source": [
    "### Retrieve previous results from the 'model' notebook"
   ]
  },
  {
   "cell_type": "code",
   "execution_count": null,
   "metadata": {},
   "outputs": [],
   "source": [
    "X_train, X_test, y_train, y_test = data_split_cache.load()\n",
    "results, rf = cross_val_cache.load()"
   ]
  },
  {
   "cell_type": "markdown",
   "metadata": {},
   "source": [
    "### ELI5 Permutation Importances (PFI)"
   ]
  },
  {
   "cell_type": "code",
   "execution_count": null,
   "metadata": {},
   "outputs": [],
   "source": [
    "import cloudpickle\n",
    "import eli5\n",
    "from eli5.sklearn import PermutationImportance\n",
    "from joblib import Parallel, delayed, parallel_backend\n",
    "\n",
    "from wildfires.dask_cx1 import get_parallel_backend\n",
    "\n",
    "perm_importance_cache = SimpleCache(\n",
    "    \"perm_importance\", cache_dir=CACHE_DIR, pickler=cloudpickle\n",
    ")\n",
    "\n",
    "# Does not seem to work with the dask parallel backend - it gets bypassed\n",
    "# and every available core on the machine is used up if attempted.\n",
    "\n",
    "\n",
    "@perm_importance_cache\n",
    "def get_perm_importance():\n",
    "    rf.n_jobs = 30\n",
    "    return eli5.sklearn.PermutationImportance(rf).fit(X_train, y_train)\n",
    "\n",
    "\n",
    "# worker = list(client.scheduler_info()['workers'])[0]\n",
    "# perm_importance = client.run(get_perm_importance, workers=[worker])\n",
    "\n",
    "perm_importance = get_perm_importance()\n",
    "perm_df = eli5.explain_weights_df(perm_importance, feature_names=list(X_train.columns))"
   ]
  },
  {
   "cell_type": "markdown",
   "metadata": {},
   "source": [
    "#### VIF Calculation"
   ]
  },
  {
   "cell_type": "code",
   "execution_count": null,
   "metadata": {},
   "outputs": [],
   "source": [
    "train_vif_cache = SimpleCache(\"train_vif\", cache_dir=CACHE_DIR)\n",
    "\n",
    "\n",
    "@train_vif_cache\n",
    "def get_vifs():\n",
    "    return vif(X_train, verbose=True)\n",
    "\n",
    "\n",
    "vifs = get_vifs()\n",
    "vifs = vifs.set_index(\"Name\", drop=True).T"
   ]
  },
  {
   "cell_type": "markdown",
   "metadata": {},
   "source": [
    "#### LOCO Calculation - from the LOCO notebook"
   ]
  },
  {
   "cell_type": "code",
   "execution_count": null,
   "metadata": {},
   "outputs": [],
   "source": [
    "loco_cache = SimpleCache(\"loco_results\", cache_dir=CACHE_DIR)\n",
    "loco_results = loco_cache.load()\n",
    "baseline_mse = loco_results[\"\"][\"mse\"]\n",
    "\n",
    "loco_df = pd.DataFrame(\n",
    "    {\n",
    "        column: [loco_results[column][\"mse\"] - baseline_mse]\n",
    "        for column in loco_results\n",
    "        if column\n",
    "    }\n",
    ")\n",
    "loco_df.columns.name = \"Name\"\n",
    "loco_df.index = [\"LOCO (MSE)\"]"
   ]
  },
  {
   "cell_type": "markdown",
   "metadata": {},
   "source": [
    "## Individual Tree Importances - Gini vs PFI vs SHAP\n",
    "\n",
    "SHAP values are loaded from the shap notebook."
   ]
  },
  {
   "cell_type": "code",
   "execution_count": null,
   "metadata": {},
   "outputs": [],
   "source": [
    "def plot_importances(df, ax=None):\n",
    "    means = df.mean().sort_values(ascending=False)\n",
    "    df = df.reindex(means.index, axis=1)\n",
    "\n",
    "    if ax is None:\n",
    "        fig, ax = plt.subplots(figsize=(5, 12))\n",
    "    ax = sns.boxplot(data=df, orient=\"h\", ax=ax)\n",
    "    ax.grid(which=\"both\")"
   ]
  },
  {
   "cell_type": "markdown",
   "metadata": {},
   "source": [
    "### Gini"
   ]
  },
  {
   "cell_type": "code",
   "execution_count": null,
   "metadata": {},
   "outputs": [],
   "source": [
    "ind_trees_gini = pd.DataFrame(\n",
    "    [tree.feature_importances_ for tree in rf], columns=X_train.columns,\n",
    ")\n",
    "mean_importances = ind_trees_gini.mean().sort_values(ascending=False)\n",
    "ind_trees_gini = ind_trees_gini.reindex(mean_importances.index, axis=1)\n",
    "shorten_columns(ind_trees_gini, inplace=True)\n",
    "\n",
    "\n",
    "def gini_plot(ax, N_col):\n",
    "    sns.boxplot(data=ind_trees_gini.iloc[:, :N_col], ax=ax)\n",
    "    ax.set(\n",
    "        # title=\"Gini Importances\",\n",
    "        ylabel=\"Gini Importance (MSE)\\n\"\n",
    "    )"
   ]
  },
  {
   "cell_type": "code",
   "execution_count": null,
   "metadata": {},
   "outputs": [],
   "source": [
    "plot_importances(ind_trees_gini)"
   ]
  },
  {
   "cell_type": "markdown",
   "metadata": {},
   "source": [
    "### PFI"
   ]
  },
  {
   "cell_type": "code",
   "execution_count": null,
   "metadata": {},
   "outputs": [],
   "source": [
    "pfi_ind = pd.DataFrame(perm_importance.results_, columns=X_train.columns)\n",
    "\n",
    "# Re-index according to the same ordering as for the Gini importances!\n",
    "pfi_ind = pfi_ind.reindex(mean_importances.index, axis=1)\n",
    "shorten_columns(pfi_ind, inplace=True)\n",
    "\n",
    "\n",
    "def pfi_plot(ax, N_col):\n",
    "    sns.boxplot(data=pfi_ind.iloc[:, :N_col], ax=ax)\n",
    "    ax.set(\n",
    "        # title=\"PFI Importances\",\n",
    "        ylabel=\"PFI Importance\\n\"\n",
    "    )"
   ]
  },
  {
   "cell_type": "code",
   "execution_count": null,
   "metadata": {},
   "outputs": [],
   "source": [
    "plot_importances(pfi_ind)"
   ]
  },
  {
   "cell_type": "markdown",
   "metadata": {},
   "source": [
    "### SHAP"
   ]
  },
  {
   "cell_type": "code",
   "execution_count": null,
   "metadata": {},
   "outputs": [],
   "source": [
    "max_index = 995  # Maximum job array index (inclusive).\n",
    "job_samples = 2000  # Samples per job.\n",
    "total_samples = (max_index + 1) * job_samples  # Sanity check.\n",
    "\n",
    "# Load the individual data chunks.\n",
    "shap_chunks = []\n",
    "for index in tqdm(range(max_index + 1), desc=\"Loading chunks\"):\n",
    "    shap_chunks.append(\n",
    "        SimpleCache(\n",
    "            f\"tree_path_dependent_shap_{index}_{job_samples}\",\n",
    "            cache_dir=os.path.join(CACHE_DIR, \"shap\"),\n",
    "            verbose=0,\n",
    "        ).load()\n",
    "    )\n",
    "shap_values = np.vstack(shap_chunks)\n",
    "\n",
    "mean_abs_shap = np.mean(np.abs(shap_values), axis=0)\n",
    "mean_shap_importances = (\n",
    "    pd.DataFrame(mean_abs_shap, index=X_train.columns, columns=[\"SHAP Importance\"],)\n",
    "    .sort_values(\"SHAP Importance\", ascending=False)\n",
    "    .T\n",
    ")\n",
    "\n",
    "# Re-index according to the same ordering as for the Gini importances!\n",
    "mean_shap_importances = mean_shap_importances.reindex(mean_importances.index, axis=1)\n",
    "\n",
    "shorten_columns(mean_shap_importances, inplace=True)\n",
    "\n",
    "\n",
    "def shap_plot(ax, N_col):\n",
    "    sns.boxplot(data=mean_shap_importances.iloc[:, :N_col], ax=ax)\n",
    "    ax.set(ylabel=\"SHAP Importance\\n\")"
   ]
  },
  {
   "cell_type": "code",
   "execution_count": null,
   "metadata": {},
   "outputs": [],
   "source": [
    "plot_importances(mean_shap_importances)"
   ]
  },
  {
   "cell_type": "markdown",
   "metadata": {},
   "source": [
    "### LOCO"
   ]
  },
  {
   "cell_type": "code",
   "execution_count": null,
   "metadata": {},
   "outputs": [],
   "source": [
    "loco_df = loco_df.reindex(mean_importances.index, axis=1)\n",
    "\n",
    "shorten_columns(loco_df, inplace=True)\n",
    "\n",
    "\n",
    "def loco_plot(ax, N_col):\n",
    "    sns.boxplot(data=loco_df.iloc[:, :N_col], ax=ax)\n",
    "    ax.set(ylabel=\"LOCO (MSE)\\n\")"
   ]
  },
  {
   "cell_type": "code",
   "execution_count": null,
   "metadata": {},
   "outputs": [],
   "source": [
    "plot_importances(loco_df)"
   ]
  },
  {
   "cell_type": "markdown",
   "metadata": {},
   "source": [
    "### VIF"
   ]
  },
  {
   "cell_type": "code",
   "execution_count": null,
   "metadata": {},
   "outputs": [],
   "source": [
    "# Re-index according to the same ordering as for the Gini importances!\n",
    "vifs = vifs.reindex(mean_importances.index, axis=1)\n",
    "\n",
    "shorten_columns(vifs, inplace=True)\n",
    "\n",
    "\n",
    "def vif_plot(ax, N_col):\n",
    "    sns.boxplot(data=vifs.iloc[:, :N_col], ax=ax)\n",
    "    ax.set(ylabel=\"VIF\\n\")"
   ]
  },
  {
   "cell_type": "code",
   "execution_count": null,
   "metadata": {},
   "outputs": [],
   "source": [
    "plot_importances(vifs)"
   ]
  },
  {
   "cell_type": "markdown",
   "metadata": {},
   "source": [
    "### ALE 1D"
   ]
  },
  {
   "cell_type": "code",
   "execution_count": null,
   "metadata": {},
   "outputs": [],
   "source": [
    "world_ale_1d_cache = SimpleCache(\"world_ale_1d\", cache_dir=CACHE_DIR)\n",
    "ptp_values, mc_ptp_values = world_ale_1d_cache.load()\n",
    "\n",
    "ale_1d_df = pd.DataFrame(ptp_values, index=[\"ALE 1D (PTP)\"])\n",
    "ale_1d_df.columns.name = \"Name\"\n",
    "\n",
    "ale_1d_mc_df = pd.DataFrame(mc_ptp_values, index=[\"ALE 1D MC (PTP)\"])\n",
    "ale_1d_mc_df.columns.name = \"Name\"\n",
    "\n",
    "# Re-index according to the same ordering as for the Gini importances!\n",
    "ale_1d_df.reindex(mean_importances.index, axis=1)\n",
    "ale_1d_mc_df.reindex(mean_importances.index, axis=1)\n",
    "\n",
    "shorten_columns(ale_1d_df, inplace=True)\n",
    "shorten_columns(ale_1d_mc_df, inplace=True)\n",
    "\n",
    "\n",
    "def ale_1d_plot(ax, N_col):\n",
    "    sns.boxplot(data=ale_1d_df.iloc[:, :N_col], ax=ax)\n",
    "    ax.set(ylabel=\"ALE 1D\\n\")\n",
    "\n",
    "\n",
    "def ale_1d_mc_plot(ax, N_col):\n",
    "    sns.boxplot(data=ale_1d_mc_df.iloc[:, :N_col], ax=ax)\n",
    "    ax.set(ylabel=\"ALE 1D MC\\n\")"
   ]
  },
  {
   "cell_type": "code",
   "execution_count": null,
   "metadata": {},
   "outputs": [],
   "source": [
    "fig, axes = plt.subplots(1, 2, figsize=(10, 12))\n",
    "plot_importances(ale_1d_df, ax=axes[0])\n",
    "axes[0].set_title(\"ALE 1D\")\n",
    "plot_importances(ale_1d_mc_df, ax=axes[1])\n",
    "axes[1].set_title(\"ALE 1D MC\")\n",
    "for ax in axes:\n",
    "    ax.set_ylabel(\"\")\n",
    "\n",
    "plt.tight_layout()"
   ]
  },
  {
   "cell_type": "markdown",
   "metadata": {},
   "source": [
    "### ALE 2D - very cursory analysis\n",
    "\n",
    "Does not take into account which of the 2 variables is the one responsible for the interaction."
   ]
  },
  {
   "cell_type": "code",
   "execution_count": null,
   "metadata": {},
   "outputs": [],
   "source": [
    "world_ale_2d_cache = SimpleCache(\"world_ale_2d\", cache_dir=CACHE_DIR)\n",
    "ptp_2d_values = world_ale_2d_cache.load()\n",
    "\n",
    "interaction_data = defaultdict(float)\n",
    "for feature in X_train.columns:\n",
    "    for feature_pair, ptp_2d_value in ptp_2d_values.items():\n",
    "        if feature in feature_pair:\n",
    "            interaction_data[feature] += ptp_2d_value\n",
    "\n",
    "ale_2d_df = pd.DataFrame(interaction_data, index=[\"ALE 2D (PTP)\"])\n",
    "ale_2d_df.columns.name = \"Name\"\n",
    "\n",
    "# Re-index according to the same ordering as for the Gini importances!\n",
    "ale_2d_df.reindex(mean_importances.index, axis=1)\n",
    "\n",
    "shorten_columns(ale_2d_df, inplace=True)\n",
    "\n",
    "\n",
    "def ale_2d_plot(ax, N_col):\n",
    "    sns.boxplot(data=ale_2d_df.iloc[:, :N_col], ax=ax)\n",
    "    ax.set(ylabel=\"ALE 2D\\n\")"
   ]
  },
  {
   "cell_type": "code",
   "execution_count": null,
   "metadata": {},
   "outputs": [],
   "source": [
    "plot_importances(ale_2d_df)"
   ]
  },
  {
   "cell_type": "markdown",
   "metadata": {},
   "source": [
    "### Combining the plots"
   ]
  },
  {
   "cell_type": "code",
   "execution_count": null,
   "metadata": {},
   "outputs": [],
   "source": [
    "N_col = 20\n",
    "\n",
    "plot_funcs = (\n",
    "    gini_plot,\n",
    "    pfi_plot,\n",
    "    shap_plot,\n",
    "    loco_plot,\n",
    "    ale_1d_plot,\n",
    "    ale_1d_mc_plot,\n",
    "    ale_2d_plot,\n",
    "    vif_plot,\n",
    ")\n",
    "\n",
    "fig, axes = plt.subplots(len(plot_funcs), 1, sharex=True, figsize=(7, 20))\n",
    "\n",
    "for plot_func, ax in zip(plot_funcs, axes):\n",
    "    plot_func(ax, N_col)\n",
    "\n",
    "# Rotate the last x axis labels (the only visible ones).\n",
    "axes[-1].set_xticklabels(axes[-1].get_xticklabels(), rotation=45, ha=\"right\")\n",
    "\n",
    "for _ax in axes:\n",
    "    _ax.grid(which=\"major\", alpha=0.4, linestyle=\"--\")\n",
    "    _ax.tick_params(labelleft=False)\n",
    "\n",
    "for _ax in axes[:-1]:\n",
    "    _ax.set_xlabel(\"\")\n",
    "\n",
    "# fig.suptitle(\"Gini, PFI, SHAP, VIF\")\n",
    "plt.tight_layout()\n",
    "plt.subplots_adjust(top=0.91)\n",
    "figure_saver.save_figure(fig, \"feature_importances\")"
   ]
  },
  {
   "cell_type": "code",
   "execution_count": null,
   "metadata": {},
   "outputs": [],
   "source": [
    "importances = {\n",
    "    \"Gini\": ind_trees_gini,\n",
    "    \"PFI\": pfi_ind,\n",
    "    \"SHAP\": mean_shap_importances,\n",
    "    \"LOCO\": loco_df,\n",
    "    \"VIF\": vifs,\n",
    "    \"ALE 1D\": ale_1d_df,\n",
    "    \"ALE 1D MC\": ale_1d_mc_df,\n",
    "    \"ALE 2D\": ale_2d_df,\n",
    "}\n",
    "for key, df in importances.items():\n",
    "    importances[key] = df.mean().sort_values(ascending=False)"
   ]
  },
  {
   "cell_type": "code",
   "execution_count": null,
   "metadata": {},
   "outputs": [],
   "source": [
    "table_str = np.array([df.index.values for df in importances.values()]).T"
   ]
  },
  {
   "cell_type": "code",
   "execution_count": null,
   "metadata": {},
   "outputs": [],
   "source": [
    "fig = plt.figure(figsize=(15, 20))\n",
    "spec = fig.add_gridspec(ncols=2, nrows=1, width_ratios=[3, 1])\n",
    "axes = [fig.add_subplot(s) for s in spec]\n",
    "\n",
    "axes[0].set_axis_off()\n",
    "axes[0].table(\n",
    "    table_str,\n",
    "    loc=\"left\",\n",
    "    rowLabels=range(1, len(table_str) + 1),\n",
    "    bbox=[0, 0, 1, 1],\n",
    "    colLabels=list(importances.keys()),\n",
    ")\n",
    "axes[1].plot(list(importances.values())[0].values, np.linspace(1, 0, len(table_str)))\n",
    "axes[1].yaxis.set_label_position(\"right\")\n",
    "axes[1].yaxis.tick_right()\n",
    "plt.tight_layout()"
   ]
  }
 ],
 "metadata": {
  "kernelspec": {
   "display_name": "Python [conda env:wildfires] *",
   "language": "python",
   "name": "conda-env-wildfires-py"
  }
 },
 "nbformat": 4,
 "nbformat_minor": 4
}
