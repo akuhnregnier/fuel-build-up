{
 "cells": [
  {
   "cell_type": "markdown",
   "metadata": {},
   "source": [
    "## Setup"
   ]
  },
  {
   "cell_type": "code",
   "execution_count": null,
   "metadata": {},
   "outputs": [],
   "source": [
    "from common import *"
   ]
  },
  {
   "cell_type": "markdown",
   "metadata": {},
   "source": [
    "### Get shifted data"
   ]
  },
  {
   "cell_type": "code",
   "execution_count": null,
   "metadata": {},
   "outputs": [],
   "source": [
    "(\n",
    "    e_s_endog_data,\n",
    "    e_s_exog_data,\n",
    "    e_s_master_mask,\n",
    "    e_s_filled_datasets,\n",
    "    e_s_masked_datasets,\n",
    "    e_s_land_mask,\n",
    ") = get_offset_data()"
   ]
  },
  {
   "cell_type": "code",
   "execution_count": null,
   "metadata": {},
   "outputs": [],
   "source": [
    "client = get_client()\n",
    "client"
   ]
  },
  {
   "cell_type": "code",
   "execution_count": null,
   "metadata": {},
   "outputs": [],
   "source": [
    "# Define the training and test data.\n",
    "X_train, X_test, y_train, y_test = train_test_split(\n",
    "    e_s_exog_data, e_s_endog_data, random_state=1, shuffle=True, test_size=0.3\n",
    ")\n",
    "\n",
    "# Define the parameter space.\n",
    "\n",
    "parameters_RF = {\n",
    "    \"n_estimators\": [100, 500, 1000],\n",
    "    \"max_depth\": [5, 9, 12],\n",
    "    \"min_samples_split\": [2, 5, 10],\n",
    "    \"min_samples_leaf\": [1, 4],\n",
    "    \"max_leaf_nodes\": [500, 1500, None],\n",
    "}"
   ]
  }
 ],
 "metadata": {
  "kernelspec": {
   "display_name": "Python [conda env:wildfires] *",
   "language": "python",
   "name": "conda-env-wildfires-python3-ffmpeg"
  }
 },
 "nbformat": 4,
 "nbformat_minor": 4
}
