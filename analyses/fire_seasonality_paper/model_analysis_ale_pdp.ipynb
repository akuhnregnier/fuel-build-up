{
 "cells": [
  {
   "cell_type": "markdown",
   "metadata": {},
   "source": [
    "## Setup"
   ]
  },
  {
   "cell_type": "code",
   "execution_count": null,
   "metadata": {},
   "outputs": [],
   "source": [
    "from common import *"
   ]
  },
  {
   "cell_type": "markdown",
   "metadata": {},
   "source": [
    "### Retrieve previous results from the 'model' notebook"
   ]
  },
  {
   "cell_type": "code",
   "execution_count": null,
   "metadata": {},
   "outputs": [],
   "source": [
    "X_train, X_test, y_train, y_test = data_split_cache.load()\n",
    "results, rf = cross_val_cache.load()"
   ]
  },
  {
   "cell_type": "markdown",
   "metadata": {},
   "source": [
    "#### Get Dask Client"
   ]
  },
  {
   "cell_type": "code",
   "execution_count": null,
   "metadata": {},
   "outputs": [],
   "source": [
    "client = get_client()\n",
    "client"
   ]
  },
  {
   "cell_type": "markdown",
   "metadata": {},
   "source": [
    "## ALE Plotting"
   ]
  },
  {
   "cell_type": "markdown",
   "metadata": {},
   "source": [
    "### Worldwide"
   ]
  },
  {
   "cell_type": "code",
   "execution_count": null,
   "metadata": {},
   "outputs": [],
   "source": [
    "def save_ale_plot_1d(model, X_train, column):\n",
    "    fig, ax = ale_plot(\n",
    "        model,\n",
    "        X_train,\n",
    "        column,\n",
    "        bins=20,\n",
    "        monte_carlo=True,\n",
    "        monte_carlo_rep=10000,\n",
    "        monte_carlo_ratio=100,\n",
    "        plot_quantiles=False,\n",
    "        quantile_axis=True,\n",
    "        rugplot_lim=0,\n",
    "        scilim=0.6,\n",
    "    )\n",
    "    ax.xaxis.set_tick_params(rotation=45)\n",
    "    figure_saver.save_figure(fig, column, sub_directory=\"ale\")\n",
    "\n",
    "\n",
    "# save_ale_plot_1d(rf, X_train[:1000], 'Dry Day Period -12 - 0 Month')\n",
    "\n",
    "# for column in tqdm(\n",
    "#             X_train.columns,\n",
    "#             unit=\"ALE plot\",\n",
    "#             desc=\"Calculating 1D ALE plots\",\n",
    "#             smoothing=0,\n",
    "#             position=0,\n",
    "#         ):\n",
    "#     rf.n_jobs = 30\n",
    "#     save_ale_plot_1d(rf, X_train, column)\n",
    "\n",
    "rf_fut = client.scatter(rf, broadcast=True)\n",
    "X_fut = client.scatter(X_train, broadcast=True)\n",
    "\n",
    "ale_fs = [\n",
    "    client.submit(save_ale_plot_1d, rf_fut, X_fut, column)\n",
    "    #           for column in ['Dry Day Period -12 - 0 Month']\n",
    "    for column in X_train.columns\n",
    "]\n",
    "\n",
    "for ale_f in tqdm(\n",
    "    dask.distributed.as_completed(ale_fs),\n",
    "    total=len(ale_fs),\n",
    "    unit=\"plot\",\n",
    "    desc=\"Calculating 1D ALE plots\",\n",
    "    smoothing=0,\n",
    "    position=0,\n",
    "):\n",
    "    if ale_f.status == \"error\":\n",
    "        print(ale_f.result())"
   ]
  },
  {
   "cell_type": "markdown",
   "metadata": {},
   "source": [
    "## PDP Plotting"
   ]
  },
  {
   "cell_type": "markdown",
   "metadata": {},
   "source": [
    "### Worldwide"
   ]
  },
  {
   "cell_type": "code",
   "execution_count": null,
   "metadata": {},
   "outputs": [],
   "source": [
    "def save_pdp_plot_1d(model, X_train, column):\n",
    "    pdp_isolate_out = pdp.pdp_isolate(\n",
    "        model=rf,\n",
    "        dataset=X_train,\n",
    "        model_features=X_train.columns,\n",
    "        feature=column,\n",
    "        num_grid_points=20,\n",
    "    )\n",
    "    fig, axes = pdp.pdp_plot(\n",
    "        pdp_isolate_out,\n",
    "        column,\n",
    "        plot_lines=True,\n",
    "        frac_to_plot=0.2,\n",
    "        x_quantile=True,\n",
    "        center=True,\n",
    "        figsize=(7, 5),\n",
    "    )\n",
    "    axes[\"pdp_ax\"].xaxis.set_tick_params(rotation=45)\n",
    "    figure_saver.save_figure(fig, column, sub_directory=\"pdp\")\n",
    "\n",
    "\n",
    "rf.n_jobs = 8\n",
    "# save_pdp_plot_1d(rf, X_train[:1000], 'Dry Day Period -12 - 0 Month')\n",
    "\n",
    "rf_fut = client.scatter(rf, broadcast=True)\n",
    "X_fut = client.scatter(X_train, broadcast=True)\n",
    "\n",
    "pdp_fs = [\n",
    "    client.submit(save_pdp_plot_1d, rf_fut, X_fut, column)\n",
    "    #           for column in ['Dry Day Period -12 - 0 Month']\n",
    "    for column in X_train.columns\n",
    "]\n",
    "\n",
    "for pdp_f in tqdm(\n",
    "    dask.distributed.as_completed(pdp_fs),\n",
    "    total=len(pdp_fs),\n",
    "    unit=\"plot\",\n",
    "    desc=\"Calculating 1D PDP plots\",\n",
    "    smoothing=0,\n",
    "    position=0,\n",
    "):\n",
    "    if pdp_f.status == \"error\":\n",
    "        print(pdp_f.result())"
   ]
  }
 ],
 "metadata": {
  "kernelspec": {
   "display_name": "Python [conda env:wildfires] *",
   "language": "python",
   "name": "conda-env-wildfires-py"
  }
 },
 "nbformat": 4,
 "nbformat_minor": 4
}
