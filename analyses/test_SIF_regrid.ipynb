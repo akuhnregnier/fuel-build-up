{
 "cells": [
  {
   "cell_type": "markdown",
   "metadata": {},
   "source": [
    "## When regridding the SIF dataset linearly from 720 to 1440 lons (upsampling), large values appear near masked areas. Why?\n",
    "\n",
    "### Current workaround is in place and works roughly as expected: any values outside of the input range will be masked.\n",
    "\n",
    "Area weighted regridding works correctly."
   ]
  },
  {
   "cell_type": "code",
   "execution_count": null,
   "metadata": {},
   "outputs": [],
   "source": [
    "import logging\n",
    "import os\n",
    "import sys\n",
    "import warnings\n",
    "from collections import namedtuple\n",
    "from itertools import combinations\n",
    "\n",
    "import matplotlib as mpl\n",
    "import matplotlib.pyplot as plt\n",
    "import numpy as np\n",
    "import pandas as pd\n",
    "from alepython import ale_plot\n",
    "from joblib import Memory\n",
    "from loguru import logger as loguru_logger\n",
    "from sklearn.ensemble import RandomForestRegressor\n",
    "from sklearn.model_selection import cross_val_score, train_test_split\n",
    "from tqdm import tqdm\n",
    "\n",
    "import wildfires.analysis\n",
    "from wildfires.analysis import *\n",
    "from wildfires.dask_cx1 import get_client\n",
    "from wildfires.data import *\n",
    "from wildfires.logging_config import enable_logging\n",
    "from wildfires.qstat import get_ncpus\n",
    "from wildfires.utils import *\n",
    "\n",
    "loguru_logger.enable(\"alepython\")\n",
    "loguru_logger.remove()\n",
    "loguru_logger.add(sys.stderr, level=\"WARNING\")\n",
    "\n",
    "logger = logging.getLogger(__name__)\n",
    "\n",
    "enable_logging(\"jupyter\")\n",
    "\n",
    "warnings.filterwarnings(\"ignore\", \".*Collapsing a non-contiguous coordinate.*\")\n",
    "warnings.filterwarnings(\"ignore\", \".*DEFAULT_SPHERICAL_EARTH_RADIUS*\")\n",
    "warnings.filterwarnings(\"ignore\", \".*guessing contiguous bounds*\")\n",
    "\n",
    "normal_coast_linewidth = 0.5\n",
    "mpl.rc(\"figure\", figsize=(14, 6))\n",
    "mpl.rc(\"font\", size=9.0)"
   ]
  },
  {
   "cell_type": "code",
   "execution_count": null,
   "metadata": {},
   "outputs": [],
   "source": [
    "sif = GlobFluo_SIF()"
   ]
  },
  {
   "cell_type": "code",
   "execution_count": null,
   "metadata": {},
   "outputs": [],
   "source": [
    "linear_sif = regrid(sif.cube, area_weighted=False, verbose=True)"
   ]
  },
  {
   "cell_type": "code",
   "execution_count": null,
   "metadata": {},
   "outputs": [],
   "source": [
    "_ = cube_plotting(sif.cube.data.data[4])"
   ]
  },
  {
   "cell_type": "code",
   "execution_count": null,
   "metadata": {},
   "outputs": [],
   "source": [
    "_ = cube_plotting(sif.cube[4])"
   ]
  },
  {
   "cell_type": "code",
   "execution_count": null,
   "metadata": {},
   "outputs": [],
   "source": [
    "unmasked_diff = sif.cube.data.data[4] - sif.cube.data.data[3]\n",
    "min_diff = np.min(unmasked_diff)\n",
    "max_diff = np.max(unmasked_diff)\n",
    "_ = cube_plotting(\n",
    "    unmasked_diff,\n",
    "    title=f\"Unmasked Diff Index 4 - Index 3, Min, Max: {(min_diff, max_diff)}\",\n",
    ")"
   ]
  },
  {
   "cell_type": "code",
   "execution_count": null,
   "metadata": {},
   "outputs": [],
   "source": [
    "_ = cube_plotting(linear_sif.data[4], title=\"SIF - Linear Regridding\")"
   ]
  },
  {
   "cell_type": "code",
   "execution_count": null,
   "metadata": {},
   "outputs": [],
   "source": [
    "_ = cube_plotting(sif.cube.data.mask, title=\"Raw SIF mask\")"
   ]
  },
  {
   "cell_type": "code",
   "execution_count": null,
   "metadata": {},
   "outputs": [],
   "source": [
    "_ = cube_plotting(np.all(sif.cube.data.mask, axis=0), title=\"ALL Raw SIF mask\")"
   ]
  },
  {
   "cell_type": "code",
   "execution_count": null,
   "metadata": {},
   "outputs": [],
   "source": [
    "_ = cube_plotting(\n",
    "    np.all(linear_sif.data.mask, axis=0), title=\"ALL Linear Regridded SIF mask\"\n",
    ")"
   ]
  },
  {
   "cell_type": "markdown",
   "metadata": {},
   "source": [
    "### Test Nearest-Neighbour Regridding"
   ]
  },
  {
   "cell_type": "code",
   "execution_count": null,
   "metadata": {},
   "outputs": [],
   "source": [
    "nn_sif = regrid(sif.cube, verbose=True)"
   ]
  },
  {
   "cell_type": "code",
   "execution_count": null,
   "metadata": {},
   "outputs": [],
   "source": [
    "_ = cube_plotting(nn_sif.data[4], title=\"SIF - Nearest-Neighbour Regridding\")"
   ]
  },
  {
   "cell_type": "code",
   "execution_count": null,
   "metadata": {},
   "outputs": [],
   "source": [
    "_ = cube_plotting(nn_sif, title=\"SIF - Nearest-Neighbour Regridding\")"
   ]
  },
  {
   "cell_type": "code",
   "execution_count": null,
   "metadata": {},
   "outputs": [],
   "source": [
    "print(\n",
    "    \"Max Original:\",\n",
    "    sif.cube.collapsed((\"time\", \"latitude\", \"longitude\"), iris.analysis.MAX).data,\n",
    ")\n",
    "print(\n",
    "    \"Max NN:\",\n",
    "    nn_sif.collapsed((\"time\", \"latitude\", \"longitude\"), iris.analysis.MAX).data,\n",
    ")\n",
    "print(\n",
    "    \"Max Linear:\",\n",
    "    linear_sif.collapsed((\"time\", \"latitude\", \"longitude\"), iris.analysis.MAX).data,\n",
    ")\n",
    "\n",
    "print(\n",
    "    \"Min Original:\",\n",
    "    sif.cube.collapsed((\"time\", \"latitude\", \"longitude\"), iris.analysis.MIN).data,\n",
    ")\n",
    "print(\n",
    "    \"Min NN:\",\n",
    "    nn_sif.collapsed((\"time\", \"latitude\", \"longitude\"), iris.analysis.MIN).data,\n",
    ")\n",
    "print(\n",
    "    \"Min Linear:\",\n",
    "    linear_sif.collapsed((\"time\", \"latitude\", \"longitude\"), iris.analysis.MIN).data,\n",
    ")"
   ]
  }
 ],
 "metadata": {
  "kernelspec": {
   "display_name": "Python [conda env:wildfires] *",
   "language": "python",
   "name": "conda-env-wildfires-py"
  }
 },
 "nbformat": 4,
 "nbformat_minor": 4
}
