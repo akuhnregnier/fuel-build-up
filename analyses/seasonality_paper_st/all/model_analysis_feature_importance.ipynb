{
 "cells": [
  {
   "cell_type": "markdown",
   "metadata": {},
   "source": [
    "## Setup"
   ]
  },
  {
   "cell_type": "code",
   "execution_count": null,
   "metadata": {},
   "outputs": [],
   "source": [
    "from specific import *"
   ]
  },
  {
   "cell_type": "markdown",
   "metadata": {},
   "source": [
    "### Retrieve previous results from the 'model' notebook"
   ]
  },
  {
   "cell_type": "code",
   "execution_count": null,
   "metadata": {},
   "outputs": [],
   "source": [
    "X_train, X_test, y_train, y_test = data_split_cache.load()\n",
    "rf = get_model()"
   ]
  },
  {
   "cell_type": "markdown",
   "metadata": {},
   "source": [
    "### ELI5 Permutation Importances (PFI)"
   ]
  },
  {
   "cell_type": "code",
   "execution_count": null,
   "metadata": {},
   "outputs": [],
   "source": [
    "perm_importance_cache = SimpleCache(\n",
    "    \"perm_importance\", cache_dir=CACHE_DIR, pickler=cloudpickle\n",
    ")\n",
    "\n",
    "# Does not seem to work with the dask parallel backend - it gets bypassed\n",
    "# and every available core on the machine is used up if attempted.\n",
    "\n",
    "\n",
    "@perm_importance_cache\n",
    "def get_perm_importance():\n",
    "    rf.n_jobs = 30\n",
    "    return eli5.sklearn.PermutationImportance(rf).fit(X_train, y_train)\n",
    "\n",
    "\n",
    "# worker = list(client.scheduler_info()['workers'])[0]\n",
    "# perm_importance = client.run(get_perm_importance, workers=[worker])\n",
    "\n",
    "perm_importance = get_perm_importance()\n",
    "perm_df = eli5.explain_weights_df(perm_importance, feature_names=list(X_train.columns))"
   ]
  },
  {
   "cell_type": "markdown",
   "metadata": {},
   "source": [
    "#### VIF Calculation"
   ]
  },
  {
   "cell_type": "code",
   "execution_count": null,
   "metadata": {},
   "outputs": [],
   "source": [
    "train_vif_cache = SimpleCache(\"train_vif\", cache_dir=CACHE_DIR)\n",
    "\n",
    "\n",
    "@train_vif_cache\n",
    "def get_vifs():\n",
    "    return vif(X_train, verbose=True)\n",
    "\n",
    "\n",
    "vifs = get_vifs()\n",
    "vifs = vifs.set_index(\"Name\", drop=True).T"
   ]
  },
  {
   "cell_type": "markdown",
   "metadata": {},
   "source": [
    "#### LOCO Calculation - from the LOCO notebook"
   ]
  },
  {
   "cell_type": "code",
   "execution_count": null,
   "metadata": {},
   "outputs": [],
   "source": [
    "loco_cache = SimpleCache(\"loco_results\", cache_dir=CACHE_DIR)\n",
    "loco_results = loco_cache.load()\n",
    "baseline_mse = loco_results[\"\"][\"mse\"]\n",
    "\n",
    "loco_df = pd.DataFrame(\n",
    "    {\n",
    "        column: [loco_results[column][\"mse\"] - baseline_mse]\n",
    "        for column in loco_results\n",
    "        if column\n",
    "    }\n",
    ")\n",
    "loco_df.columns.name = \"Name\"\n",
    "loco_df.index = [\"LOCO (MSE)\"]"
   ]
  },
  {
   "cell_type": "markdown",
   "metadata": {},
   "source": [
    "## Individual Tree Importances - Gini vs PFI vs SHAP\n",
    "\n",
    "SHAP values are loaded from the shap notebook."
   ]
  },
  {
   "cell_type": "code",
   "execution_count": null,
   "metadata": {},
   "outputs": [],
   "source": [
    "def plot_importances(df, ax=None):\n",
    "    means = df.mean().sort_values(ascending=False)\n",
    "    df = df.reindex(means.index, axis=1)\n",
    "\n",
    "    if ax is None:\n",
    "        fig, ax = plt.subplots(figsize=(5, 12))\n",
    "    ax = sns.boxplot(data=df, orient=\"h\", ax=ax)\n",
    "    ax.grid(which=\"both\")"
   ]
  },
  {
   "cell_type": "markdown",
   "metadata": {},
   "source": [
    "### Gini"
   ]
  },
  {
   "cell_type": "code",
   "execution_count": null,
   "metadata": {},
   "outputs": [],
   "source": [
    "ind_trees_gini = pd.DataFrame(\n",
    "    [tree.feature_importances_ for tree in rf],\n",
    "    columns=X_train.columns,\n",
    ")\n",
    "mean_importances = ind_trees_gini.mean().sort_values(ascending=False)\n",
    "ind_trees_gini = ind_trees_gini.reindex(mean_importances.index, axis=1)\n",
    "shorten_columns(ind_trees_gini, inplace=True)\n",
    "\n",
    "\n",
    "def gini_plot(ax, N_col):\n",
    "    sns.boxplot(data=ind_trees_gini.iloc[:, :N_col], ax=ax)\n",
    "    ax.set(\n",
    "        # title=\"Gini Importances\",\n",
    "        ylabel=\"Gini Importance (MSE)\\n\"\n",
    "    )"
   ]
  },
  {
   "cell_type": "code",
   "execution_count": null,
   "metadata": {},
   "outputs": [],
   "source": [
    "plot_importances(ind_trees_gini)"
   ]
  },
  {
   "cell_type": "markdown",
   "metadata": {},
   "source": [
    "### PFI"
   ]
  },
  {
   "cell_type": "code",
   "execution_count": null,
   "metadata": {},
   "outputs": [],
   "source": [
    "pfi_ind = pd.DataFrame(perm_importance.results_, columns=X_train.columns)\n",
    "\n",
    "# Re-index according to the same ordering as for the Gini importances!\n",
    "pfi_ind = pfi_ind.reindex(mean_importances.index, axis=1)\n",
    "shorten_columns(pfi_ind, inplace=True)\n",
    "\n",
    "\n",
    "def pfi_plot(ax, N_col):\n",
    "    sns.boxplot(data=pfi_ind.iloc[:, :N_col], ax=ax)\n",
    "    ax.set(\n",
    "        # title=\"PFI Importances\",\n",
    "        ylabel=\"PFI Importance\\n\"\n",
    "    )"
   ]
  },
  {
   "cell_type": "code",
   "execution_count": null,
   "metadata": {},
   "outputs": [],
   "source": [
    "plot_importances(pfi_ind)"
   ]
  },
  {
   "cell_type": "markdown",
   "metadata": {},
   "source": [
    "### SHAP"
   ]
  },
  {
   "cell_type": "code",
   "execution_count": null,
   "metadata": {},
   "outputs": [],
   "source": [
    "shap_values = shap_cache.load()\n",
    "\n",
    "mean_abs_shap = np.mean(np.abs(shap_values), axis=0)\n",
    "mean_shap_importances = (\n",
    "    pd.DataFrame(\n",
    "        mean_abs_shap,\n",
    "        index=X_train.columns,\n",
    "        columns=[\"SHAP Importance\"],\n",
    "    )\n",
    "    .sort_values(\"SHAP Importance\", ascending=False)\n",
    "    .T\n",
    ")\n",
    "\n",
    "# Re-index according to the same ordering as for the Gini importances!\n",
    "mean_shap_importances = mean_shap_importances.reindex(mean_importances.index, axis=1)\n",
    "\n",
    "shorten_columns(mean_shap_importances, inplace=True)\n",
    "\n",
    "\n",
    "def shap_plot(ax, N_col):\n",
    "    sns.boxplot(data=mean_shap_importances.iloc[:, :N_col], ax=ax)\n",
    "    ax.set(ylabel=\"SHAP Importance\\n\")"
   ]
  },
  {
   "cell_type": "code",
   "execution_count": null,
   "metadata": {},
   "outputs": [],
   "source": [
    "plot_importances(mean_shap_importances)"
   ]
  },
  {
   "cell_type": "markdown",
   "metadata": {},
   "source": [
    "### LOCO"
   ]
  },
  {
   "cell_type": "code",
   "execution_count": null,
   "metadata": {},
   "outputs": [],
   "source": [
    "loco_df = loco_df.reindex(mean_importances.index, axis=1)\n",
    "\n",
    "shorten_columns(loco_df, inplace=True)\n",
    "\n",
    "\n",
    "def loco_plot(ax, N_col):\n",
    "    sns.boxplot(data=loco_df.iloc[:, :N_col], ax=ax)\n",
    "    ax.set(ylabel=\"LOCO (MSE)\\n\")"
   ]
  },
  {
   "cell_type": "code",
   "execution_count": null,
   "metadata": {},
   "outputs": [],
   "source": [
    "plot_importances(loco_df)"
   ]
  },
  {
   "cell_type": "markdown",
   "metadata": {},
   "source": [
    "### VIF"
   ]
  },
  {
   "cell_type": "code",
   "execution_count": null,
   "metadata": {},
   "outputs": [],
   "source": [
    "# Re-index according to the same ordering as for the Gini importances!\n",
    "vifs = vifs.reindex(mean_importances.index, axis=1)\n",
    "\n",
    "shorten_columns(vifs, inplace=True)\n",
    "\n",
    "\n",
    "def vif_plot(ax, N_col):\n",
    "    sns.boxplot(data=vifs.iloc[:, :N_col], ax=ax)\n",
    "    ax.set(ylabel=\"VIF\\n\")"
   ]
  },
  {
   "cell_type": "code",
   "execution_count": null,
   "metadata": {},
   "outputs": [],
   "source": [
    "plot_importances(vifs)"
   ]
  },
  {
   "cell_type": "markdown",
   "metadata": {},
   "source": [
    "### ALE 1D"
   ]
  },
  {
   "cell_type": "code",
   "execution_count": null,
   "metadata": {},
   "outputs": [],
   "source": [
    "world_ale_1d_cache = SimpleCache(\"world_ale_1d\", cache_dir=CACHE_DIR)\n",
    "ptp_values, mc_ptp_values = world_ale_1d_cache.load()\n",
    "\n",
    "ale_1d_df = pd.DataFrame(ptp_values, index=[\"ALE 1D (PTP)\"])\n",
    "ale_1d_df.columns.name = \"Name\"\n",
    "\n",
    "ale_1d_mc_df = pd.DataFrame(mc_ptp_values, index=[\"ALE 1D MC (PTP)\"])\n",
    "ale_1d_mc_df.columns.name = \"Name\"\n",
    "\n",
    "# Re-index according to the same ordering as for the Gini importances!\n",
    "ale_1d_df.reindex(mean_importances.index, axis=1)\n",
    "ale_1d_mc_df.reindex(mean_importances.index, axis=1)\n",
    "\n",
    "shorten_columns(ale_1d_df, inplace=True)\n",
    "shorten_columns(ale_1d_mc_df, inplace=True)\n",
    "\n",
    "\n",
    "def ale_1d_plot(ax, N_col):\n",
    "    sns.boxplot(data=ale_1d_df.iloc[:, :N_col], ax=ax)\n",
    "    ax.set(ylabel=\"ALE 1D\\n\")\n",
    "\n",
    "\n",
    "def ale_1d_mc_plot(ax, N_col):\n",
    "    sns.boxplot(data=ale_1d_mc_df.iloc[:, :N_col], ax=ax)\n",
    "    ax.set(ylabel=\"ALE 1D MC\\n\")"
   ]
  },
  {
   "cell_type": "code",
   "execution_count": null,
   "metadata": {},
   "outputs": [],
   "source": [
    "fig, axes = plt.subplots(1, 2, figsize=(10, 12))\n",
    "plot_importances(ale_1d_df, ax=axes[0])\n",
    "axes[0].set_title(\"ALE 1D\")\n",
    "plot_importances(ale_1d_mc_df, ax=axes[1])\n",
    "axes[1].set_title(\"ALE 1D MC\")\n",
    "for ax in axes:\n",
    "    ax.set_ylabel(\"\")\n",
    "\n",
    "plt.tight_layout()"
   ]
  },
  {
   "cell_type": "markdown",
   "metadata": {},
   "source": [
    "### ALE 2D - very cursory analysis\n",
    "\n",
    "Does not take into account which of the 2 variables is the one responsible for the interaction."
   ]
  },
  {
   "cell_type": "code",
   "execution_count": null,
   "metadata": {},
   "outputs": [],
   "source": [
    "world_ale_2d_cache = SimpleCache(\"world_ale_2d\", cache_dir=CACHE_DIR)\n",
    "ptp_2d_values = world_ale_2d_cache.load()\n",
    "\n",
    "interaction_data = defaultdict(float)\n",
    "for feature in X_train.columns:\n",
    "    for feature_pair, ptp_2d_value in ptp_2d_values.items():\n",
    "        if feature in feature_pair:\n",
    "            interaction_data[feature] += ptp_2d_value\n",
    "\n",
    "ale_2d_df = pd.DataFrame(interaction_data, index=[\"ALE 2D (PTP)\"])\n",
    "ale_2d_df.columns.name = \"Name\"\n",
    "\n",
    "# Re-index according to the same ordering as for the Gini importances!\n",
    "ale_2d_df.reindex(mean_importances.index, axis=1)\n",
    "\n",
    "shorten_columns(ale_2d_df, inplace=True)\n",
    "\n",
    "\n",
    "def ale_2d_plot(ax, N_col):\n",
    "    sns.boxplot(data=ale_2d_df.iloc[:, :N_col], ax=ax)\n",
    "    ax.set(ylabel=\"ALE 2D\\n\")"
   ]
  },
  {
   "cell_type": "code",
   "execution_count": null,
   "metadata": {},
   "outputs": [],
   "source": [
    "plot_importances(ale_2d_df)"
   ]
  },
  {
   "cell_type": "markdown",
   "metadata": {},
   "source": [
    "### Combining the plots"
   ]
  },
  {
   "cell_type": "code",
   "execution_count": null,
   "metadata": {},
   "outputs": [],
   "source": [
    "N_col = 20\n",
    "\n",
    "plot_funcs = (\n",
    "    gini_plot,\n",
    "    pfi_plot,\n",
    "    shap_plot,\n",
    "    loco_plot,\n",
    "    #     ale_1d_plot,\n",
    "    #     ale_1d_mc_plot,\n",
    "    #     ale_2d_plot,\n",
    "    #     vif_plot,\n",
    ")\n",
    "\n",
    "fig, axes = plt.subplots(\n",
    "    len(plot_funcs), 1, sharex=True, figsize=(7, 1.8 + 2 * len(plot_funcs))\n",
    ")\n",
    "\n",
    "for plot_func, ax in zip(plot_funcs, axes):\n",
    "    plot_func(ax, N_col)\n",
    "\n",
    "# Rotate the last x axis labels (the only visible ones).\n",
    "axes[-1].set_xticklabels(axes[-1].get_xticklabels(), rotation=45, ha=\"right\")\n",
    "\n",
    "for _ax in axes:\n",
    "    _ax.grid(which=\"major\", alpha=0.4, linestyle=\"--\")\n",
    "    _ax.tick_params(labelleft=False)\n",
    "    _ax.yaxis.get_major_formatter().set_scientific(False)\n",
    "\n",
    "for _ax in axes[:-1]:\n",
    "    _ax.set_xlabel(\"\")\n",
    "\n",
    "# fig.suptitle(\"Gini, PFI, SHAP, VIF\")\n",
    "plt.tight_layout()\n",
    "plt.subplots_adjust(top=0.91)\n",
    "figure_saver.save_figure(\n",
    "    fig,\n",
    "    \"_\".join(\n",
    "        (\n",
    "            \"feature_importances\",\n",
    "            *(func.__name__.split(\"_plot\")[0] for func in plot_funcs),\n",
    "        )\n",
    "    ),\n",
    ")"
   ]
  },
  {
   "cell_type": "code",
   "execution_count": null,
   "metadata": {},
   "outputs": [],
   "source": [
    "importances = {\n",
    "    \"Gini\": ind_trees_gini,\n",
    "    \"PFI\": pfi_ind,\n",
    "    \"SHAP\": mean_shap_importances,\n",
    "    \"LOCO\": loco_df,\n",
    "    \"ALE 1D\": ale_1d_df,\n",
    "    \"ALE 1D MC\": ale_1d_mc_df,\n",
    "    \"ALE 2D\": ale_2d_df,\n",
    "    \"VIF\": vifs,\n",
    "}\n",
    "for key, df in importances.items():\n",
    "    importances[key] = df.mean().sort_values(ascending=False)"
   ]
  },
  {
   "cell_type": "code",
   "execution_count": null,
   "metadata": {},
   "outputs": [],
   "source": [
    "table_str = np.array([df.index.values for df in importances.values()]).T"
   ]
  },
  {
   "cell_type": "code",
   "execution_count": null,
   "metadata": {},
   "outputs": [],
   "source": [
    "def transform(x):\n",
    "    \"\"\"Transform x to be in [0, 1].\"\"\"\n",
    "    x = np.asanyarray(x)\n",
    "    x = x - np.min(x)\n",
    "    return x / np.max(x)"
   ]
  },
  {
   "cell_type": "code",
   "execution_count": null,
   "metadata": {},
   "outputs": [],
   "source": [
    "# 4 groups of variables - vegetation, landcover, human, meteorological\n",
    "\n",
    "divisions = {\n",
    "    \"vegetation\": (70, 150),  # 4 + 4 x 7: 32.\n",
    "    \"landcover\": (150, 230),  # 4: 4.\n",
    "    \"human\": (230, 270),  #  2: 2.\n",
    "    \"meteorology\": (270, 430),  # 5 + 7: 12.\n",
    "}\n",
    "\n",
    "division_members = {\n",
    "    \"vegetation\": 4,\n",
    "    \"landcover\": 4,\n",
    "    \"human\": 2,\n",
    "    \"meteorology\": 5,\n",
    "}\n",
    "\n",
    "division_names = {\n",
    "    category: shorten_features(features)\n",
    "    for category, features in feature_categories.items()\n",
    "}\n",
    "\n",
    "var_keys = []\n",
    "var_H_vals = []\n",
    "factors = []\n",
    "\n",
    "for division in divisions:\n",
    "    var_keys.extend(division_names[division])\n",
    "    var_H_vals.extend(\n",
    "        np.linspace(\n",
    "            *divisions[division], division_members[\"vegetation\"], endpoint=False\n",
    "        )\n",
    "        % 360\n",
    "    )\n",
    "    factors.extend(np.linspace(0, 1, division_members[\"vegetation\"]))\n",
    "\n",
    "\n",
    "shifts = [0, 1, 3, 6, 9, 12, 18, 24]\n",
    "\n",
    "\n",
    "def combined_get_colors(x):\n",
    "    assert len(x.shape) == 2\n",
    "    out = []\n",
    "    for x_i in x:\n",
    "        out.append([])\n",
    "        for x_ij in x_i:\n",
    "            match_obj = re.search(\"(.*)\\s.{,1}(\\d+)M\", x_ij)\n",
    "            if match_obj:\n",
    "                x_ij_mod = match_obj.group(1)\n",
    "                shift = int(match_obj.group(2))\n",
    "            else:\n",
    "                x_ij_mod = x_ij\n",
    "                shift = 0\n",
    "            index = var_keys.index(x_ij_mod)\n",
    "            H = var_H_vals[index]\n",
    "            S = 1.0 - 0.3 * (shifts.index(shift) / (len(shifts) - 1))\n",
    "            V = 0.85 - 0.55 * (shifts.index(shift) / (len(shifts) - 1))\n",
    "\n",
    "            S -= factors[index] * 0.2\n",
    "            V -= factors[index] * 0.06\n",
    "\n",
    "            out[-1].append(hsluv_to_rgb((H, S * 100, V * 100)))\n",
    "    return out\n",
    "\n",
    "\n",
    "# Define separate functions for each of the categories on their own.\n",
    "ind_get_color_funcs = []\n",
    "for division in divisions:\n",
    "\n",
    "    def get_colors(x, division=division):\n",
    "        assert len(x.shape) == 2\n",
    "        out = []\n",
    "        for x_i in x:\n",
    "            out.append([])\n",
    "            for x_ij in x_i:\n",
    "                match_obj = re.search(\"(.*)\\s.{,1}(\\d+)M\", x_ij)\n",
    "                if match_obj:\n",
    "                    x_ij_mod = match_obj.group(1)\n",
    "                    shift = int(match_obj.group(2))\n",
    "                else:\n",
    "                    x_ij_mod = x_ij\n",
    "                    shift = 0\n",
    "\n",
    "                if x_ij_mod not in division_names[division]:\n",
    "                    out[-1].append((1, 1, 1))\n",
    "                else:\n",
    "                    index = division_names[division].index(x_ij_mod)\n",
    "                    desat = 0.85 - 0.7 * (shifts.index(shift) / (len(shifts) - 1))\n",
    "                    out[-1].append(\n",
    "                        sns.color_palette(\n",
    "                            \"Set1\", n_colors=division_members[division], desat=desat\n",
    "                        )[index]\n",
    "                    )\n",
    "        return out\n",
    "\n",
    "    ind_get_color_funcs.append(get_colors)\n",
    "\n",
    "\n",
    "for get_colors, suffix in zip(\n",
    "    (combined_get_colors, *ind_get_color_funcs),\n",
    "    (\"combined\", *divisions),\n",
    "):\n",
    "    fig = plt.figure(figsize=(12, 18))\n",
    "    spec = fig.add_gridspec(ncols=2, nrows=1, width_ratios=[3, 1])\n",
    "    axes = [fig.add_subplot(s) for s in spec]\n",
    "\n",
    "    def table_importance_plot(x, **kwargs):\n",
    "        axes[1].plot(transform(x), np.linspace(1, 0, len(table_str)), **kwargs)\n",
    "\n",
    "    axes[0].set_axis_off()\n",
    "    table = axes[0].table(\n",
    "        table_str,\n",
    "        loc=\"left\",\n",
    "        rowLabels=range(1, len(table_str) + 1),\n",
    "        bbox=[0, 0, 1, 1],\n",
    "        colLabels=list(importances.keys()),\n",
    "        cellColours=get_colors(table_str),\n",
    "    )\n",
    "    table.auto_set_font_size(False)\n",
    "    table.set_fontsize(8)\n",
    "\n",
    "    color_dict = {\n",
    "        \"Gini\": \"C0\",\n",
    "        \"PFI\": \"C1\",\n",
    "        \"SHAP\": \"C2\",\n",
    "        \"LOCO\": \"C3\",\n",
    "        \"ALE 1D\": \"C4\",\n",
    "        \"ALE 1D MC\": \"C4\",\n",
    "        \"ALE 2D\": \"C4\",\n",
    "        \"VIF\": \"C5\",\n",
    "    }\n",
    "\n",
    "    ls_dict = {\n",
    "        \"Gini\": \"-\",\n",
    "        \"PFI\": \"-\",\n",
    "        \"SHAP\": \"-\",\n",
    "        \"LOCO\": \"-\",\n",
    "        \"ALE 1D\": \"-\",\n",
    "        \"ALE 1D MC\": \"--\",\n",
    "        \"ALE 2D\": \"-.\",\n",
    "        \"VIF\": \"-\",\n",
    "    }\n",
    "\n",
    "    for (importance_measure, importance_values), marker in zip(\n",
    "        importances.items(),\n",
    "        [\"+\", \"x\", \"|\", \"_\", \"1\", \"2\", \"3\", \"4\", \"d\"],\n",
    "    ):\n",
    "        table_importance_plot(\n",
    "            importance_values,\n",
    "            label=importance_measure,\n",
    "            marker=marker,\n",
    "            c=color_dict[importance_measure],\n",
    "            ls=ls_dict[importance_measure],\n",
    "            ms=8,\n",
    "        )\n",
    "\n",
    "    axes[1].yaxis.set_label_position(\"right\")\n",
    "    axes[1].yaxis.tick_right()\n",
    "\n",
    "    cell_height = 1 / (table_str.shape[0] + 1)\n",
    "    axes[1].set_ylim(-cell_height / 2, 1 + (3 / 2) * cell_height)\n",
    "    axes[1].set_yticks(np.linspace(1, 0, table_str.shape[0]))\n",
    "    axes[1].set_yticklabels(range(1, table_str.shape[0] + 1))\n",
    "\n",
    "    axes[1].set_xlim(0, 1)\n",
    "    axes[1].set_xticks([0, 1])\n",
    "    axes[1].set_xticklabels([0, 1])\n",
    "\n",
    "    axes[1].set_xticks(np.linspace(0, 1, 8), minor=True)\n",
    "\n",
    "    axes[1].grid(alpha=0.4, linestyle=\"--\")\n",
    "    axes[1].grid(which=\"minor\", axis=\"x\", alpha=0.4, linestyle=\"--\")\n",
    "\n",
    "    axes[1].legend(loc=\"best\")\n",
    "\n",
    "    plt.tight_layout()\n",
    "\n",
    "    figure_saver.save_figure(\n",
    "        fig, \"_\".join((\"feature_importance_breakdown\", suffix)).strip(\"_\")\n",
    "    )"
   ]
  },
  {
   "cell_type": "code",
   "execution_count": null,
   "metadata": {},
   "outputs": [],
   "source": [
    "unique_str = np.unique(table_str)\n",
    "colors = get_colors(unique_str.reshape(1, -1))[0]"
   ]
  },
  {
   "cell_type": "code",
   "execution_count": null,
   "metadata": {},
   "outputs": [],
   "source": [
    "def hsluv_conv(hsv):\n",
    "    out = []\n",
    "    for x_i in hsv:\n",
    "        out.append([])\n",
    "        for x_ij in x_i:\n",
    "            out[-1].append(hsluv_to_rgb(x_ij))\n",
    "    return np.array(out)\n",
    "\n",
    "\n",
    "V, H = np.mgrid[0:1:100j, 0:1:100j]\n",
    "S = np.ones_like(V) * 1\n",
    "HSV = np.dstack((H * 360, S * 100, V * 100))\n",
    "RGB = hsluv_conv(HSV)\n",
    "\n",
    "plt.figure(figsize=(20, 20))\n",
    "plt.imshow(RGB, origin=\"lower\", extent=[0, 360, 0, 100], aspect=2)\n",
    "plt.xlabel(\"H\")\n",
    "plt.ylabel(\"V\")\n",
    "\n",
    "for color in colors:\n",
    "    h, s, v = rgb_to_hsluv(color)\n",
    "    for (division, values), marker in zip(divisions.items(), [\"+\", \"x\", \"_\", \"|\"]):\n",
    "        if (values[0] - 1e-5) < h and h < (values[1] + 1e-5):\n",
    "            break\n",
    "    plt.plot(h, v, marker=marker, linestyle=\"\", c=\"k\")"
   ]
  },
  {
   "cell_type": "markdown",
   "metadata": {},
   "source": [
    "## Choose the 15 most important features using the above metrics"
   ]
  },
  {
   "cell_type": "code",
   "execution_count": null,
   "metadata": {},
   "outputs": [],
   "source": [
    "list(importances)"
   ]
  },
  {
   "cell_type": "code",
   "execution_count": null,
   "metadata": {},
   "outputs": [],
   "source": [
    "methods = [\"Gini\", \"PFI\", \"LOCO\", \"SHAP\"]\n",
    "combined = plot_and_list_importances(importances, methods, N=None)\n",
    "\n",
    "print(\"Top 15:\\n\")\n",
    "print(\"\\n\".join(list(combined[:15].index)))\n",
    "\n",
    "no_veg = [\n",
    "    c\n",
    "    for c in list(combined.index)\n",
    "    if not any(veg in c for veg in shorten_features(feature_categories[\"vegetation\"]))\n",
    "]\n",
    "print(f\"\\nAll without vegetation: {len(no_veg)}\\n\")\n",
    "print(\"\\n\".join(no_veg))\n",
    "\n",
    "short_lags = [l for l in lags if int(l) < 12]\n",
    "\n",
    "n_remain = 15 - len(short_lags)\n",
    "print(\"\\nN short lags:\", len(short_lags), \"\\n\")\n",
    "\n",
    "print(f\"\\nTop {n_remain} without vegetation:\\n\")\n",
    "print(\"\\n\".join(no_veg[:n_remain]))"
   ]
  },
  {
   "cell_type": "code",
   "execution_count": null,
   "metadata": {},
   "outputs": [],
   "source": [
    "c2 = combined.reset_index()\n",
    "c2.columns = [\"Variable\", \"Importance\"]\n",
    "c2.index = list(range(1, len(c2.index) + 1))\n",
    "with shelve.open(fi_shelve_file) as db:\n",
    "    db[PROJECT_DIR.name] = c2\n",
    "c2"
   ]
  }
 ],
 "metadata": {
  "kernelspec": {
   "display_name": "Python [conda env:wildfires]",
   "language": "python",
   "name": "conda-env-wildfires-py"
  }
 },
 "nbformat": 4,
 "nbformat_minor": 4
}
