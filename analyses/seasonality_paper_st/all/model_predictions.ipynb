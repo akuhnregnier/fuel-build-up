{
 "cells": [
  {
   "cell_type": "markdown",
   "metadata": {},
   "source": [
    "## Setup"
   ]
  },
  {
   "cell_type": "code",
   "execution_count": null,
   "metadata": {},
   "outputs": [],
   "source": [
    "from specific import *\n",
    "\n",
    "exp_name = experiment_name_dict[PROJECT_DIR.name]"
   ]
  },
  {
   "cell_type": "markdown",
   "metadata": {},
   "source": [
    "### Get shifted data"
   ]
  },
  {
   "cell_type": "code",
   "execution_count": null,
   "metadata": {},
   "outputs": [],
   "source": [
    "(\n",
    "    endog_data,\n",
    "    exog_data,\n",
    "    master_mask,\n",
    "    filled_datasets,\n",
    "    masked_datasets,\n",
    "    land_mask,\n",
    ") = get_offset_data()"
   ]
  },
  {
   "cell_type": "markdown",
   "metadata": {},
   "source": [
    "### Retrieve previous results from the 'model' notebook"
   ]
  },
  {
   "cell_type": "code",
   "execution_count": null,
   "metadata": {},
   "outputs": [],
   "source": [
    "X_train, X_val, y_train, y_val = data_split_cache.load()\n",
    "rf = get_model()\n",
    "masked_train_data = get_mm_data(y_train.values, master_mask, \"train\")\n",
    "masked_val_data = get_mm_data(y_val.values, master_mask, \"val\")"
   ]
  },
  {
   "cell_type": "markdown",
   "metadata": {},
   "source": [
    "### Predict out-of-sample BA"
   ]
  },
  {
   "cell_type": "code",
   "execution_count": null,
   "metadata": {},
   "outputs": [],
   "source": [
    "n_threads = get_ncpus()\n",
    "rf.n_jobs = n_threads\n",
    "with parallel_backend(\"threading\", n_jobs=n_threads):\n",
    "    predicted_ba = get_mm_data(rf.predict(X_val), master_mask, \"val\")"
   ]
  },
  {
   "cell_type": "markdown",
   "metadata": {},
   "source": [
    "### Histogram of Predictions vs. Observations"
   ]
  },
  {
   "cell_type": "code",
   "execution_count": null,
   "metadata": {},
   "outputs": [],
   "source": [
    "f_pred = get_unmasked(predicted_ba)\n",
    "f_obs = get_unmasked(masked_val_data)\n",
    "assert f_pred.shape == f_obs.shape\n",
    "print(\"N samples:\", f_pred.shape)\n",
    "print(f\"Mean out-of-sample obs.: {np.mean(f_obs):0.2e}\")\n",
    "print(f\"Mean out-of-sample pred.: {np.mean(f_pred):0.2e}\")\n",
    "print(f\"Min out-of-sample obs.: {np.min(f_obs):0.2e}\")\n",
    "print(f\"Min out-of-sample pred.: {np.min(f_pred):0.2e}\")\n",
    "print(f\"Max out-of-sample obs.: {np.max(f_obs):0.2e}\")\n",
    "print(f\"Max out-of-sample pred.: {np.max(f_pred):0.2e}\")"
   ]
  },
  {
   "cell_type": "code",
   "execution_count": null,
   "metadata": {},
   "outputs": [],
   "source": [
    "dict(zip(*np.unique(f_obs[f_obs < np.min(f_pred)], return_counts=True))).items()"
   ]
  },
  {
   "cell_type": "code",
   "execution_count": null,
   "metadata": {},
   "outputs": [],
   "source": [
    "{\n",
    "    key: format(val, \"e\")\n",
    "    for key, val in dict(\n",
    "        zip(*np.unique(f_obs[f_obs < np.min(f_pred)], return_counts=True))\n",
    "    ).items()\n",
    "}"
   ]
  },
  {
   "cell_type": "code",
   "execution_count": null,
   "metadata": {},
   "outputs": [],
   "source": [
    "dict(zip(*np.unique(f_obs[f_obs < np.min(f_pred)], return_counts=True)))[\n",
    "    0.0\n",
    "] / f_pred.shape[0]"
   ]
  },
  {
   "cell_type": "code",
   "execution_count": null,
   "metadata": {},
   "outputs": [],
   "source": [
    "fig, axes = plt.subplots(\n",
    "    1, 2, sharey=True, gridspec_kw=dict(width_ratios=[0.07, 1]), figsize=(7, 4)\n",
    ")\n",
    "\n",
    "lower_range_lim = 2.2e-5\n",
    "\n",
    "axes[0].hist(\n",
    "    np.hstack((f_obs.reshape(-1, 1), f_pred.reshape(-1, 1))),\n",
    "    bins=[0, lower_range_lim],\n",
    "    histtype=\"bar\",\n",
    "    label=[\"Obs.\", \"Pred.\"],\n",
    ")\n",
    "axes[0].set_xlim(0, 2.1e-5)\n",
    "\n",
    "\n",
    "@ticker.FuncFormatter\n",
    "def major_formatter(x, pos):\n",
    "    if x == 0:\n",
    "        return 0\n",
    "    exp = math.floor(np.log10(x))\n",
    "    coeff = x / 10 ** exp\n",
    "    if coeff.is_integer():\n",
    "        coeff = round(coeff)\n",
    "        if coeff == 1:\n",
    "            return fr\"$10^{ {exp}}$\"\n",
    "        return fr\"${coeff} \\times 10^{ {exp}}$\"\n",
    "    return f\"{x:0.1e}\"\n",
    "\n",
    "\n",
    "axes[0].xaxis.set_major_formatter(major_formatter)\n",
    "\n",
    "\n",
    "axes[1].hist(\n",
    "    np.hstack((f_obs.reshape(-1, 1), f_pred.reshape(-1, 1))),\n",
    "    bins=np.geomspace(lower_range_lim, max(np.max(f_pred), np.max(f_obs)), num=15),\n",
    "    histtype=\"bar\",\n",
    "    label=[\"Obs.\", \"Pred.\"],\n",
    ")\n",
    "axes[1].set_xscale(\"log\")\n",
    "axes[1].set_xlim(2e-5, 1)\n",
    "\n",
    "for ax in axes:\n",
    "    ax.set_yscale(\"log\")\n",
    "    ax.grid(alpha=0.4, linestyle=\"--\")\n",
    "    ax.set_ylim(3e1, 6e5)\n",
    "\n",
    "axes[1].legend(loc=\"best\")\n",
    "\n",
    "axes[0].set_ylabel(f\"counts (out-of-sample, {exp_name} model)\")\n",
    "axes[1].set_xlabel(\"BA\")\n",
    "\n",
    "fig.tight_layout(w_pad=-1.6)\n",
    "figure_saver.save_figure(fig, \"obs_pred_hist\", sub_directory=\"predictions\")"
   ]
  },
  {
   "cell_type": "code",
   "execution_count": null,
   "metadata": {},
   "outputs": [],
   "source": [
    "with figure_saver(\"obs_pred_comp\", sub_directory=\"predictions\"):\n",
    "    cube_plotting(\n",
    "        np.mean(masked_val_data - predicted_ba, axis=0),\n",
    "        fig=plt.figure(figsize=(5.1, 2.3)),\n",
    "        cmap=\"BrBG\",\n",
    "        cmap_midpoint=0,\n",
    "        cmap_symmetric=False,\n",
    "        boundaries=[-0.01, -0.001, -1e-4, 0, 0.001, 0.01, 0.02],\n",
    "        colorbar_kwargs=dict(\n",
    "            label=\"Ob. - Pr.\",\n",
    "        ),\n",
    "        title=\"\",\n",
    "    )"
   ]
  },
  {
   "cell_type": "code",
   "execution_count": null,
   "metadata": {},
   "outputs": [],
   "source": [
    "_ = cube_plotting(\n",
    "    np.mean(masked_val_data - predicted_ba, axis=0) / np.mean(masked_val_data, axis=0),\n",
    "    cmap=\"brewer_RdYlBu_11\",\n",
    "    cmap_symmetric=False,\n",
    "    boundaries=[-5, -4, -3, -2, 0, 1e-2, 1e-1],\n",
    "    cmap_midpoint=0,\n",
    ")"
   ]
  },
  {
   "cell_type": "code",
   "execution_count": null,
   "metadata": {},
   "outputs": [],
   "source": [
    "ba_plotting(predicted_ba, masked_val_data, figure_saver)"
   ]
  },
  {
   "cell_type": "code",
   "execution_count": null,
   "metadata": {},
   "outputs": [],
   "source": [
    "u_pre = get_unmasked(predicted_ba)\n",
    "u_val = get_unmasked(masked_val_data)\n",
    "\n",
    "min_non_zero_val = u_val[u_val > 0].min()\n",
    "\n",
    "x_edges = np.append(0, np.geomspace(min_non_zero_val, 1, 100))\n",
    "y_edges = np.geomspace(np.min(f_pred), np.max(f_pred), 100 + 1)\n",
    "\n",
    "h = np.histogram2d(u_val, u_pre, bins=[x_edges, y_edges])[0]\n",
    "\n",
    "fig, ax = plt.subplots(figsize=(6, 4), dpi=100)\n",
    "img = ax.pcolor(\n",
    "    x_edges,\n",
    "    y_edges,\n",
    "    h.T,\n",
    "    norm=LogNorm(),\n",
    ")\n",
    "\n",
    "# Plot diagonal 1:1 line.\n",
    "plt.plot(\n",
    "    *(np.linspace(max(min(u_val), min(u_pre)), min(max(u_val), max(u_pre)), 50),) * 2,\n",
    "    linestyle=\"--\",\n",
    "    c=\"C3\",\n",
    "    lw=2\n",
    ")\n",
    "\n",
    "ax.set_xscale(\"symlog\", linthresh=min_non_zero_val, linscale=2e-1, subs=range(2, 10))\n",
    "ax.set_yscale(\"log\")\n",
    "\n",
    "spacing = 5\n",
    "\n",
    "\n",
    "def offset_simple_sci_format(x, *args, **kwargs):\n",
    "\n",
    "    canon = simple_sci_format(x, *args, **kwargs)\n",
    "    if np.isclose(x, 1e-5):\n",
    "        return \" \" * spacing + canon\n",
    "    elif np.isclose(x, 0):\n",
    "        return canon + \" \" * spacing\n",
    "    return canon\n",
    "\n",
    "\n",
    "ax.xaxis.set_major_formatter(\n",
    "    ticker.FuncFormatter(lambda x, pos: offset_simple_sci_format(x))\n",
    ")\n",
    "ax.yaxis.set_major_formatter(ticker.FuncFormatter(lambda x, pos: simple_sci_format(x)))\n",
    "\n",
    "ax.set_xlabel(\"Observed (BA)\")\n",
    "ax.set_ylabel(\"Predicted (BA)\")\n",
    "\n",
    "ax.grid()\n",
    "ax.set_axisbelow(True)\n",
    "\n",
    "fig.colorbar(\n",
    "    img,\n",
    "    shrink=0.7,\n",
    "    aspect=30,\n",
    "    format=ticker.FuncFormatter(lambda x, pos: simple_sci_format(x)),\n",
    "    pad=0.02,\n",
    "    label=\"samples\",\n",
    ")\n",
    "figure_saver.save_figure(plt.gcf(), \"obs_pred_bin\", sub_directory=\"predictions\")"
   ]
  },
  {
   "cell_type": "code",
   "execution_count": null,
   "metadata": {},
   "outputs": [],
   "source": [
    "u_val = get_unmasked(masked_val_data)\n",
    "u_pre = get_unmasked(predicted_ba)\n",
    "\n",
    "mask = np.isclose(u_val, 0) | np.isclose(u_pre, 0)\n",
    "u_val = u_val[~mask]\n",
    "u_pre = u_pre[~mask]\n",
    "\n",
    "plt.figure(figsize=(6, 4), dpi=200)\n",
    "plt.hexbin(u_val, u_pre, bins=\"log\", xscale=\"log\", yscale=\"log\")\n",
    "\n",
    "# Plot diagonal 1:1 line.\n",
    "plt.plot(\n",
    "    *(np.linspace(max(min(u_val), min(u_pre)), min(max(u_val), max(u_pre)), 50),) * 2,\n",
    "    linestyle=\"--\",\n",
    "    c=\"C3\",\n",
    "    lw=2\n",
    ")\n",
    "\n",
    "plt.gca().xaxis.set_major_formatter(\n",
    "    ticker.FuncFormatter(lambda x, pos: simple_sci_format(x))\n",
    ")\n",
    "plt.gca().yaxis.set_major_formatter(\n",
    "    ticker.FuncFormatter(lambda x, pos: simple_sci_format(x))\n",
    ")\n",
    "\n",
    "plt.xlabel(\"Observed (BA)\")\n",
    "plt.ylabel(\"Predicted (BA)\")\n",
    "plt.colorbar(\n",
    "    shrink=0.7,\n",
    "    aspect=30,\n",
    "    format=ticker.FuncFormatter(lambda x, pos: simple_sci_format(x)),\n",
    "    pad=0.02,\n",
    "    label=\"samples\",\n",
    ")\n",
    "# figure_saver.save_figure(plt.gcf(), \"obs_pred_bin\", sub_directory=\"predictions\")"
   ]
  },
  {
   "cell_type": "markdown",
   "metadata": {},
   "source": [
    "### Example timeseries"
   ]
  },
  {
   "cell_type": "code",
   "execution_count": null,
   "metadata": {},
   "outputs": [],
   "source": [
    "# valid_indices = list(zip(*np.where(np.sum(~predicted_ba.mask, axis=0) > 5)))\n",
    "valid_indices = list(\n",
    "    zip(\n",
    "        *np.where(\n",
    "            (np.max(predicted_ba.data, axis=0) > 0.1)\n",
    "            & (np.sum(~predicted_ba.mask, axis=0) > 4)\n",
    "        )\n",
    "    )\n",
    ")\n",
    "print(\"Nr. valid:\", len(valid_indices))\n",
    "\n",
    "for i in np.random.RandomState(0).choice(\n",
    "    len(valid_indices), min(100, len(valid_indices)), replace=False\n",
    "):\n",
    "    plt.figure(figsize=(7, 3))\n",
    "    plt.plot(masked_val_data[(slice(None), *valid_indices[i])], label=\"obs\", marker=\"o\")\n",
    "    plt.plot(predicted_ba[(slice(None), *valid_indices[i])], label=\"pred\", marker=\"x\")\n",
    "    plt.legend(loc=\"best\")"
   ]
  }
 ],
 "metadata": {
  "kernelspec": {
   "display_name": "Python [conda env:wildfires]",
   "language": "python",
   "name": "conda-env-wildfires-py"
  }
 },
 "nbformat": 4,
 "nbformat_minor": 4
}
