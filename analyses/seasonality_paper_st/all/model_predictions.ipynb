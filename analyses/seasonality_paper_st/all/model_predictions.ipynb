{
 "cells": [
  {
   "cell_type": "markdown",
   "metadata": {},
   "source": [
    "## Setup"
   ]
  },
  {
   "cell_type": "code",
   "execution_count": null,
   "metadata": {},
   "outputs": [],
   "source": [
    "from specific import *"
   ]
  },
  {
   "cell_type": "markdown",
   "metadata": {},
   "source": [
    "### Get shifted data"
   ]
  },
  {
   "cell_type": "code",
   "execution_count": null,
   "metadata": {},
   "outputs": [],
   "source": [
    "(\n",
    "    endog_data,\n",
    "    exog_data,\n",
    "    master_mask,\n",
    "    filled_datasets,\n",
    "    masked_datasets,\n",
    "    land_mask,\n",
    ") = get_offset_data()"
   ]
  },
  {
   "cell_type": "markdown",
   "metadata": {},
   "source": [
    "### Retrieve previous results from the 'model' notebook"
   ]
  },
  {
   "cell_type": "code",
   "execution_count": null,
   "metadata": {},
   "outputs": [],
   "source": [
    "X_train, X_val, y_train, y_val = data_split_cache.load()\n",
    "rf = get_model()\n",
    "masked_train_data = get_mm_data(y_train.values, master_mask, \"train\")\n",
    "masked_val_data = get_mm_data(y_val.values, master_mask, \"val\")"
   ]
  },
  {
   "cell_type": "markdown",
   "metadata": {},
   "source": [
    "### Predict out-of-sample BA"
   ]
  },
  {
   "cell_type": "code",
   "execution_count": null,
   "metadata": {},
   "outputs": [],
   "source": [
    "n_threads = get_ncpus()\n",
    "rf.n_jobs = n_threads\n",
    "with parallel_backend(\"threading\", n_jobs=n_threads):\n",
    "    predicted_ba = get_mm_data(rf.predict(X_val), master_mask, \"val\")"
   ]
  },
  {
   "cell_type": "code",
   "execution_count": null,
   "metadata": {},
   "outputs": [],
   "source": [
    "cube_plotting(\n",
    "    np.mean(masked_val_data - predicted_ba, axis=0),\n",
    "    cmap=\"brewer_RdYlBu_11\",\n",
    "    cmap_midpoint=0,\n",
    "    cmap_symmetric=False,\n",
    "    boundaries=[-0.01, -0.001, -1e-4, 0, 0.001, 0.01, 0.02],\n",
    ")"
   ]
  },
  {
   "cell_type": "code",
   "execution_count": null,
   "metadata": {},
   "outputs": [],
   "source": [
    "cube_plotting(\n",
    "    np.mean(masked_val_data - predicted_ba, axis=0) / np.mean(masked_val_data, axis=0),\n",
    "    cmap=\"brewer_RdYlBu_11\",\n",
    "    cmap_symmetric=False,\n",
    "    boundaries=[-5, -4, -3, -2, 0, 1e-2, 1e-1],\n",
    "    cmap_midpoint=0,\n",
    ")"
   ]
  },
  {
   "cell_type": "code",
   "execution_count": null,
   "metadata": {},
   "outputs": [],
   "source": [
    "ba_plotting(predicted_ba, masked_val_data, figure_saver)"
   ]
  },
  {
   "cell_type": "markdown",
   "metadata": {},
   "source": [
    "### Example timeseries"
   ]
  },
  {
   "cell_type": "code",
   "execution_count": null,
   "metadata": {},
   "outputs": [],
   "source": [
    "# valid_indices = list(zip(*np.where(np.sum(~predicted_ba.mask, axis=0) > 5)))\n",
    "valid_indices = list(\n",
    "    zip(\n",
    "        *np.where(\n",
    "            (np.max(predicted_ba.data, axis=0) > 0.1)\n",
    "            & (np.sum(~predicted_ba.mask, axis=0) > 4)\n",
    "        )\n",
    "    )\n",
    ")\n",
    "print(\"Nr. valid:\", len(valid_indices))\n",
    "\n",
    "for i in np.random.RandomState(0).choice(\n",
    "    len(valid_indices), min(100, len(valid_indices)), replace=False\n",
    "):\n",
    "    plt.figure(figsize=(7, 3))\n",
    "    plt.plot(masked_val_data[(slice(None), *valid_indices[i])], label=\"obs\", marker=\"o\")\n",
    "    plt.plot(predicted_ba[(slice(None), *valid_indices[i])], label=\"pred\", marker=\"x\")\n",
    "    plt.legend(loc=\"best\")"
   ]
  }
 ],
 "metadata": {
  "kernelspec": {
   "display_name": "Python [conda env:wildfires] *",
   "language": "python",
   "name": "conda-env-wildfires-py"
  }
 },
 "nbformat": 4,
 "nbformat_minor": 4
}
