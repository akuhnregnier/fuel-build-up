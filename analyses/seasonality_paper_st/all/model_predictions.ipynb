{
 "cells": [
  {
   "cell_type": "markdown",
   "metadata": {},
   "source": [
    "## Setup"
   ]
  },
  {
   "cell_type": "code",
   "execution_count": null,
   "metadata": {},
   "outputs": [],
   "source": [
    "from specific import *\n",
    "\n",
    "exp_name = experiment_name_dict[PROJECT_DIR.name]"
   ]
  },
  {
   "cell_type": "markdown",
   "metadata": {},
   "source": [
    "### Get shifted data"
   ]
  },
  {
   "cell_type": "code",
   "execution_count": null,
   "metadata": {},
   "outputs": [],
   "source": [
    "(\n",
    "    endog_data,\n",
    "    exog_data,\n",
    "    master_mask,\n",
    "    filled_datasets,\n",
    "    masked_datasets,\n",
    "    land_mask,\n",
    ") = get_offset_data()"
   ]
  },
  {
   "cell_type": "markdown",
   "metadata": {},
   "source": [
    "### Retrieve previous results from the 'model' notebook"
   ]
  },
  {
   "cell_type": "code",
   "execution_count": null,
   "metadata": {},
   "outputs": [],
   "source": [
    "X_train, X_val, y_train, y_val = data_split_cache.load()\n",
    "rf = get_model()\n",
    "masked_train_data = get_mm_data(y_train.values, master_mask, \"train\")\n",
    "masked_val_data = get_mm_data(y_val.values, master_mask, \"val\")"
   ]
  },
  {
   "cell_type": "markdown",
   "metadata": {},
   "source": [
    "### Predict out-of-sample BA"
   ]
  },
  {
   "cell_type": "code",
   "execution_count": null,
   "metadata": {},
   "outputs": [],
   "source": [
    "n_threads = get_ncpus()\n",
    "rf.n_jobs = n_threads\n",
    "with parallel_backend(\"threading\", n_jobs=n_threads):\n",
    "    predicted_ba = get_mm_data(rf.predict(X_val), master_mask, \"val\")"
   ]
  },
  {
   "cell_type": "markdown",
   "metadata": {},
   "source": [
    "### Histogram of Predictions vs. Observations"
   ]
  },
  {
   "cell_type": "code",
   "execution_count": null,
   "metadata": {},
   "outputs": [],
   "source": [
    "f_pred = get_unmasked(predicted_ba)\n",
    "f_obs = get_unmasked(masked_val_data)\n",
    "assert f_pred.shape == f_obs.shape\n",
    "print(f\"Mean out-of-sample obs.: {np.mean(f_obs):0.2e}\")\n",
    "print(f\"Mean out-of-sample pred.: {np.mean(f_pred):0.2e}\")"
   ]
  },
  {
   "cell_type": "code",
   "execution_count": null,
   "metadata": {},
   "outputs": [],
   "source": [
    "fig, axes = plt.subplots(\n",
    "    1, 2, sharey=True, gridspec_kw=dict(width_ratios=[0.07, 1]), figsize=(7, 4)\n",
    ")\n",
    "\n",
    "lower_range_lim = 2.2e-5\n",
    "\n",
    "axes[0].hist(\n",
    "    np.hstack((f_obs.reshape(-1, 1), f_pred.reshape(-1, 1))),\n",
    "    bins=[0, lower_range_lim],\n",
    "    histtype=\"bar\",\n",
    "    label=[\"Obs.\", \"Pred.\"],\n",
    ")\n",
    "axes[0].set_xlim(0, 2.1e-5)\n",
    "\n",
    "\n",
    "@ticker.FuncFormatter\n",
    "def major_formatter(x, pos):\n",
    "    if x == 0:\n",
    "        return 0\n",
    "    exp = math.floor(np.log10(x))\n",
    "    coeff = x / 10 ** exp\n",
    "    if coeff.is_integer():\n",
    "        coeff = round(coeff)\n",
    "        if coeff == 1:\n",
    "            return fr\"$10^{ {exp}}$\"\n",
    "        return fr\"${coeff} \\times 10^{ {exp}}$\"\n",
    "    return f\"{x:0.1e}\"\n",
    "\n",
    "\n",
    "axes[0].xaxis.set_major_formatter(major_formatter)\n",
    "\n",
    "\n",
    "axes[1].hist(\n",
    "    np.hstack((f_obs.reshape(-1, 1), f_pred.reshape(-1, 1))),\n",
    "    bins=np.geomspace(lower_range_lim, max(np.max(f_pred), np.max(f_obs)), num=15),\n",
    "    histtype=\"bar\",\n",
    "    label=[\"Obs.\", \"Pred.\"],\n",
    ")\n",
    "axes[1].set_xscale(\"log\")\n",
    "axes[1].set_xlim(2e-5, 1)\n",
    "\n",
    "for ax in axes:\n",
    "    ax.set_yscale(\"log\")\n",
    "    ax.grid(alpha=0.4, linestyle=\"--\")\n",
    "    ax.set_ylim(3e1, 6e5)\n",
    "\n",
    "axes[1].legend(loc=\"best\")\n",
    "\n",
    "axes[0].set_ylabel(f\"counts (out-of-sample, {exp_name} model)\")\n",
    "axes[1].set_xlabel(\"BA\")\n",
    "\n",
    "fig.tight_layout(w_pad=-1.6)\n",
    "figure_saver.save_figure(fig, \"obs_pred_hist\", sub_directory=\"predictions\")"
   ]
  },
  {
   "cell_type": "code",
   "execution_count": null,
   "metadata": {},
   "outputs": [],
   "source": [
    "with figure_saver(\"obs_pred_comp\", sub_directory=\"predictions\"):\n",
    "    cube_plotting(\n",
    "        np.mean(masked_val_data - predicted_ba, axis=0),\n",
    "        fig=plt.figure(figsize=(5.1, 2.3)),\n",
    "        cmap=\"brewer_RdYlBu_11\",\n",
    "        cmap_midpoint=0,\n",
    "        cmap_symmetric=False,\n",
    "        boundaries=[-0.01, -0.001, -1e-4, 0, 0.001, 0.01, 0.02],\n",
    "        colorbar_kwargs=dict(\n",
    "            format=ticker.FuncFormatter(lambda x, pos: simple_sci_format(x)),\n",
    "            pad=0.02,\n",
    "            label=\"BA Obs. - Pred. (out-of-sample)\",\n",
    "        ),\n",
    "        title=\"\",\n",
    "        coastline_kwargs={\"linewidth\": 0.3},\n",
    "    )"
   ]
  },
  {
   "cell_type": "code",
   "execution_count": null,
   "metadata": {},
   "outputs": [],
   "source": [
    "cube_plotting(\n",
    "    np.mean(masked_val_data - predicted_ba, axis=0) / np.mean(masked_val_data, axis=0),\n",
    "    cmap=\"brewer_RdYlBu_11\",\n",
    "    cmap_symmetric=False,\n",
    "    boundaries=[-5, -4, -3, -2, 0, 1e-2, 1e-1],\n",
    "    cmap_midpoint=0,\n",
    ")"
   ]
  },
  {
   "cell_type": "code",
   "execution_count": null,
   "metadata": {},
   "outputs": [],
   "source": [
    "ba_plotting(predicted_ba, masked_val_data, figure_saver)"
   ]
  },
  {
   "cell_type": "markdown",
   "metadata": {},
   "source": [
    "### Example timeseries"
   ]
  },
  {
   "cell_type": "code",
   "execution_count": null,
   "metadata": {},
   "outputs": [],
   "source": [
    "# valid_indices = list(zip(*np.where(np.sum(~predicted_ba.mask, axis=0) > 5)))\n",
    "valid_indices = list(\n",
    "    zip(\n",
    "        *np.where(\n",
    "            (np.max(predicted_ba.data, axis=0) > 0.1)\n",
    "            & (np.sum(~predicted_ba.mask, axis=0) > 4)\n",
    "        )\n",
    "    )\n",
    ")\n",
    "print(\"Nr. valid:\", len(valid_indices))\n",
    "\n",
    "for i in np.random.RandomState(0).choice(\n",
    "    len(valid_indices), min(100, len(valid_indices)), replace=False\n",
    "):\n",
    "    plt.figure(figsize=(7, 3))\n",
    "    plt.plot(masked_val_data[(slice(None), *valid_indices[i])], label=\"obs\", marker=\"o\")\n",
    "    plt.plot(predicted_ba[(slice(None), *valid_indices[i])], label=\"pred\", marker=\"x\")\n",
    "    plt.legend(loc=\"best\")"
   ]
  }
 ],
 "metadata": {
  "kernelspec": {
   "display_name": "Python [conda env:wildfires]",
   "language": "python",
   "name": "conda-env-wildfires-py"
  }
 },
 "nbformat": 4,
 "nbformat_minor": 4
}
