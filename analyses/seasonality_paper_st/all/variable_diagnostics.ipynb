{
 "cells": [
  {
   "cell_type": "markdown",
   "metadata": {},
   "source": [
    "## Setup"
   ]
  },
  {
   "cell_type": "code",
   "execution_count": null,
   "metadata": {},
   "outputs": [],
   "source": [
    "from specific import *"
   ]
  },
  {
   "cell_type": "markdown",
   "metadata": {},
   "source": [
    "### Get unshifted data"
   ]
  },
  {
   "cell_type": "code",
   "execution_count": null,
   "metadata": {},
   "outputs": [],
   "source": [
    "# XXX:\n",
    "# data_memory.clear()\n",
    "\n",
    "(\n",
    "    endog_data,\n",
    "    exog_data,\n",
    "    master_mask,\n",
    "    filled_datasets,\n",
    "    masked_datasets,\n",
    "    land_mask,\n",
    ") = get_data()"
   ]
  },
  {
   "cell_type": "code",
   "execution_count": null,
   "metadata": {},
   "outputs": [],
   "source": [
    "selection_datasets = [\n",
    "    AvitabileThurnerAGB(),\n",
    "    Copernicus_SWI(),\n",
    "    ERA5_Temperature(),\n",
    "    ESA_CCI_Landcover_PFT(),\n",
    "    GFEDv4(),\n",
    "    HYDE(),\n",
    "    WWLLN(),\n",
    "]\n",
    "# These datasets will potentially be shifted.\n",
    "datasets_to_shift = [\n",
    "    ERA5_DryDayPeriod(),\n",
    "    MOD15A2H_LAI_fPAR(),\n",
    "    VODCA(),\n",
    "    GlobFluo_SIF(),\n",
    "]\n",
    "selection_datasets += datasets_to_shift\n",
    "dataset_times(selection_datasets, lat_lon=True)[2]"
   ]
  },
  {
   "cell_type": "code",
   "execution_count": null,
   "metadata": {},
   "outputs": [],
   "source": [
    "_ = cube_plotting(master_mask.astype(\"float\"))"
   ]
  },
  {
   "cell_type": "code",
   "execution_count": null,
   "metadata": {},
   "outputs": [],
   "source": [
    "for pretty_name in sort_features(masked_datasets.pretty_variable_names):\n",
    "    cube = masked_datasets.cubes[\n",
    "        masked_datasets.pretty_variable_names.index(pretty_name)\n",
    "    ]\n",
    "    bounds = []\n",
    "    for i in range(cube.shape[0]):\n",
    "        bounds.extend(cube.coord(\"time\").cell(i).bound)\n",
    "    print(\n",
    "        f\"{pretty_name:<30} {ensure_datetime(min(bounds)):%Y-%m-%d} {ensure_datetime(max(bounds)):%Y-%m-%d}\"\n",
    "    )"
   ]
  },
  {
   "cell_type": "code",
   "execution_count": null,
   "metadata": {},
   "outputs": [],
   "source": [
    "for pretty_name in sort_features(masked_datasets.pretty_variable_names):\n",
    "    cube = masked_datasets.cubes[\n",
    "        masked_datasets.pretty_variable_names.index(pretty_name)\n",
    "    ]\n",
    "\n",
    "    if any(\n",
    "        name in pretty_name\n",
    "        for name in (\"Dry Day Period\", \"GFED4 BA\", \"popd\", \"lightning\")\n",
    "    ):\n",
    "        log = True\n",
    "    else:\n",
    "        log = False\n",
    "\n",
    "    cube_plotting(cube.collapsed(\"month_number\", iris.analysis.MEAN), log=log)\n",
    "    cube_plotting(cube.data.mask.astype(\"float\"), title=f\"{pretty_name} Mask\")"
   ]
  },
  {
   "cell_type": "markdown",
   "metadata": {},
   "source": [
    "### Get shifted data"
   ]
  },
  {
   "cell_type": "code",
   "execution_count": null,
   "metadata": {},
   "outputs": [],
   "source": [
    "(\n",
    "    endog_data,\n",
    "    exog_data,\n",
    "    master_mask,\n",
    "    filled_datasets,\n",
    "    masked_datasets,\n",
    "    land_mask,\n",
    ") = get_offset_data()"
   ]
  },
  {
   "cell_type": "markdown",
   "metadata": {},
   "source": [
    "## Mapping"
   ]
  },
  {
   "cell_type": "code",
   "execution_count": null,
   "metadata": {},
   "outputs": [],
   "source": [
    "with figure_saver(\"high_fapar_high_dry_day_period\", sub_directory=\"map_plots\"):\n",
    "    mpl.rc(\"figure\", figsize=(11, 4))\n",
    "    constrained_map_plot(\n",
    "        {\"FAPAR\": (0.36, None), \"Dry Day Period\": (18, None)},\n",
    "        exog_data,\n",
    "        master_mask,\n",
    "        plot_variable=\"FAPAR\",\n",
    "        coastline_kwargs={\"linewidth\": 0.5},\n",
    "    )"
   ]
  },
  {
   "cell_type": "code",
   "execution_count": null,
   "metadata": {},
   "outputs": [],
   "source": [
    "with figure_saver(\"high_dry_day_period_18_medium_agbtree\", sub_directory=\"map_plots\"):\n",
    "    mpl.rc(\"figure\", figsize=(11, 4))\n",
    "    constrained_map_plot(\n",
    "        {\"Dry Day Period -18 - -6 Month\": (22, None), \"AGB Tree\": (0.9, 20)},\n",
    "        exog_data,\n",
    "        master_mask,\n",
    "        plot_variable=\"AGB Tree\",\n",
    "        coastline_kwargs={\"linewidth\": 0.5},\n",
    "    )"
   ]
  },
  {
   "cell_type": "code",
   "execution_count": null,
   "metadata": {},
   "outputs": [],
   "source": [
    "with figure_saver(\"high_pftCrop\", sub_directory=\"map_plots\"):\n",
    "    mpl.rc(\"figure\", figsize=(11, 4))\n",
    "    constrained_map_plot(\n",
    "        {\"pftCrop\": (0.6, None)},\n",
    "        exog_data,\n",
    "        master_mask,\n",
    "        plot_variable=\"pftCrop\",\n",
    "        coastline_kwargs={\"linewidth\": 0.5},\n",
    "    )"
   ]
  },
  {
   "cell_type": "markdown",
   "metadata": {},
   "source": [
    "## Correlation Plot"
   ]
  },
  {
   "cell_type": "code",
   "execution_count": null,
   "metadata": {},
   "outputs": [],
   "source": [
    "X_corr = exog_data\n",
    "with figure_saver(\"corr_plot\"):\n",
    "    corr_plot(\n",
    "        repl_fill_names_columns(\n",
    "            shorten_columns(\n",
    "                X_corr[sort_features(filter_by_month(X_corr.columns, None, 9))]\n",
    "            )\n",
    "        ),\n",
    "        fig_kwargs={\"figsize\": (12, 8)},\n",
    "    )\n",
    "    plt.gca().grid(False)"
   ]
  },
  {
   "cell_type": "code",
   "execution_count": null,
   "metadata": {},
   "outputs": [],
   "source": [
    "with figure_saver(\"corr_plot_full\"):\n",
    "    corr_plot(\n",
    "        repl_fill_names_columns(shorten_columns(X_corr[sort_features(X_corr.columns)])),\n",
    "        fig_kwargs={\"figsize\": (7.35, 12)},\n",
    "        colorbar_kwargs=dict(pad=0.015, shrink=0.15, aspect=25),\n",
    "        rotation=70,\n",
    "    )\n",
    "    plt.gca().grid(False)"
   ]
  },
  {
   "cell_type": "code",
   "execution_count": null,
   "metadata": {},
   "outputs": [],
   "source": [
    "from wildfires.data.datasets import *\n",
    "\n",
    "agb = AvitabileThurnerAGB()\n",
    "_ = cube_plotting(agb.cube)"
   ]
  }
 ],
 "metadata": {
  "kernelspec": {
   "display_name": "Python [conda env:wildfires]",
   "language": "python",
   "name": "conda-env-wildfires-py"
  }
 },
 "nbformat": 4,
 "nbformat_minor": 4
}
