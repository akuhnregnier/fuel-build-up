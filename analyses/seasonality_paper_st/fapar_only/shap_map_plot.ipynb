{
 "cells": [
  {
   "cell_type": "markdown",
   "metadata": {},
   "source": [
    "## Setup"
   ]
  },
  {
   "cell_type": "code",
   "execution_count": null,
   "metadata": {},
   "outputs": [],
   "source": [
    "from specific import *"
   ]
  },
  {
   "cell_type": "code",
   "execution_count": null,
   "metadata": {},
   "outputs": [],
   "source": [
    "(\n",
    "    endog_data,\n",
    "    exog_data,\n",
    "    master_mask,\n",
    "    filled_datasets,\n",
    "    masked_datasets,\n",
    "    land_mask,\n",
    ") = get_offset_data()"
   ]
  },
  {
   "cell_type": "markdown",
   "metadata": {},
   "source": [
    "### Retrieve previous results from the 'model' notebook"
   ]
  },
  {
   "cell_type": "code",
   "execution_count": null,
   "metadata": {},
   "outputs": [],
   "source": [
    "X_train, X_test, y_train, y_test = data_split_cache.load()\n",
    "rf = get_model()"
   ]
  },
  {
   "cell_type": "markdown",
   "metadata": {},
   "source": [
    "### SHAP values"
   ]
  },
  {
   "cell_type": "code",
   "execution_count": null,
   "metadata": {},
   "outputs": [],
   "source": [
    "shap_values = shap_cache.load()"
   ]
  },
  {
   "cell_type": "markdown",
   "metadata": {},
   "source": [
    "### BA in the train and test sets\n",
    "\n",
    "Valid elements are situated where master_mask is False"
   ]
  },
  {
   "cell_type": "code",
   "execution_count": null,
   "metadata": {},
   "outputs": [],
   "source": [
    "valid_indices = np.where(~master_mask.ravel())[0]\n",
    "\n",
    "valid_train_indices, valid_test_indices = train_test_split(\n",
    "    valid_indices, random_state=1, shuffle=True, test_size=0.3\n",
    ")\n",
    "\n",
    "masked_train_data = np.ma.MaskedArray(\n",
    "    np.zeros_like(master_mask, dtype=np.float64), mask=np.ones_like(master_mask)\n",
    ")\n",
    "masked_train_data.ravel()[valid_train_indices] = y_train.values\n",
    "\n",
    "masked_test_data = np.ma.MaskedArray(\n",
    "    np.zeros_like(master_mask, dtype=np.float64), mask=np.ones_like(master_mask)\n",
    ")\n",
    "masked_test_data.ravel()[valid_test_indices] = y_test.values"
   ]
  },
  {
   "cell_type": "code",
   "execution_count": null,
   "metadata": {},
   "outputs": [],
   "source": [
    "plt.hist(np.abs(shap_values[:, 0]), bins=5000)\n",
    "plt.xscale(\"log\")\n",
    "plt.yscale(\"log\")"
   ]
  },
  {
   "cell_type": "markdown",
   "metadata": {},
   "source": [
    "### Calculate 2D masked array SHAP values"
   ]
  },
  {
   "cell_type": "code",
   "execution_count": null,
   "metadata": {},
   "outputs": [],
   "source": [
    "(\n",
    "    masked_shap_arrs,\n",
    "    masked_shap_arrs_std,\n",
    "    vmin,\n",
    "    vmax,\n",
    "    std_vmin,\n",
    "    std_vmax,\n",
    ") = calculate_2d_masked_shap_values(\n",
    "    X_train, master_mask, valid_train_indices, shap_values\n",
    ")"
   ]
  },
  {
   "cell_type": "markdown",
   "metadata": {},
   "source": [
    "### Plotting maps of SHAP values"
   ]
  },
  {
   "cell_type": "code",
   "execution_count": null,
   "metadata": {},
   "outputs": [],
   "source": [
    "plot_shap_value_maps(\n",
    "    X_train,\n",
    "    masked_shap_arrs,\n",
    "    masked_shap_arrs_std,\n",
    "    vmin,\n",
    "    vmax,\n",
    "    std_vmin,\n",
    "    std_vmax,\n",
    "    map_figure_saver,\n",
    ")"
   ]
  },
  {
   "cell_type": "markdown",
   "metadata": {},
   "source": [
    "### Find common mask for a range of 2D SHAP arrays to compare"
   ]
  },
  {
   "cell_type": "code",
   "execution_count": null,
   "metadata": {},
   "outputs": [],
   "source": [
    "max_month = 9\n",
    "\n",
    "# Mark areas where at least this fraction of |SHAP| has been plotted previously.\n",
    "thres = 0.7\n",
    "\n",
    "\n",
    "def param_iter():\n",
    "    for exclude_inst in tqdm([False, True], desc=\"Exclude inst.\"):\n",
    "        for feature_name in tqdm(\n",
    "            [\"VOD Ku-band\", \"SIF\", \"FAPAR\", \"LAI\", \"Dry Day Period\"], desc=\"Feature\"\n",
    "        ):\n",
    "            yield exclude_inst, feature_name\n",
    "\n",
    "\n",
    "for exclude_inst, feature_name in param_iter():\n",
    "    if exclude_inst:\n",
    "        sub_directory = \"rank_shap_map_no_inst\"\n",
    "    else:\n",
    "        sub_directory = \"rank_shap_map\"\n",
    "\n",
    "    filtered = np.array(filter_by_month(X_train.columns, feature_name, max_month))\n",
    "    lags = np.array(\n",
    "        [get_lag(feature, target_feature=feature_name) for feature in filtered]\n",
    "    )\n",
    "\n",
    "    # Ensure lags are sorted consistently.\n",
    "    lag_sort_inds = np.argsort(lags)\n",
    "    filtered = tuple(filtered[lag_sort_inds])\n",
    "    lags = tuple(lags[lag_sort_inds])\n",
    "\n",
    "    if exclude_inst and 0 in lags:\n",
    "        assert lags[0] == 0\n",
    "        lags = lags[1:]\n",
    "        filtered = filtered[1:]\n",
    "\n",
    "    n_features = len(filtered)\n",
    "\n",
    "    # There is no point plotting this map for a single feature or less since we are\n",
    "    # interested in a comparison between different feature ranks.\n",
    "    if n_features <= 1:\n",
    "        continue\n",
    "\n",
    "    selected_data = np.empty(n_features, dtype=object)\n",
    "    for i, col in enumerate(X_train.columns):\n",
    "        if col in filtered:\n",
    "            selected_data[lags.index(get_lag(col))] = masked_shap_arrs[i].copy()\n",
    "\n",
    "    shared_mask = reduce(np.logical_or, (data.mask for data in selected_data))\n",
    "    for data in selected_data:\n",
    "        data.mask = shared_mask\n",
    "\n",
    "    stacked_abs = np.abs(np.vstack([data.data[np.newaxis] for data in selected_data]))\n",
    "    # Indices in descending order.\n",
    "    sort_indices = np.argsort(stacked_abs, axis=0)[::-1]\n",
    "\n",
    "    # Maintain the same colors even if fewer colors are used.\n",
    "    colors = [lag_color_dict[lag] for lag in lags]\n",
    "\n",
    "    cmap, norm = from_levels_and_colors(\n",
    "        levels=np.arange(n_features + 1), colors=colors, extend=\"neither\",\n",
    "    )\n",
    "\n",
    "    short_feature = shorten_features(feature_name)\n",
    "\n",
    "    sum_shap = np.ma.MaskedArray(np.sum(stacked_abs, axis=0), mask=shared_mask)\n",
    "    already_plotted = np.zeros_like(sum_shap)\n",
    "\n",
    "    for i, rank in zip(\n",
    "        tqdm(range(n_features), desc=\"Plotting\", leave=False),\n",
    "        [\"1st\", \"2nd\", \"3rd\", \"4th\", \"5th\"],\n",
    "    ):\n",
    "        cube = dummy_lat_lon_cube(np.ma.MaskedArray(sort_indices[i], mask=shared_mask))\n",
    "\n",
    "        fig, ax = plt.subplots(\n",
    "            figsize=(5.1, 2.6), subplot_kw={\"projection\": ccrs.Robinson()}\n",
    "        )\n",
    "\n",
    "        style = 2\n",
    "\n",
    "        if style == 1:\n",
    "            # Stippling for significant areas.\n",
    "            mpl.rc(\"hatch\", linewidth=0.2)\n",
    "            hatches = [\".\" * 6, None]\n",
    "        else:\n",
    "            # Hatching for insignificant areas.\n",
    "            mpl.rc(\"hatch\", linewidth=0.1)\n",
    "            hatches = [\"/\" * 14, None]\n",
    "\n",
    "        if np.any(already_plotted >= thres):\n",
    "            ax.contourf(\n",
    "                cube.coord(\"longitude\").points,\n",
    "                cube.coord(\"latitude\").points,\n",
    "                already_plotted,\n",
    "                transform=ccrs.PlateCarree(),\n",
    "                colors=\"none\",\n",
    "                zorder=4,\n",
    "                levels=[thres, 1],\n",
    "                hatches=hatches,\n",
    "            )\n",
    "\n",
    "        fig, cbar = cube_plotting(\n",
    "            cube,\n",
    "            title=f\"{rank} |SHAP {short_feature} Lag| - thres: {thres * 100:0.0f}%\",\n",
    "            fig=fig,\n",
    "            ax=ax,\n",
    "            cmap=cmap,\n",
    "            norm=norm,\n",
    "            return_cbar=True,\n",
    "            colorbar_kwargs={\"label\": short_feature},\n",
    "            coastline_kwargs={\"linewidth\": 0.3},\n",
    "        )\n",
    "\n",
    "        # Label the colorbar using the feature names.\n",
    "        cbar.set_ticks(np.arange(n_features) + 0.5)\n",
    "\n",
    "        labels = []\n",
    "        for lag in lags:\n",
    "            if lag:\n",
    "                labels.append(f\"{lag} M\")\n",
    "            else:\n",
    "                labels.append(\"Inst.\")\n",
    "        cbar.set_ticklabels(labels)\n",
    "\n",
    "        data = np.take_along_axis(stacked_abs, sort_indices[i : i + 1], axis=0)[0]\n",
    "        already_plotted += data / sum_shap\n",
    "\n",
    "        map_figure_saver.save_figure(\n",
    "            fig, f\"{rank}_{short_feature}\", sub_directory=sub_directory\n",
    "        )\n",
    "        plt.close(fig)"
   ]
  }
 ],
 "metadata": {
  "kernelspec": {
   "display_name": "Python [conda env:wildfires] *",
   "language": "python",
   "name": "conda-env-wildfires-py"
  }
 },
 "nbformat": 4,
 "nbformat_minor": 4
}
