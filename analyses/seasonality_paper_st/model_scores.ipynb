{
 "cells": [
  {
   "cell_type": "markdown",
   "metadata": {},
   "source": [
    "### Setup"
   ]
  },
  {
   "cell_type": "code",
   "execution_count": null,
   "metadata": {},
   "outputs": [],
   "source": [
    "from common import *\n",
    "\n",
    "figure_saver = figure_saver(sub_directory=\"model_scores\")"
   ]
  },
  {
   "cell_type": "markdown",
   "metadata": {},
   "source": [
    "## Compare model performance scores"
   ]
  },
  {
   "cell_type": "code",
   "execution_count": null,
   "metadata": {},
   "outputs": [],
   "source": [
    "exp_folders = [\n",
    "    \"lagged_lai_only\",\n",
    "    \"lagged_vod_only\",\n",
    "    \"15_most_important\",\n",
    "    \"no_temporal_shifts\",\n",
    "    \"lagged_fapar_only\",\n",
    "    \"fapar_only\",\n",
    "    \"lagged_sif_only\",\n",
    "    \"sif_only\",\n",
    "    \"all\",\n",
    "    \"lai_only\",\n",
    "    \"vod_only\",\n",
    "    \"best_top_15\",\n",
    "]\n",
    "print(len(exp_folders))\n",
    "pprint(exp_folders)"
   ]
  },
  {
   "cell_type": "code",
   "execution_count": null,
   "metadata": {},
   "outputs": [],
   "source": [
    "data = load_experiment_data(exp_folders, \"model_scores\")\n",
    "test_r2s = {\n",
    "    experiment_name_dict[exp]: exp_data[\"test_r2\"] for exp, exp_data in data.items()\n",
    "}\n",
    "train_r2s = {\n",
    "    experiment_name_dict[exp]: exp_data[\"train_r2\"] for exp, exp_data in data.items()\n",
    "}"
   ]
  },
  {
   "cell_type": "code",
   "execution_count": null,
   "metadata": {},
   "outputs": [],
   "source": [
    "print(f\"No lags: {test_r2s['CURR']:0.2f}\")\n",
    "print(f\"All: {test_r2s['BEST15']:0.2f}\")"
   ]
  },
  {
   "cell_type": "code",
   "execution_count": null,
   "metadata": {},
   "outputs": [],
   "source": [
    "keys = list(test_r2s)\n",
    "indices = np.argsort(list(test_r2s.values()))[::-1]"
   ]
  },
  {
   "cell_type": "code",
   "execution_count": null,
   "metadata": {},
   "outputs": [],
   "source": [
    "indices"
   ]
  },
  {
   "cell_type": "code",
   "execution_count": null,
   "metadata": {},
   "outputs": [],
   "source": [
    "pd.Series(test_r2s).iloc[indices]"
   ]
  },
  {
   "cell_type": "code",
   "execution_count": null,
   "metadata": {},
   "outputs": [],
   "source": [
    "pd.Series(train_r2s).iloc[indices]"
   ]
  },
  {
   "cell_type": "code",
   "execution_count": null,
   "metadata": {},
   "outputs": [],
   "source": [
    "df = pd.DataFrame(\n",
    "    {\n",
    "        \"test R2\": pd.Series(test_r2s).iloc[indices],\n",
    "        \"train R2\": pd.Series(train_r2s).iloc[indices],\n",
    "    }\n",
    ")\n",
    "df[\"train - test R2\"] = df[\"train R2\"] - df[\"test R2\"]\n",
    "df"
   ]
  },
  {
   "cell_type": "markdown",
   "metadata": {},
   "source": [
    "#### Sort by train - test gap"
   ]
  },
  {
   "cell_type": "code",
   "execution_count": null,
   "metadata": {},
   "outputs": [],
   "source": [
    "df.sort_values(\"train - test R2\")"
   ]
  },
  {
   "cell_type": "code",
   "execution_count": null,
   "metadata": {},
   "outputs": [],
   "source": [
    "comp = (\"ALL\", \"BEST15\")\n",
    "print(f\"val R2 ({comp[1]} → {comp[0]}): {test_r2s[comp[0]] - test_r2s[comp[1]]:0.3f}\")"
   ]
  },
  {
   "cell_type": "code",
   "execution_count": null,
   "metadata": {},
   "outputs": [],
   "source": [
    "comp = (\"BEST15\", \"CURR\")\n",
    "print(f\"val R2 ({comp[1]} → {comp[0]}): {test_r2s[comp[0]] - test_r2s[comp[1]]:0.3f}\")"
   ]
  },
  {
   "cell_type": "code",
   "execution_count": null,
   "metadata": {},
   "outputs": [],
   "source": [
    "fig, ax1 = plt.subplots(figsize=(7, 2.2))\n",
    "ax1.plot(np.array(list(test_r2s.values()))[indices], linestyle=\"\", marker=\"o\", c=\"C0\")\n",
    "ax1.set_ylabel(\"validation \" r\"$\\mathrm{R}^2$\", color=\"C0\")\n",
    "ax1.tick_params(axis=\"y\", labelcolor=\"C0\")\n",
    "\n",
    "ax2 = ax1.twinx()\n",
    "ax2.plot(np.array(list(train_r2s.values()))[indices], linestyle=\"\", marker=\"x\", c=\"C1\")\n",
    "ax2.set_ylabel(\"train \" r\"$\\mathrm{R}^2$\", color=\"C1\")\n",
    "ax2.tick_params(axis=\"y\", labelcolor=\"C1\")\n",
    "\n",
    "ax1.grid(alpha=0.4, linestyle=\"--\")\n",
    "ax1.set_xticks(list(range(len(test_r2s))))\n",
    "_ = ax1.set_xticklabels(\n",
    "    list(np.array(list(test_r2s))[indices]), rotation=45, ha=\"right\"\n",
    ")\n",
    "\n",
    "figure_saver.save_figure(fig, \"model_comp_scores\")"
   ]
  }
 ],
 "metadata": {
  "kernelspec": {
   "display_name": "Python [conda env:wildfires]",
   "language": "python",
   "name": "conda-env-wildfires-py"
  }
 },
 "nbformat": 4,
 "nbformat_minor": 4
}
