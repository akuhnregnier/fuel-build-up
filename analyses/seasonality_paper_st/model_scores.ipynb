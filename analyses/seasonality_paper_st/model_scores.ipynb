{
 "cells": [
  {
   "cell_type": "markdown",
   "metadata": {},
   "source": [
    "### Setup"
   ]
  },
  {
   "cell_type": "code",
   "execution_count": null,
   "metadata": {},
   "outputs": [],
   "source": [
    "from common import *\n",
    "\n",
    "figure_saver = figure_saver(sub_directory=\"model_scores\")"
   ]
  },
  {
   "cell_type": "markdown",
   "metadata": {},
   "source": [
    "## Compare model performance scores"
   ]
  },
  {
   "cell_type": "code",
   "execution_count": null,
   "metadata": {},
   "outputs": [],
   "source": [
    "exp_folders = [\n",
    "    \"lagged_lai_only\",\n",
    "    \"lagged_vod_only\",\n",
    "    \"15_most_important\",\n",
    "    \"no_temporal_shifts\",\n",
    "    \"lagged_fapar_only\",\n",
    "    \"fapar_only\",\n",
    "    \"lagged_sif_only\",\n",
    "    \"sif_only\",\n",
    "    \"all\",\n",
    "    \"lai_only\",\n",
    "    \"vod_only\",\n",
    "    \"best_top_15\",\n",
    "]\n",
    "print(len(exp_folders))\n",
    "pprint(exp_folders)"
   ]
  },
  {
   "cell_type": "code",
   "execution_count": null,
   "metadata": {},
   "outputs": [],
   "source": [
    "data = load_experiment_data(exp_folders, \"model_scores\")\n",
    "test_r2s = {\n",
    "    experiment_name_dict[exp]: exp_data[\"test_r2\"] for exp, exp_data in data.items()\n",
    "}\n",
    "train_r2s = {\n",
    "    experiment_name_dict[exp]: exp_data[\"train_r2\"] for exp, exp_data in data.items()\n",
    "}"
   ]
  },
  {
   "cell_type": "code",
   "execution_count": null,
   "metadata": {},
   "outputs": [],
   "source": [
    "print(f\"CURR: {test_r2s['CURR']:0.3f}\")\n",
    "print(f\"BEST15: {test_r2s['BEST15']:0.3f}\")"
   ]
  },
  {
   "cell_type": "code",
   "execution_count": null,
   "metadata": {},
   "outputs": [],
   "source": [
    "keys = list(test_r2s)\n",
    "indices = np.argsort(list(test_r2s.values()))[::-1]"
   ]
  },
  {
   "cell_type": "code",
   "execution_count": null,
   "metadata": {},
   "outputs": [],
   "source": [
    "df = pd.DataFrame(\n",
    "    {\n",
    "        \"test R2\": pd.Series(test_r2s).iloc[indices],\n",
    "        \"train R2\": pd.Series(train_r2s).iloc[indices],\n",
    "    }\n",
    ")\n",
    "df[\"train - test R2\"] = df[\"train R2\"] - df[\"test R2\"]\n",
    "df.round(3)"
   ]
  },
  {
   "cell_type": "markdown",
   "metadata": {},
   "source": [
    "#### Sort by train - test gap"
   ]
  },
  {
   "cell_type": "code",
   "execution_count": null,
   "metadata": {},
   "outputs": [],
   "source": [
    "df.sort_values(\"train - test R2\").round(3)"
   ]
  },
  {
   "cell_type": "code",
   "execution_count": null,
   "metadata": {},
   "outputs": [],
   "source": [
    "comp = (\"ALL\", \"BEST15\")\n",
    "print(f\"val R2 ({comp[1]} → {comp[0]}): {test_r2s[comp[0]] - test_r2s[comp[1]]:0.3f}\")"
   ]
  },
  {
   "cell_type": "code",
   "execution_count": null,
   "metadata": {},
   "outputs": [],
   "source": [
    "comp = (\"BEST15\", \"CURR\")\n",
    "print(f\"val R2 ({comp[1]} → {comp[0]}): {test_r2s[comp[0]] - test_r2s[comp[1]]:0.3f}\")"
   ]
  },
  {
   "cell_type": "code",
   "execution_count": null,
   "metadata": {},
   "outputs": [],
   "source": [
    "comp = (\"ALL\", \"CURR\")\n",
    "print(f\"val R2 ({comp[1]} → {comp[0]}): {test_r2s[comp[0]] - test_r2s[comp[1]]:0.3f}\")"
   ]
  },
  {
   "cell_type": "code",
   "execution_count": null,
   "metadata": {},
   "outputs": [],
   "source": [
    "comp = (\"ALL\", \"CURR\")\n",
    "print(\n",
    "    f\"train R2 ({comp[1]} → {comp[0]}): {train_r2s[comp[0]] - train_r2s[comp[1]]:0.3f}\"\n",
    ")"
   ]
  },
  {
   "cell_type": "code",
   "execution_count": null,
   "metadata": {},
   "outputs": [],
   "source": [
    "fig, ax = plt.subplots(figsize=(6, 3.5))\n",
    "ax.plot(\n",
    "    np.array(list(test_r2s.values()))[indices],\n",
    "    linestyle=\"\",\n",
    "    marker=\"o\",\n",
    "    c=\"C0\",\n",
    "    label=\"validation\",\n",
    ")\n",
    "ax.plot(\n",
    "    np.array(list(train_r2s.values()))[indices],\n",
    "    linestyle=\"\",\n",
    "    marker=\"x\",\n",
    "    c=\"C1\",\n",
    "    label=\"train\",\n",
    ")\n",
    "ax.grid(alpha=0.4, linestyle=\"--\")\n",
    "ax.set_xticks(list(range(len(test_r2s))))\n",
    "ax.set_xticklabels(list(np.array(list(test_r2s))[indices]), rotation=45, ha=\"right\")\n",
    "ax.set_ylabel(r\"$\\mathrm{R}^2$\")\n",
    "\n",
    "# figure_saver.save_figure(fig, \"model_comp_scores\")"
   ]
  },
  {
   "cell_type": "code",
   "execution_count": null,
   "metadata": {},
   "outputs": [],
   "source": [
    "# Adapted from: https://matplotlib.org/gallery/subplots_axes_and_figures/broken_axis.html\n",
    "from operator import add, sub\n",
    "\n",
    "s_train_r2s = np.array(list(train_r2s.values()))[indices]\n",
    "s_validation_r2s = np.array(list(test_r2s.values()))[indices]\n",
    "\n",
    "# Ratio of training R2 range to validation R2 range.\n",
    "train_validation_ratio = np.ptp(s_train_r2s) / np.ptp(s_validation_r2s)\n",
    "\n",
    "fig = plt.figure(figsize=(4, 2.2), dpi=200)\n",
    "\n",
    "all_ax = fig.add_subplot(1, 1, 1)\n",
    "all_ax.set_ylabel(r\"$\\mathrm{R}^2$\", labelpad=29)\n",
    "all_ax.set_xticks([])\n",
    "all_ax.set_yticks([])\n",
    "all_ax.set_frame_on(\n",
    "    False\n",
    ")  # So we don't get black bars showing through the 'broken' gap.\n",
    "\n",
    "# Break the y-axis into 2 parts.\n",
    "# fig, (ax1, ax2) = plt.subplots(2, 1, sharex=True, figsize=(6, 3.5))\n",
    "ax1, ax2 = fig.subplots(\n",
    "    2, 1, sharex=True, gridspec_kw=dict(height_ratios=[train_validation_ratio, 1])\n",
    ")\n",
    "fig.subplots_adjust(hspace=0.05)  # adjust space between axes\n",
    "\n",
    "# Plot train and validation R2s.\n",
    "\n",
    "train_kwargs = dict(linestyle=\"\", marker=\"x\", c=\"C1\", label=\"train\")\n",
    "ax1.plot(s_train_r2s, **train_kwargs)\n",
    "\n",
    "validation_kwargs = dict(linestyle=\"\", marker=\"o\", c=\"C0\", label=\"validation\")\n",
    "ax2.plot(s_validation_r2s, **validation_kwargs)\n",
    "\n",
    "ax2.set_yticks(np.arange(0.575, 0.675 + 0.01, 0.025))\n",
    "\n",
    "ax2.legend(\n",
    "    handles=[\n",
    "        Line2D([0], [0], **kwargs) for kwargs in (train_kwargs, validation_kwargs)\n",
    "    ],\n",
    "    loc=\"lower left\",\n",
    ")\n",
    "\n",
    "ylim_1 = ax1.get_ylim()\n",
    "ylim_2 = ax2.get_ylim()\n",
    "\n",
    "margin_f = (0.03, 0.04)  # Two-sided relative margin addition.\n",
    "ax1.set_ylim(\n",
    "    [\n",
    "        op(ylim_val, factor * np.ptp(ylim_1))\n",
    "        for ylim_val, factor, op in zip(ylim_1, margin_f, (sub, add))\n",
    "    ]\n",
    ")\n",
    "ax2.set_ylim(\n",
    "    [\n",
    "        op(ylim_val, factor * np.ptp(ylim_1) / train_validation_ratio)\n",
    "        for ylim_val, factor, op in zip(ylim_2, margin_f, (sub, add))\n",
    "    ]\n",
    ")\n",
    "# ax2.set_ylim(ylim_2[0], ylim_2[1] + margin_f * np.ptp(ylim_1) / train_validation_ratio)\n",
    "\n",
    "# hide the spines between ax and ax2\n",
    "ax1.spines[\"bottom\"].set_visible(False)\n",
    "ax2.spines[\"top\"].set_visible(False)\n",
    "ax1.xaxis.tick_top()\n",
    "ax1.tick_params(labeltop=False)  # don't put tick labels at the top\n",
    "ax1.xaxis.set_ticks_position(\"none\")  # hide top ticks themselves (not just labels)\n",
    "\n",
    "ax2.xaxis.tick_bottom()\n",
    "\n",
    "ax2.set_xticks(list(range(len(test_r2s))))\n",
    "ax2.set_xticklabels(\n",
    "    list(np.array(list(test_r2s))[indices]),\n",
    "    rotation=45,\n",
    "    ha=\"right\",\n",
    ")\n",
    "ax2.tick_params(axis=\"x\", which=\"major\", pad=0)\n",
    "\n",
    "# Now, let's turn towards the cut-out slanted lines.\n",
    "# We create line objects in axes coordinates, in which (0,0), (0,1),\n",
    "# (1,0), and (1,1) are the four corners of the axes.\n",
    "# The slanted lines themselves are markers at those locations, such that the\n",
    "# lines keep their angle and position, independent of the axes size or scale\n",
    "# Finally, we need to disable clipping.\n",
    "\n",
    "d = 0.5  # proportion of vertical to horizontal extent of the slanted line\n",
    "kwargs = dict(\n",
    "    marker=[(-1, -d), (1, d)],\n",
    "    markersize=8,\n",
    "    linestyle=\"none\",\n",
    "    color=\"k\",\n",
    "    mec=\"k\",\n",
    "    mew=1,\n",
    "    clip_on=False,\n",
    ")\n",
    "ax1.plot([0, 1], [0, 0], transform=ax1.transAxes, **kwargs)\n",
    "ax2.plot([0, 1], [1, 1], transform=ax2.transAxes, **kwargs)\n",
    "\n",
    "for ax in (ax1, ax2):\n",
    "    ax.grid(alpha=0.4, linestyle=\"--\")\n",
    "    ax.set_xticks(list(range(len(test_r2s))))\n",
    "\n",
    "figure_saver.save_figure(fig, \"model_comp_scores\")"
   ]
  }
 ],
 "metadata": {
  "kernelspec": {
   "display_name": "Python [conda env:wildfires] *",
   "language": "python",
   "name": "conda-env-wildfires-py"
  }
 },
 "nbformat": 4,
 "nbformat_minor": 4
}
