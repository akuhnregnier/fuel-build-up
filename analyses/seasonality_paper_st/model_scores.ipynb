{
 "cells": [
  {
   "cell_type": "markdown",
   "metadata": {},
   "source": [
    "### Setup"
   ]
  },
  {
   "cell_type": "code",
   "execution_count": null,
   "metadata": {},
   "outputs": [],
   "source": [
    "from common import *\n",
    "\n",
    "figure_saver = figure_saver(sub_directory=\"model_scores\")"
   ]
  },
  {
   "cell_type": "markdown",
   "metadata": {},
   "source": [
    "## Compare model performance scores"
   ]
  },
  {
   "cell_type": "code",
   "execution_count": null,
   "metadata": {},
   "outputs": [],
   "source": [
    "exp_folders = [\n",
    "    i.name\n",
    "    for i in list(PAPER_DIR.glob(\"*\"))\n",
    "    if i.is_dir()\n",
    "    and not any(\n",
    "        pattern in i.name\n",
    "        for pattern in (\n",
    "            \"pycache\",\n",
    "            \"checkpoints\",\n",
    "            \"all_interp_exclusion_robustness\",\n",
    "            \"comparisons\",\n",
    "        )\n",
    "    )\n",
    "]\n",
    "print(len(exp_folders))\n",
    "pprint(exp_folders)"
   ]
  },
  {
   "cell_type": "code",
   "execution_count": null,
   "metadata": {},
   "outputs": [],
   "source": [
    "data = load_experiment_data(exp_folders, \"model_scores\")\n",
    "test_r2s = {\n",
    "    experiment_name_dict[exp]: exp_data[\"test_r2\"] for exp, exp_data in data.items()\n",
    "}\n",
    "train_r2s = {\n",
    "    experiment_name_dict[exp]: exp_data[\"train_r2\"] for exp, exp_data in data.items()\n",
    "}"
   ]
  },
  {
   "cell_type": "code",
   "execution_count": null,
   "metadata": {},
   "outputs": [],
   "source": [
    "keys = list(test_r2s)\n",
    "indices = np.argsort(list(test_r2s.values()))[::-1]\n",
    "\n",
    "fig, ax1 = plt.subplots(figsize=(7, 2.2))\n",
    "ax1.plot(np.array(list(test_r2s.values()))[indices], linestyle=\"\", marker=\"o\", c=\"C0\")\n",
    "ax1.set_ylabel(\"validation R2\", color=\"C0\")\n",
    "ax1.tick_params(axis=\"y\", labelcolor=\"C0\")\n",
    "\n",
    "ax2 = ax1.twinx()\n",
    "ax2.plot(np.array(list(train_r2s.values()))[indices], linestyle=\"\", marker=\"x\", c=\"C1\")\n",
    "ax2.set_ylabel(\"train R2\", color=\"C1\")\n",
    "ax2.tick_params(axis=\"y\", labelcolor=\"C1\")\n",
    "\n",
    "ax1.grid(alpha=0.4, linestyle=\"--\")\n",
    "ax1.set_xticks(list(range(len(test_r2s))))\n",
    "_ = ax1.set_xticklabels(\n",
    "    list(np.array(list(test_r2s))[indices]), rotation=45, ha=\"right\"\n",
    ")\n",
    "\n",
    "figure_saver.save_figure(fig, \"model_comp_scores\")"
   ]
  }
 ],
 "metadata": {
  "kernelspec": {
   "display_name": "Python [conda env:wildfires] *",
   "language": "python",
   "name": "conda-env-wildfires-py"
  }
 },
 "nbformat": 4,
 "nbformat_minor": 4
}
