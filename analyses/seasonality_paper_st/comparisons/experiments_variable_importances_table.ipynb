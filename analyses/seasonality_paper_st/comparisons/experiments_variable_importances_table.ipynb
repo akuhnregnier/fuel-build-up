{
 "cells": [
  {
   "cell_type": "markdown",
   "metadata": {},
   "source": [
    "#### Setup"
   ]
  },
  {
   "cell_type": "code",
   "execution_count": null,
   "metadata": {},
   "outputs": [],
   "source": [
    "from specific import *"
   ]
  },
  {
   "cell_type": "markdown",
   "metadata": {},
   "source": [
    "### Load the importances for all experiments"
   ]
  },
  {
   "cell_type": "code",
   "execution_count": null,
   "metadata": {},
   "outputs": [],
   "source": [
    "with shelve.open(fi_shelve_file, flag=\"r\") as db:\n",
    "    data = dict(db)"
   ]
  },
  {
   "cell_type": "code",
   "execution_count": null,
   "metadata": {},
   "outputs": [],
   "source": [
    "contents = {}\n",
    "for exp in sort_experiments(data):\n",
    "    variables = shorten_features(repl_fill_names(data[exp][\"Variable\"]))\n",
    "    contents[experiment_name_dict[exp]] = pd.Series(\n",
    "        variables, index=range(1, len(variables) + 1)\n",
    "    )\n",
    "df = pd.DataFrame(contents)\n",
    "df"
   ]
  },
  {
   "cell_type": "code",
   "execution_count": null,
   "metadata": {},
   "outputs": [],
   "source": [
    "print(df.to_latex(index=True, na_rep=\"\"))"
   ]
  }
 ],
 "metadata": {
  "kernelspec": {
   "display_name": "Python [conda env:wildfires] *",
   "language": "python",
   "name": "conda-env-wildfires-py"
  }
 },
 "nbformat": 4,
 "nbformat_minor": 4
}
