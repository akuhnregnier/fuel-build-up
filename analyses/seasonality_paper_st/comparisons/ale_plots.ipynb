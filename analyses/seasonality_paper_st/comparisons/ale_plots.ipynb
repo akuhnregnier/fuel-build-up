{
 "cells": [
  {
   "cell_type": "markdown",
   "metadata": {},
   "source": [
    "#### Setup"
   ]
  },
  {
   "cell_type": "code",
   "execution_count": null,
   "metadata": {},
   "outputs": [],
   "source": [
    "from specific import *"
   ]
  },
  {
   "cell_type": "markdown",
   "metadata": {},
   "source": [
    "### Specify the experiments to compare"
   ]
  },
  {
   "cell_type": "code",
   "execution_count": null,
   "metadata": {},
   "outputs": [],
   "source": [
    "experiments = [\"all\", \"15_most_important\", \"no_temporal_shifts\", \"best_top_15\"]\n",
    "zorders = [7, 6, 5, 4]\n",
    "experiment_zorder_dict = {\n",
    "    experiment: zorder for experiment, zorder in zip(experiments, zorders)\n",
    "}\n",
    "experiment_plot_kwargs = {\n",
    "    experiment: {\n",
    "        \"label\": experiment_name_dict[experiment],\n",
    "        \"c\": experiment_color_dict[experiment],\n",
    "        \"marker\": experiment_marker_dict[experiment],\n",
    "        \"zorder\": experiment_zorder_dict[experiment],\n",
    "    }\n",
    "    for experiment in experiments\n",
    "}\n",
    "\n",
    "# Mirror values for single-parameter experiments, since there can be no clashes\n",
    "# (except for the dry days case).\n",
    "for experiment in (\"fapar_only\", \"lai_only\", \"sif_only\", \"vod_only\"):\n",
    "    experiments.append(experiment)\n",
    "    experiment_plot_kwargs[experiment] = {\n",
    "        \"label\": experiment_name_dict[experiment],\n",
    "        \"c\": experiment_colors[4],\n",
    "        \"marker\": \"|\",\n",
    "        \"zorder\": 3,\n",
    "    }\n",
    "for experiment in (\n",
    "    \"lagged_fapar_only\",\n",
    "    \"lagged_lai_only\",\n",
    "    \"lagged_sif_only\",\n",
    "    \"lagged_vod_only\",\n",
    "):\n",
    "    experiments.append(experiment)\n",
    "    experiment_plot_kwargs[experiment] = {\n",
    "        \"label\": experiment_name_dict[experiment],\n",
    "        \"c\": experiment_colors[5],\n",
    "        \"marker\": \"^\",\n",
    "        \"zorder\": 2,\n",
    "    }"
   ]
  },
  {
   "cell_type": "markdown",
   "metadata": {},
   "source": [
    "### Load data"
   ]
  },
  {
   "cell_type": "code",
   "execution_count": null,
   "metadata": {},
   "outputs": [],
   "source": [
    "experiment_data = load_experiment_data(\n",
    "    experiments,\n",
    "    ignore=(\n",
    "        \"endog_data\",\n",
    "        \"exog_data\",\n",
    "        \"filled_datasets\",\n",
    "        \"masked_datasets\",\n",
    "        \"land_mask\",\n",
    "    ),\n",
    ")"
   ]
  },
  {
   "cell_type": "markdown",
   "metadata": {},
   "source": [
    "### Check that the masks are aligned"
   ]
  },
  {
   "cell_type": "code",
   "execution_count": null,
   "metadata": {},
   "outputs": [],
   "source": [
    "comp_masks = [experiment_data[experiment][\"master_mask\"] for experiment in experiments]\n",
    "assert all(np.all(comp_masks[0] == comp_mask) for comp_mask in comp_masks[1:])"
   ]
  },
  {
   "cell_type": "markdown",
   "metadata": {},
   "source": [
    "## Combining multiple ALE plots across models"
   ]
  },
  {
   "cell_type": "code",
   "execution_count": null,
   "metadata": {},
   "outputs": [],
   "source": [
    "# for experiment in experiments:\n",
    "#     print(experiment)\n",
    "#     print()\n",
    "#     print(\"\\n\".join(sort_features(experiment_data[experiment][\"X_train\"].columns)))\n",
    "#     print()"
   ]
  },
  {
   "cell_type": "code",
   "execution_count": null,
   "metadata": {},
   "outputs": [],
   "source": [
    "legend_bboxes = {\n",
    "    \"Dry Day Period\": (0.5, 1.02),\n",
    "    \"FAPAR\": (0.5, 1.02),\n",
    "    \"LAI\": (0.5, 1.02),\n",
    "    \"SIF\": (0.5, 1.02),\n",
    "    \"VOD Ku-band\": (0.5, 1.02),\n",
    "}\n",
    "\n",
    "for feature, legend_bbox in tqdm(\n",
    "    legend_bboxes.items(), total=len(legend_bboxes), desc=\"Features\"\n",
    "):\n",
    "    multi_model_ale_1d(\n",
    "        get_filled_names(feature),\n",
    "        experiment_data,\n",
    "        experiment_plot_kwargs,\n",
    "        n_jobs=get_ncpus(),\n",
    "        verbose=False,\n",
    "        legend_bbox=legend_bbox,\n",
    "        figure_saver=figure_saver,\n",
    "    )"
   ]
  }
 ],
 "metadata": {
  "kernelspec": {
   "display_name": "Python [conda env:wildfires] *",
   "language": "python",
   "name": "conda-env-wildfires-python3-ffmpeg"
  }
 },
 "nbformat": 4,
 "nbformat_minor": 4
}
