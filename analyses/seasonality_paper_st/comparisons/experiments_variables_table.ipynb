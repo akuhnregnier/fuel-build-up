{
 "cells": [
  {
   "cell_type": "markdown",
   "metadata": {},
   "source": [
    "#### Setup"
   ]
  },
  {
   "cell_type": "code",
   "execution_count": null,
   "metadata": {},
   "outputs": [],
   "source": [
    "from specific import *"
   ]
  },
  {
   "cell_type": "markdown",
   "metadata": {},
   "source": [
    "### Load the dataframes for all experiments"
   ]
  },
  {
   "cell_type": "code",
   "execution_count": null,
   "metadata": {},
   "outputs": [],
   "source": [
    "experiment_data = load_experiment_data(\n",
    "    list(experiment_name_dict),\n",
    "    which=\"data_split\",\n",
    "    ignore=(\"X_train\", \"y_train\", \"y_test\"),\n",
    ")"
   ]
  },
  {
   "cell_type": "markdown",
   "metadata": {},
   "source": [
    "### Parse the dataframes to retrieve the variables used for each experiment"
   ]
  },
  {
   "cell_type": "code",
   "execution_count": null,
   "metadata": {},
   "outputs": [],
   "source": [
    "contents = {}\n",
    "for exp in sort_experiments(experiment_data):\n",
    "    contents[exp] = shorten_features(\n",
    "        repl_fill_names(sort_features(experiment_data[exp][\"X_test\"].columns))\n",
    "    )\n",
    "\n",
    "unique_vars = sort_features(\n",
    "    [var for var in contents[\"all\"] if not re.search(\"\\s.?(\\d+)M\", var)]\n",
    ")"
   ]
  },
  {
   "cell_type": "markdown",
   "metadata": {},
   "source": [
    "### Build the matrix representing which variables are present with which lags for each of the experiments"
   ]
  },
  {
   "cell_type": "code",
   "execution_count": null,
   "metadata": {},
   "outputs": [],
   "source": [
    "condensed = {}\n",
    "for exp, exp_vars in contents.items():\n",
    "    for var in unique_vars:\n",
    "        # Find for which lags the current variable is present (if any).\n",
    "        lags = [f\"{get_lag(v)}M\".replace(\"0M\", \"C\") for v in exp_vars if var in v]\n",
    "        if all(\n",
    "            lag in lags for lag in [\"C\", \"1M\", \"3M\", \"6M\", \"9M\", \"12M\", \"18M\", \"24M\"]\n",
    "        ):\n",
    "            lags = \"C & all A\"\n",
    "        else:\n",
    "            lags = \", \".join(lags)\n",
    "        condensed[(experiment_name_dict[exp], var)] = lags"
   ]
  },
  {
   "cell_type": "code",
   "execution_count": null,
   "metadata": {},
   "outputs": [],
   "source": [
    "df = (\n",
    "    pd.Series(condensed)\n",
    "    .unstack()\n",
    "    .reindex(index=[experiment_name_dict[c] for c in contents], columns=unique_vars)\n",
    ")\n",
    "df"
   ]
  },
  {
   "cell_type": "code",
   "execution_count": null,
   "metadata": {},
   "outputs": [],
   "source": [
    "print(df.to_latex())"
   ]
  }
 ],
 "metadata": {
  "kernelspec": {
   "display_name": "Python [conda env:wildfires]",
   "language": "python",
   "name": "conda-env-wildfires-py"
  }
 },
 "nbformat": 4,
 "nbformat_minor": 2
}
