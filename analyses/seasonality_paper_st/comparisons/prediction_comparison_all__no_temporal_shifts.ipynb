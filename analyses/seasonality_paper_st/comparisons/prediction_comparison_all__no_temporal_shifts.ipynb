{
 "cells": [
  {
   "cell_type": "markdown",
   "metadata": {},
   "source": [
    "#### Setup"
   ]
  },
  {
   "cell_type": "code",
   "execution_count": null,
   "metadata": {},
   "outputs": [],
   "source": [
    "from specific import *\n",
    "\n",
    "orig_figure_saver = figure_saver"
   ]
  },
  {
   "cell_type": "markdown",
   "metadata": {},
   "source": [
    "### Specify the experiments to compare"
   ]
  },
  {
   "cell_type": "code",
   "execution_count": null,
   "metadata": {},
   "outputs": [],
   "source": [
    "experiments = (\"all\", \"no_temporal_shifts\")\n",
    "fmt_exp = [experiment_name_dict[exp] for exp in experiments]\n",
    "assert len(experiments) == 2\n",
    "model_name = f\"comparison_{'__'.join(experiments)}\"\n",
    "figure_saver = orig_figure_saver(sub_directory=model_name)"
   ]
  },
  {
   "cell_type": "markdown",
   "metadata": {},
   "source": [
    "### Load data"
   ]
  },
  {
   "cell_type": "code",
   "execution_count": null,
   "metadata": {},
   "outputs": [],
   "source": [
    "experiment_data = load_experiment_data(\n",
    "    experiments,\n",
    "    ignore=(\n",
    "        \"endog_data\",\n",
    "        \"exog_data\",\n",
    "        \"filled_datasets\",\n",
    "        \"masked_datasets\",\n",
    "        \"land_mask\",\n",
    "    ),\n",
    ")"
   ]
  },
  {
   "cell_type": "markdown",
   "metadata": {},
   "source": [
    "### Check that the masks are aligned"
   ]
  },
  {
   "cell_type": "code",
   "execution_count": null,
   "metadata": {},
   "outputs": [],
   "source": [
    "comp_masks = [experiment_data[experiment][\"master_mask\"] for experiment in experiments]\n",
    "assert all(np.all(comp_masks[0] == comp_mask) for comp_mask in comp_masks[1:])\n",
    "master_mask = experiment_data[experiments[0]][\"master_mask\"]\n",
    "\n",
    "comp_data = [data[\"y_test\"].values for data in experiment_data.values()]\n",
    "assert all(np.all(comp_data[0] == cd) for cd in comp_data[1:])"
   ]
  },
  {
   "cell_type": "markdown",
   "metadata": {},
   "source": [
    "### Predict BA"
   ]
  },
  {
   "cell_type": "code",
   "execution_count": null,
   "metadata": {},
   "outputs": [],
   "source": [
    "val_data = experiment_data[experiments[0]][\"y_test\"].values\n",
    "masked_val_data = get_mm_data(val_data, master_mask, \"val\")\n",
    "\n",
    "predictions = {}\n",
    "errors = {}  # GFED4 - prediction.\n",
    "\n",
    "for experiment, data in experiment_data.items():\n",
    "    print(\"Experiment:\", experiment)\n",
    "\n",
    "    data[\"model\"].n_jobs = get_ncpus()\n",
    "    with parallel_backend(\"threading\", n_jobs=get_ncpus()):\n",
    "        pred = data[\"model\"].predict(data[\"X_test\"])\n",
    "\n",
    "    predictions[experiment] = get_mm_data(pred, master_mask, \"val\")\n",
    "    errors[experiment] = get_mm_data(val_data - pred, master_mask, \"val\")\n",
    "\n",
    "    print(\"R2:\", r2_score(val_data, pred))\n",
    "    print(\"MSE:\", mean_squared_error(val_data, pred))"
   ]
  },
  {
   "cell_type": "code",
   "execution_count": null,
   "metadata": {},
   "outputs": [],
   "source": [
    "stacked = np.hstack(\n",
    "    (\n",
    "        get_unmasked(predictions[experiments[1]]).reshape(-1, 1),\n",
    "        get_unmasked(predictions[experiments[0]]).reshape(-1, 1),\n",
    "    )\n",
    ")"
   ]
  },
  {
   "cell_type": "code",
   "execution_count": null,
   "metadata": {},
   "outputs": [],
   "source": [
    "_ = plt.hist(\n",
    "    stacked, \"auto\", density=True, histtype=\"bar\", stacked=True, label=[\"a\", \"b\"]\n",
    ")\n",
    "_ = plt.yscale(\"log\")\n",
    "_ = plt.legend(loc=\"best\")"
   ]
  },
  {
   "cell_type": "code",
   "execution_count": null,
   "metadata": {},
   "outputs": [],
   "source": [
    "diffs = predictions[experiments[1]] - predictions[experiments[0]]"
   ]
  },
  {
   "cell_type": "code",
   "execution_count": null,
   "metadata": {},
   "outputs": [],
   "source": [
    "error_mag_diff = np.abs(errors[experiments[1]]) - np.abs(errors[experiments[0]])"
   ]
  },
  {
   "cell_type": "code",
   "execution_count": null,
   "metadata": {},
   "outputs": [],
   "source": [
    "error_mean_mag_diff = np.mean(np.abs(errors[experiments[1]]), axis=0) - np.mean(\n",
    "    np.abs(errors[experiments[0]]), axis=0\n",
    ")"
   ]
  },
  {
   "cell_type": "code",
   "execution_count": null,
   "metadata": {},
   "outputs": [],
   "source": [
    "np.mean(error_mag_diff)"
   ]
  },
  {
   "cell_type": "code",
   "execution_count": null,
   "metadata": {},
   "outputs": [],
   "source": [
    "plt.hist(get_unmasked(errors[experiments[0]]), bins=100)\n",
    "plt.yscale(\"log\")"
   ]
  },
  {
   "cell_type": "code",
   "execution_count": null,
   "metadata": {},
   "outputs": [],
   "source": [
    "plt.hist(get_unmasked(errors[experiments[1]]), bins=100)\n",
    "plt.yscale(\"log\")"
   ]
  },
  {
   "cell_type": "code",
   "execution_count": null,
   "metadata": {},
   "outputs": [],
   "source": [
    "plt.hist(get_unmasked(error_mag_diff), bins=100)\n",
    "plt.yscale(\"log\")"
   ]
  },
  {
   "cell_type": "code",
   "execution_count": null,
   "metadata": {},
   "outputs": [],
   "source": [
    "# Plotting params.\n",
    "figsize = (5.1, 2.8)\n",
    "mpl.rcParams[\"figure.figsize\"] = figsize\n",
    "coast_linewidth = 0.3\n",
    "date_str = \"2010-01 to 2015-04\""
   ]
  },
  {
   "cell_type": "code",
   "execution_count": null,
   "metadata": {},
   "outputs": [],
   "source": [
    "boundaries = [-1e-2, -1e-3, -1e-4, 0, 1e-4, 1e-3, 1e-2]\n",
    "\n",
    "fig = cube_plotting(\n",
    "    diffs,\n",
    "    title=f\"BA <{experiments[1]} - {experiments[0]}>\\n{date_str}\",\n",
    "    boundaries=boundaries,\n",
    "    cmap=\"brewer_RdYlBu_11\",\n",
    "    cmap_midpoint=0,\n",
    "    cmap_symmetric=True,\n",
    "    colorbar_kwargs={\n",
    "        \"label\": \"Burned Area Fraction\",\n",
    "        \"format\": \"%0.1e\",\n",
    "    },\n",
    "    coastline_kwargs={\"linewidth\": coast_linewidth},\n",
    ")\n",
    "figure_saver.save_figure(fig, f\"ba_{model_name}\", sub_directory=\"predictions\")"
   ]
  },
  {
   "cell_type": "code",
   "execution_count": null,
   "metadata": {},
   "outputs": [],
   "source": [
    "boundaries = [-1e-1, 0, 0.1 ** 0.5, 1, 1e1]\n",
    "\n",
    "fig = cube_plotting(\n",
    "    diffs / predictions[experiments[0]],\n",
    "    title=f\"BA <{experiments[1]} - {experiments[0]}> / {experiments[0]}\\n{date_str}\",\n",
    "    boundaries=boundaries,\n",
    "    cmap=\"brewer_RdYlBu_11\",\n",
    "    cmap_midpoint=0,\n",
    "    cmap_symmetric=False,\n",
    "    colorbar_kwargs={\n",
    "        \"label\": \"1\",\n",
    "        \"format\": \"%0.1e\",\n",
    "    },\n",
    "    coastline_kwargs={\"linewidth\": coast_linewidth},\n",
    ")\n",
    "figure_saver.save_figure(fig, f\"rel_ba_{model_name}\", sub_directory=\"predictions\")"
   ]
  },
  {
   "cell_type": "code",
   "execution_count": null,
   "metadata": {},
   "outputs": [],
   "source": [
    "abs_diffs = np.abs(diffs)\n",
    "vmax = np.max(abs_diffs)\n",
    "boundaries = [1e-5, 1e-4, 1e-3, 1e-2, vmax]\n",
    "\n",
    "fig = cube_plotting(\n",
    "    abs_diffs,\n",
    "    title=f\"BA <|{experiments[1]} - {experiments[0]}|>\\n{date_str}\",\n",
    "    boundaries=boundaries,\n",
    "    cmap=\"YlOrRd\",\n",
    "    colorbar_kwargs={\n",
    "        \"label\": \"Burned Area Fraction\",\n",
    "        \"format\": \"%0.1e\",\n",
    "    },\n",
    "    coastline_kwargs={\"linewidth\": coast_linewidth},\n",
    ")\n",
    "figure_saver.save_figure(fig, f\"ba_mean_abs_{model_name}\", sub_directory=\"predictions\")"
   ]
  },
  {
   "cell_type": "code",
   "execution_count": null,
   "metadata": {},
   "outputs": [],
   "source": [
    "boundaries = [0.1, 0.316, 1, 3.16, 10]\n",
    "\n",
    "fig = cube_plotting(\n",
    "    np.abs(diffs) / predictions[experiments[0]],\n",
    "    title=f\"BA <|{experiments[1]} - {experiments[0]}|> / {experiments[0]}\\n{date_str}\",\n",
    "    boundaries=boundaries,\n",
    "    cmap=\"YlOrBr\",\n",
    "    colorbar_kwargs={\n",
    "        \"label\": \"1\",\n",
    "        \"format\": \"%0.1e\",\n",
    "    },\n",
    "    coastline_kwargs={\"linewidth\": coast_linewidth},\n",
    ")\n",
    "figure_saver.save_figure(\n",
    "    fig, f\"rel_ba_mean_abs_{model_name}\", sub_directory=\"predictions\"\n",
    ")"
   ]
  },
  {
   "cell_type": "markdown",
   "metadata": {},
   "source": [
    "#### Comparison of the error between the experiments"
   ]
  },
  {
   "cell_type": "code",
   "execution_count": null,
   "metadata": {},
   "outputs": [],
   "source": [
    "boundaries = [1e-5, 1e-4, 1e-3, 1e-2, 1e-1]\n",
    "extend = \"both\"\n",
    "\n",
    "for experiment, error in errors.items():\n",
    "    fig = cube_plotting(\n",
    "        np.abs(error),\n",
    "        title=f\"BA <|Error({experiment})|>\\n{date_str}\",\n",
    "        boundaries=boundaries,\n",
    "        extend=extend,\n",
    "        cmap=\"inferno\",\n",
    "        colorbar_kwargs={\n",
    "            \"label\": \"BA Fraction\",\n",
    "            \"format\": \"%0.1e\",\n",
    "        },\n",
    "        coastline_kwargs={\"linewidth\": coast_linewidth},\n",
    "        log=True,\n",
    "    )\n",
    "    figure_saver.save_figure(\n",
    "        fig, f\"error_mag_{experiment}_{model_name}\", sub_directory=\"predictions\"\n",
    "    )"
   ]
  },
  {
   "cell_type": "code",
   "execution_count": null,
   "metadata": {},
   "outputs": [],
   "source": [
    "boundaries = [\n",
    "    np.min(error_mag_diff),\n",
    "    -1e-2,\n",
    "    -1e-3,\n",
    "    0,\n",
    "    1e-3,\n",
    "    1e-2,\n",
    "    np.max(error_mag_diff),\n",
    "]\n",
    "\n",
    "fig = cube_plotting(\n",
    "    error_mag_diff,\n",
    "    #     title=f\"BA <|Error({experiments[1]})| - |Error({experiments[0]})|>\\n{date_str}\",\n",
    "    title=\"\",\n",
    "    boundaries=boundaries,\n",
    "    cmap=\"brewer_RdYlBu_11\",\n",
    "    cmap_midpoint=0,\n",
    "    cmap_symmetric=False,\n",
    "    colorbar_kwargs={\n",
    "        # \"label\": \"BA Fraction\",\n",
    "        \"label\": f\"|Err({fmt_exp[1]})| - |Err({fmt_exp[0]})|\",\n",
    "        \"format\": \"%0.1e\",\n",
    "    },\n",
    "    coastline_kwargs={\"linewidth\": coast_linewidth},\n",
    ")\n",
    "figure_saver.save_figure(\n",
    "    fig, f\"error_mag_diff_{model_name}\", sub_directory=\"predictions\"\n",
    ")"
   ]
  },
  {
   "cell_type": "code",
   "execution_count": null,
   "metadata": {},
   "outputs": [],
   "source": [
    "rel_error_mag_diff = np.mean(error_mag_diff, axis=0) / np.mean(masked_val_data, axis=0)\n",
    "all_rel = get_unmasked(rel_error_mag_diff)"
   ]
  },
  {
   "cell_type": "code",
   "execution_count": null,
   "metadata": {},
   "outputs": [],
   "source": [
    "plt.figure(figsize=(8, 4))\n",
    "plt.ylabel(\"Counts\")\n",
    "plt.xlabel(\"Relative Error Magnitude Differences (+ve : all model improvement)\")\n",
    "_ = plt.hist(all_rel, log=True, bins=100)"
   ]
  },
  {
   "cell_type": "code",
   "execution_count": null,
   "metadata": {},
   "outputs": [],
   "source": [
    "plt.figure(figsize=(8, 4))\n",
    "plt.ylabel(\"Counts\")\n",
    "plt.xlabel(\"Relative Error Magnitude Differences (+ve : all model improvement)\")\n",
    "lim = 1\n",
    "mask = (all_rel > -lim) & (all_rel < lim)\n",
    "_ = plt.hist(all_rel[mask], log=True, bins=100)"
   ]
  },
  {
   "cell_type": "code",
   "execution_count": null,
   "metadata": {},
   "outputs": [],
   "source": [
    "print(f\"% >0: {100 * np.sum(all_rel > 0) / all_rel.size:0.1f}\")\n",
    "print(f\"% <0: {100 * np.sum(all_rel < 0) / all_rel.size:0.1f}\")"
   ]
  },
  {
   "cell_type": "code",
   "execution_count": null,
   "metadata": {},
   "outputs": [],
   "source": [
    "cbar_fmt = ticker.FuncFormatter(lambda x, pos: simple_sci_format(x))\n",
    "\n",
    "fig, cbar = cube_plotting(\n",
    "    rel_error_mag_diff,\n",
    "    #     title=f\"BA <(|Error({experiments[1]})| - |Error({experiments[0]})|)> / <GFED4>\\n{date_str}\",\n",
    "    title=\"\",\n",
    "    #     boundaries=boundaries,\n",
    "    vmin=-0.5,\n",
    "    vmax=0.5,\n",
    "    nbins=2,\n",
    "    cmap=\"PiYG\",\n",
    "    cmap_midpoint=0,\n",
    "    cmap_symmetric=False,\n",
    "    colorbar_kwargs={\n",
    "        \"label\": f\"<|Err({fmt_exp[1]})| - |Err({fmt_exp[0]})|> / <Ob.>\",\n",
    "        \"format\": cbar_fmt,\n",
    "        \"shrink\": 0.5,\n",
    "        \"extendfrac\": 0.1,\n",
    "        \"pad\": 0.02,\n",
    "    },\n",
    "    coastline_kwargs={\"linewidth\": coast_linewidth},\n",
    "    return_cbar=True,\n",
    ")\n",
    "cbar.ax.yaxis.label.set_size(7)\n",
    "figure_saver.save_figure(\n",
    "    fig, f\"rel_error_mag_diff_{model_name}\", sub_directory=\"predictions\"\n",
    ")"
   ]
  }
 ],
 "metadata": {
  "kernelspec": {
   "display_name": "Python [conda env:wildfires]",
   "language": "python",
   "name": "conda-env-wildfires-py"
  }
 },
 "nbformat": 4,
 "nbformat_minor": 4
}
