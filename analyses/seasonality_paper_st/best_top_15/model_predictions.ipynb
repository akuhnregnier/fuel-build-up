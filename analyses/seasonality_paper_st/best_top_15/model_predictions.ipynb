{
 "cells": [
  {
   "cell_type": "markdown",
   "metadata": {},
   "source": [
    "## Setup"
   ]
  },
  {
   "cell_type": "code",
   "execution_count": null,
   "metadata": {},
   "outputs": [],
   "source": [
    "from specific import *"
   ]
  },
  {
   "cell_type": "markdown",
   "metadata": {},
   "source": [
    "### Get shifted data"
   ]
  },
  {
   "cell_type": "code",
   "execution_count": null,
   "metadata": {},
   "outputs": [],
   "source": [
    "(\n",
    "    endog_data,\n",
    "    exog_data,\n",
    "    master_mask,\n",
    "    filled_datasets,\n",
    "    masked_datasets,\n",
    "    land_mask,\n",
    ") = get_offset_data()"
   ]
  },
  {
   "cell_type": "markdown",
   "metadata": {},
   "source": [
    "### Retrieve previous results from the 'model' notebook"
   ]
  },
  {
   "cell_type": "code",
   "execution_count": null,
   "metadata": {},
   "outputs": [],
   "source": [
    "X_train, X_val, y_train, y_val = data_split_cache.load()\n",
    "rf = get_model()\n",
    "masked_train_data = get_mm_data(y_train.values, master_mask, \"train\")\n",
    "masked_val_data = get_mm_data(y_val.values, master_mask, \"val\")"
   ]
  },
  {
   "cell_type": "markdown",
   "metadata": {},
   "source": [
    "### Predict out-of-sample BA"
   ]
  },
  {
   "cell_type": "code",
   "execution_count": null,
   "metadata": {},
   "outputs": [],
   "source": [
    "n_threads = get_ncpus()\n",
    "rf.n_jobs = n_threads\n",
    "with parallel_backend(\"threading\", n_jobs=n_threads):\n",
    "    predicted_ba = get_mm_data(rf.predict(X_val), master_mask, \"val\")"
   ]
  },
  {
   "cell_type": "code",
   "execution_count": null,
   "metadata": {},
   "outputs": [],
   "source": [
    "model_name = \"RF1\"\n",
    "\n",
    "# Plotting params.\n",
    "\n",
    "\n",
    "def get_plot_kwargs(cbar_label=\"Burned Area Fraction\", **kwargs):\n",
    "    return {\n",
    "        **dict(\n",
    "            fig=plt.figure(figsize=(5.1, 2.8)),\n",
    "            colorbar_kwargs={\"label\": cbar_label, \"format\": \"%0.0e\"},\n",
    "            coastline_kwargs={\"linewidth\": 0.3},\n",
    "            cmap=\"brewer_RdYlBu_11\",\n",
    "        ),\n",
    "        **kwargs,\n",
    "    }\n",
    "\n",
    "\n",
    "date_str = \"2010-01 to 2015-01\""
   ]
  },
  {
   "cell_type": "code",
   "execution_count": null,
   "metadata": {},
   "outputs": [],
   "source": [
    "assert np.all(predicted_ba.mask == masked_val_data.mask)"
   ]
  },
  {
   "cell_type": "code",
   "execution_count": null,
   "metadata": {},
   "outputs": [],
   "source": [
    "boundaries = [1e-5, 1e-4, 1e-3, 1e-2, 1e-1]\n",
    "\n",
    "cmap = \"YlOrRd\"\n",
    "extend = \"both\"\n",
    "\n",
    "# Plotting predicted.\n",
    "fig = cube_plotting(\n",
    "    predicted_ba,\n",
    "    **get_plot_kwargs(\n",
    "        cmap=cmap,\n",
    "        title=f\"Predicted BA\\n{date_str}\",\n",
    "        boundaries=boundaries,\n",
    "        extend=extend,\n",
    "    ),\n",
    ")\n",
    "figure_saver.save_figure(fig, f\"predicted_ba_{model_name}\", sub_directory=\"predictions\")\n",
    "\n",
    "# Plotting observed.\n",
    "fig = cube_plotting(\n",
    "    masked_val_data,\n",
    "    **get_plot_kwargs(\n",
    "        cmap=cmap,\n",
    "        title=f\"Observed BA\\n{date_str}\",\n",
    "        boundaries=boundaries,\n",
    "        extend=extend,\n",
    "    ),\n",
    ")\n",
    "figure_saver.save_figure(fig, f\"observed_ba_{model_name}\", sub_directory=\"predictions\")"
   ]
  },
  {
   "cell_type": "code",
   "execution_count": null,
   "metadata": {},
   "outputs": [],
   "source": [
    "frac_diffs = (masked_val_data - predicted_ba) / masked_val_data"
   ]
  },
  {
   "cell_type": "code",
   "execution_count": null,
   "metadata": {},
   "outputs": [],
   "source": [
    "# Plotting differences.\n",
    "diff_boundaries = [-1e1, -1e0, 0, 1e-1]\n",
    "extend = \"both\"\n",
    "\n",
    "fig = cube_plotting(\n",
    "    frac_diffs,\n",
    "    **get_plot_kwargs(\n",
    "        title=f\"BA Discrepancy <(Obs. - Pred.) / Obs.> \\n{date_str}\",\n",
    "        cmap_midpoint=0,\n",
    "        boundaries=diff_boundaries,\n",
    "        colorbar_kwargs={\"label\": \"(Obs. - Pred.) / Obs.\", \"format\": \"%0.0e\"},\n",
    "        extend=extend,\n",
    "    ),\n",
    ")\n",
    "figure_saver.save_figure(\n",
    "    fig, f\"difference_ba_{model_name}\", sub_directory=\"predictions\"\n",
    ")"
   ]
  },
  {
   "cell_type": "code",
   "execution_count": null,
   "metadata": {},
   "outputs": [],
   "source": [
    "rel_mse = frac_diffs ** 2"
   ]
  },
  {
   "cell_type": "code",
   "execution_count": null,
   "metadata": {},
   "outputs": [],
   "source": [
    "# Plotting differences.\n",
    "diff_boundaries = [1e-1, 1, 1e1, 1e2, 1e3]\n",
    "extend = \"both\"\n",
    "\n",
    "fig = cube_plotting(\n",
    "    rel_mse,\n",
    "    **get_plot_kwargs(\n",
    "        cmap=\"inferno\",\n",
    "        title=r\"BA Discrepancy <$\\mathrm{((Obs. - Pred.) / Obs.)}^2$>\"\n",
    "        + f\"\\n{date_str}\",\n",
    "        boundaries=diff_boundaries,\n",
    "        colorbar_kwargs={\"label\": \"1\", \"format\": \"%0.0e\"},\n",
    "        extend=extend,\n",
    "    ),\n",
    ")\n",
    "figure_saver.save_figure(\n",
    "    fig, f\"rel_mse_difference_ba_{model_name}\", sub_directory=\"predictions\"\n",
    ")"
   ]
  }
 ],
 "metadata": {
  "kernelspec": {
   "display_name": "Python [conda env:wildfires] *",
   "language": "python",
   "name": "conda-env-wildfires-py"
  }
 },
 "nbformat": 4,
 "nbformat_minor": 4
}
