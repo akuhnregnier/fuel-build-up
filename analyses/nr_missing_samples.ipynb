{
 "cells": [
  {
   "cell_type": "code",
   "execution_count": null,
   "metadata": {},
   "outputs": [],
   "source": [
    "import concurrent.futures\n",
    "import warnings\n",
    "from datetime import datetime\n",
    "from functools import reduce\n",
    "from pathlib import Path\n",
    "\n",
    "import iris\n",
    "import matplotlib as mpl\n",
    "import matplotlib.pyplot as plt\n",
    "import numpy as np\n",
    "from mpl_toolkits.axes_grid1 import make_axes_locatable\n",
    "from scipy.optimize import minimize\n",
    "\n",
    "from wildfires.analysis import *\n",
    "from wildfires.data import *\n",
    "from wildfires.logging_config import enable_logging\n",
    "from wildfires.qstat import *\n",
    "from wildfires.utils import *\n",
    "\n",
    "if \"TQDMAUTO\" in os.environ:\n",
    "    from tqdm.auto import tqdm\n",
    "else:\n",
    "    from tqdm import tqdm\n",
    "\n",
    "enable_logging(\"jupyter\")\n",
    "figure_saver = FigureSaver(directories=Path(\"~\") / \"tmp\" / \"interp_comp\", debug=True)\n",
    "\n",
    "warnings.filterwarnings(\"ignore\", \".*Collapsing a non-contiguous coordinate.*\")\n",
    "warnings.filterwarnings(\"ignore\", \".*DEFAULT_SPHERICAL_EARTH_RADIUS.*\")\n",
    "warnings.filterwarnings(\"ignore\", \".*guessing contiguous bounds.*\")\n",
    "warnings.filterwarnings(\"ignore\", \".*divide by zero.*\")\n",
    "\n",
    "mpl.rc(\"figure\", figsize=(12, 6))"
   ]
  },
  {
   "cell_type": "markdown",
   "metadata": {},
   "source": [
    "## Create datasets"
   ]
  },
  {
   "cell_type": "code",
   "execution_count": null,
   "metadata": {},
   "outputs": [],
   "source": [
    "variables = (\"SWI(1)\", \"FAPAR\", \"LAI\", \"VOD Ku-band\", \"SIF\")\n",
    "datasets = Datasets(\n",
    "    (Copernicus_SWI(), MOD15A2H_LAI_fPAR(), VODCA(), GlobFluo_SIF())\n",
    ").select_variables(variables)"
   ]
  },
  {
   "cell_type": "markdown",
   "metadata": {},
   "source": [
    "### Temporal interpolation"
   ]
  },
  {
   "cell_type": "code",
   "execution_count": null,
   "metadata": {},
   "outputs": [],
   "source": [
    "timeperiod = (datetime(2010, 1, 1, 0, 0), datetime(2015, 4, 1, 0, 0))\n",
    "period_str = f\"{timeperiod[0]:%Y-%m} - {timeperiod[1]:%Y-%m}\"\n",
    "for dataset in datasets:\n",
    "    dataset.limit_months(*timeperiod)"
   ]
  },
  {
   "cell_type": "code",
   "execution_count": null,
   "metadata": {},
   "outputs": [],
   "source": [
    "datasets.show(\"pretty\")"
   ]
  },
  {
   "cell_type": "markdown",
   "metadata": {},
   "source": [
    "### Combined mask"
   ]
  },
  {
   "cell_type": "code",
   "execution_count": null,
   "metadata": {},
   "outputs": [],
   "source": [
    "total_masks = []\n",
    "\n",
    "for var in tqdm(variables, desc=\"Variable\"):\n",
    "    cube = datasets.select_variables(var, inplace=False).cube.copy()\n",
    "    if not cube.coords(\"month_number\"):\n",
    "        iris.coord_categorisation.add_month_number(cube, \"time\")\n",
    "\n",
    "    # Ignore areas that are always masked, e.g. water.\n",
    "    ignore_mask = np.all(cube.data.mask, axis=0)\n",
    "\n",
    "    # Also ignore those areas with low data availability.\n",
    "    ignore_mask |= np.sum(cube.data.mask, axis=0) > (\n",
    "        5 * 6\n",
    "        + 8  # Up to 6 months for each of the 5 complete years.  # Extra Jan, Feb, Mar, Apr, X, X, X, X\n",
    "    )\n",
    "\n",
    "    total_masks.append(ignore_mask)\n",
    "\n",
    "combined_mask = reduce(\n",
    "    np.logical_or, [regrid(dummy_lat_lon_cube(mask)).data for mask in total_masks]\n",
    ")"
   ]
  },
  {
   "cell_type": "code",
   "execution_count": null,
   "metadata": {},
   "outputs": [],
   "source": [
    "# Plot combined ignore masks.\n",
    "fig = cube_plotting(\n",
    "    combined_mask,\n",
    "    title=f\"Combined Mask\\n{period_str}\",\n",
    "    colorbar_kwargs={\"label\": \"masked\"},\n",
    "    boundaries=np.linspace(0, 1, 3),\n",
    "    fig=plt.figure(figsize=(18, 9)),\n",
    ")\n",
    "figure_saver.save_figure(fig, f\"combined mask samples\")"
   ]
  },
  {
   "cell_type": "code",
   "execution_count": null,
   "metadata": {},
   "outputs": [],
   "source": [
    "ba_dataset = GFEDv4()\n",
    "ba_dataset.limit_months(*timeperiod)\n",
    "mean_ba = ba_dataset.cube.collapsed(\"time\", iris.analysis.MEAN)\n",
    "mean_ba.data.mask = ~get_land_mask()"
   ]
  },
  {
   "cell_type": "code",
   "execution_count": null,
   "metadata": {},
   "outputs": [],
   "source": [
    "fig = cube_plotting(\n",
    "    mean_ba,\n",
    "    title=f\"Mean BA\\n{period_str}\",\n",
    "    colorbar_kwargs={\"label\": \"BA\", \"format\": \"%0.0e\"},\n",
    "    cmap=\"YlOrRd\",\n",
    "    fig=plt.figure(figsize=(18, 9)),\n",
    "    boundaries=[1e-5, 1e-4, 1e-3, 1e-2, 1e-1],\n",
    "    extend=\"min\",\n",
    ")\n",
    "figure_saver.save_figure(fig, f\"burned area\")"
   ]
  },
  {
   "cell_type": "code",
   "execution_count": null,
   "metadata": {},
   "outputs": [],
   "source": [
    "masked_mean_ba = mean_ba.copy()\n",
    "masked_mean_ba.data.mask = combined_mask\n",
    "fig = cube_plotting(\n",
    "    masked_mean_ba,\n",
    "    title=f\"Mean BA\\n{period_str}\",\n",
    "    colorbar_kwargs={\"label\": \"BA\", \"format\": \"%0.0e\"},\n",
    "    cmap=\"YlOrRd\",\n",
    "    fig=plt.figure(figsize=(18, 9)),\n",
    "    boundaries=[1e-5, 1e-4, 1e-3, 1e-2, 1e-1],\n",
    "    extend=\"min\",\n",
    ")\n",
    "figure_saver.save_figure(fig, f\"combined mask burned area\")"
   ]
  }
 ],
 "metadata": {
  "kernelspec": {
   "display_name": "Python [conda env:wildfires] *",
   "language": "python",
   "name": "conda-env-wildfires-py"
  }
 },
 "nbformat": 4,
 "nbformat_minor": 4
}
