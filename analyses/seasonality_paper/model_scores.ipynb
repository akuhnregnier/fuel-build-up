{
 "cells": [
  {
   "cell_type": "markdown",
   "metadata": {},
   "source": [
    "### Setup"
   ]
  },
  {
   "cell_type": "code",
   "execution_count": null,
   "metadata": {},
   "outputs": [],
   "source": [
    "from common import *\n",
    "\n",
    "figure_saver = figure_saver(sub_directory=\"model_scores\")"
   ]
  },
  {
   "cell_type": "markdown",
   "metadata": {},
   "source": [
    "## Compare model performance scores"
   ]
  },
  {
   "cell_type": "code",
   "execution_count": null,
   "metadata": {},
   "outputs": [],
   "source": [
    "test_r2s = {\n",
    "    \"top 15\": 0.631643,\n",
    "    \"all\": 0.65022849,\n",
    "    \"best top 15\": 0.6436475,\n",
    "    \"best top 15 (fAPAR)\": 0.638746146,\n",
    "    \"lagged fAPAR only\": 0.6163932,\n",
    "    \"lagged LAI only\": 0.60071183,\n",
    "    \"lagged SIF only\": 0.56796745,\n",
    "    \"lagged VOD only\": 0.564488348,\n",
    "    \"best top 15 (LAI)\": 0.61294693,\n",
    "    \"no lags\": 0.52877133,\n",
    "    \"best top 15 (SIF)\": 0.57809028,\n",
    "    \"best top 15 (VOD)\": 0.58384091,\n",
    "}\n",
    "\n",
    "train_r2s = {\n",
    "    \"top 15\": 0.85488,\n",
    "    \"all\": 0.8672074,\n",
    "    \"best top 15\": 0.856899,\n",
    "    \"best top 15 (fAPAR)\": 0.8575196,\n",
    "    \"lagged fAPAR only\": 0.848712,\n",
    "    \"lagged LAI only\": 0.840077,\n",
    "    \"lagged SIF only\": 0.82152396,\n",
    "    \"lagged VOD only\": 0.81809887,\n",
    "    \"best top 15 (LAI)\": 0.8429241,\n",
    "    \"no lags\": 0.7993019,\n",
    "    \"best top 15 (SIF)\": 0.827026295,\n",
    "    \"best top 15 (VOD)\": 0.828206576,\n",
    "}"
   ]
  },
  {
   "cell_type": "code",
   "execution_count": null,
   "metadata": {},
   "outputs": [],
   "source": [
    "keys = list(test_r2s)\n",
    "indices = np.argsort(list(test_r2s.values()))[::-1]\n",
    "\n",
    "fig, ax1 = plt.subplots(figsize=(7, 2.2))\n",
    "ax1.plot(np.array(list(test_r2s.values()))[indices], linestyle=\"\", marker=\"o\", c=\"C0\")\n",
    "ax1.set_ylabel(\"validation R2\", color=\"C0\")\n",
    "ax1.tick_params(axis=\"y\", labelcolor=\"C0\")\n",
    "\n",
    "ax2 = ax1.twinx()\n",
    "ax2.plot(np.array(list(train_r2s.values()))[indices], linestyle=\"\", marker=\"x\", c=\"C1\")\n",
    "ax2.set_ylabel(\"train R2\", color=\"C1\")\n",
    "ax2.tick_params(axis=\"y\", labelcolor=\"C1\")\n",
    "\n",
    "ax1.grid(alpha=0.4, linestyle=\"--\")\n",
    "ax1.set_xticks(list(range(len(test_r2s))))\n",
    "_ = ax1.set_xticklabels(\n",
    "    list(np.array(list(test_r2s))[indices]), rotation=45, ha=\"right\"\n",
    ")\n",
    "\n",
    "figure_saver.save_figure(fig, \"model_comp_scores\")"
   ]
  }
 ],
 "metadata": {
  "kernelspec": {
   "display_name": "Python [conda env:wildfires] *",
   "language": "python",
   "name": "conda-env-wildfires-py"
  }
 },
 "nbformat": 4,
 "nbformat_minor": 4
}
