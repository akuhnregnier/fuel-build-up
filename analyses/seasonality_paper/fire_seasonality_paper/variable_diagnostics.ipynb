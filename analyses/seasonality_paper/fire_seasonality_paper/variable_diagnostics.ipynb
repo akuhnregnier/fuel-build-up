{
 "cells": [
  {
   "cell_type": "markdown",
   "metadata": {},
   "source": [
    "## Setup"
   ]
  },
  {
   "cell_type": "code",
   "execution_count": null,
   "metadata": {},
   "outputs": [],
   "source": [
    "from specific import *"
   ]
  },
  {
   "cell_type": "code",
   "execution_count": null,
   "metadata": {},
   "outputs": [],
   "source": []
  },
  {
   "cell_type": "code",
   "execution_count": null,
   "metadata": {},
   "outputs": [],
   "source": [
    "a = ESA_CCI_Landcover_PFT()\n",
    "cube = Datasets(a).select_variables(\"pftCrop\").cube"
   ]
  },
  {
   "cell_type": "code",
   "execution_count": null,
   "metadata": {},
   "outputs": [],
   "source": [
    "cube.name()"
   ]
  },
  {
   "cell_type": "code",
   "execution_count": null,
   "metadata": {},
   "outputs": [],
   "source": [
    "cube_plotting(cube.data)"
   ]
  },
  {
   "cell_type": "code",
   "execution_count": null,
   "metadata": {},
   "outputs": [],
   "source": [
    "from datetime import datetime\n",
    "\n",
    "from wildfires.data import prepare_selection\n",
    "\n",
    "a2 = prepare_selection(\n",
    "    Datasets(a),\n",
    "    min_time=datetime(2010, 1, 1),\n",
    "    max_time=datetime(2015, 4, 1),\n",
    "    which=\"climatology\",\n",
    ")"
   ]
  },
  {
   "cell_type": "code",
   "execution_count": null,
   "metadata": {},
   "outputs": [],
   "source": [
    "cube_plotting(a2.cube.data)"
   ]
  },
  {
   "cell_type": "code",
   "execution_count": null,
   "metadata": {},
   "outputs": [],
   "source": [
    "cube_plotting(cube.data)"
   ]
  },
  {
   "cell_type": "code",
   "execution_count": null,
   "metadata": {},
   "outputs": [],
   "source": [
    "cube_plotting(cube.data.data)"
   ]
  },
  {
   "cell_type": "code",
   "execution_count": null,
   "metadata": {},
   "outputs": [],
   "source": [
    "cube.data.min()"
   ]
  },
  {
   "cell_type": "code",
   "execution_count": null,
   "metadata": {},
   "outputs": [],
   "source": [
    "cube.shape"
   ]
  },
  {
   "cell_type": "code",
   "execution_count": null,
   "metadata": {},
   "outputs": [],
   "source": [
    "b = a.copy(deep=True)"
   ]
  },
  {
   "cell_type": "code",
   "execution_count": null,
   "metadata": {},
   "outputs": [],
   "source": [
    "b.regrid()"
   ]
  },
  {
   "cell_type": "code",
   "execution_count": null,
   "metadata": {},
   "outputs": [],
   "source": [
    "b.cube"
   ]
  },
  {
   "cell_type": "code",
   "execution_count": null,
   "metadata": {},
   "outputs": [],
   "source": [
    "cube_plotting(b.cube.data)"
   ]
  },
  {
   "cell_type": "code",
   "execution_count": null,
   "metadata": {},
   "outputs": [],
   "source": [
    "interp_cubes = b.interpolate_yearly_data(datetime(2010, 1, 1), datetime(2015, 4, 1))"
   ]
  },
  {
   "cell_type": "code",
   "execution_count": null,
   "metadata": {},
   "outputs": [],
   "source": [
    "cube_plotting(interp_cubes[0].data.data > 1)"
   ]
  },
  {
   "cell_type": "code",
   "execution_count": null,
   "metadata": {},
   "outputs": [],
   "source": [
    "cube_plotting(interp_cubes[0].data.data < 0)"
   ]
  },
  {
   "cell_type": "code",
   "execution_count": null,
   "metadata": {},
   "outputs": [],
   "source": [
    "cube_plotting(np.mean(interp_cubes[0].data, axis=0))"
   ]
  },
  {
   "cell_type": "code",
   "execution_count": null,
   "metadata": {},
   "outputs": [],
   "source": [
    "cube_plotting(interp_cubes[0].data.data)"
   ]
  },
  {
   "cell_type": "code",
   "execution_count": null,
   "metadata": {},
   "outputs": [],
   "source": [
    "cube_plotting(b.cube.data.mask)"
   ]
  },
  {
   "cell_type": "markdown",
   "metadata": {},
   "source": [
    "### Get unshifted data"
   ]
  },
  {
   "cell_type": "code",
   "execution_count": null,
   "metadata": {},
   "outputs": [],
   "source": [
    "# XXX:\n",
    "# data_memory.clear()\n",
    "\n",
    "(\n",
    "    endog_data,\n",
    "    exog_data,\n",
    "    master_mask,\n",
    "    filled_datasets,\n",
    "    masked_datasets,\n",
    "    land_mask,\n",
    ") = get_data()"
   ]
  },
  {
   "cell_type": "code",
   "execution_count": null,
   "metadata": {},
   "outputs": [],
   "source": [
    "_, _, _, filled1, _, _ = data_processing(\n",
    "    Datasets([ESA_CCI_Landcover_PFT(), GFEDv4()]).select_variables(\n",
    "        (\"pftCrop\", \"GFED4 BA\")\n",
    "    )\n",
    ")"
   ]
  },
  {
   "cell_type": "code",
   "execution_count": null,
   "metadata": {},
   "outputs": [],
   "source": [
    "cube_plotting(filled1.select_variables(\"pftCrop\", inplace=False).cube)"
   ]
  },
  {
   "cell_type": "code",
   "execution_count": null,
   "metadata": {},
   "outputs": [],
   "source": [
    "selection_datasets = [\n",
    "    AvitabileThurnerAGB(),\n",
    "    Copernicus_SWI(),\n",
    "    ERA5_Temperature(),\n",
    "    ESA_CCI_Landcover_PFT(),\n",
    "    GFEDv4(),\n",
    "    HYDE(),\n",
    "    WWLLN(),\n",
    "]\n",
    "# These datasets will potentially be shifted.\n",
    "datasets_to_shift = [\n",
    "    ERA5_DryDayPeriod(),\n",
    "    MOD15A2H_LAI_fPAR(),\n",
    "    VODCA(),\n",
    "    GlobFluo_SIF(),\n",
    "]\n",
    "selection_datasets += datasets_to_shift\n",
    "dataset_times(selection_datasets, lat_lon=True)[2]"
   ]
  },
  {
   "cell_type": "code",
   "execution_count": null,
   "metadata": {},
   "outputs": [],
   "source": [
    "masked_datasets.select_variables(\"pftCrop\", inplace=False)"
   ]
  },
  {
   "cell_type": "code",
   "execution_count": null,
   "metadata": {},
   "outputs": [],
   "source": [
    "cube_plotting(master_mask.astype(\"float\"))"
   ]
  },
  {
   "cell_type": "code",
   "execution_count": null,
   "metadata": {},
   "outputs": [],
   "source": [
    "cube_plotting(\n",
    "    masked_datasets.select_variables(\"popd\", inplace=False).cube.data,\n",
    "    log=True,\n",
    "    title=\"popd\",\n",
    ")"
   ]
  },
  {
   "cell_type": "code",
   "execution_count": null,
   "metadata": {},
   "outputs": [],
   "source": [
    "plt.hist(\n",
    "    get_unmasked(masked_datasets.select_variables(\"popd\", inplace=False).cube.data),\n",
    "    bins=100,\n",
    ")\n",
    "plt.yscale(\"log\")"
   ]
  },
  {
   "cell_type": "code",
   "execution_count": null,
   "metadata": {},
   "outputs": [],
   "source": [
    "mask_variables = [\n",
    "    \"AGB Tree\",\n",
    "    \"SWI(1)\",\n",
    "    \"pftCrop\",\n",
    "    \"pftHerb\",\n",
    "    \"SIF\",\n",
    "    \"popd\",\n",
    "    \"FAPAR\",\n",
    "    \"LAI\",\n",
    "    \"VOD Ku-band\",\n",
    "]\n",
    "for var in mask_variables:\n",
    "    selected = masked_datasets.select_variables(var, inplace=False)\n",
    "    cube_plotting(selected.cube.data.mask, title=f\"{var} Mask\")\n",
    "    cube_plotting(selected.cube.data, title=f\"{var} Data\")"
   ]
  },
  {
   "cell_type": "code",
   "execution_count": null,
   "metadata": {},
   "outputs": [],
   "source": [
    "cube_plotting(GFEDv4().cube.data, log=True)"
   ]
  },
  {
   "cell_type": "code",
   "execution_count": null,
   "metadata": {},
   "outputs": [],
   "source": [
    "for cube in masked_datasets.cubes[42:]:\n",
    "    print(cube.name())"
   ]
  },
  {
   "cell_type": "code",
   "execution_count": null,
   "metadata": {},
   "outputs": [],
   "source": [
    "master_mask2 = None\n",
    "cube = VODCA().cubes[0]\n",
    "print(cube.shape[0])"
   ]
  },
  {
   "cell_type": "code",
   "execution_count": null,
   "metadata": {},
   "outputs": [],
   "source": [
    "climatology = VODCA().get_climatology_dataset(\n",
    "    datetime(2010, 1, 1), datetime(2015, 4, 1)\n",
    ")"
   ]
  },
  {
   "cell_type": "code",
   "execution_count": null,
   "metadata": {},
   "outputs": [],
   "source": [
    "for i in range(12):\n",
    "    cube_plotting(climatology.cubes[0].data[i], title=i)"
   ]
  },
  {
   "cell_type": "code",
   "execution_count": null,
   "metadata": {},
   "outputs": [],
   "source": [
    "for i in range(12):\n",
    "    cube_plotting(climatology.cubes[0].data.mask[i], title=i)"
   ]
  },
  {
   "cell_type": "code",
   "execution_count": null,
   "metadata": {},
   "outputs": [],
   "source": [
    "for i in range(1):\n",
    "    mask = cube[314 - i].data.mask\n",
    "    if master_mask2 is None:\n",
    "        master_mask2 = mask.copy()\n",
    "    else:\n",
    "        master_mask2 |= mask\n",
    "cube_plotting(master_mask2)"
   ]
  },
  {
   "cell_type": "code",
   "execution_count": null,
   "metadata": {},
   "outputs": [],
   "source": [
    "master_mask2 = None\n",
    "for cube in masked_datasets.cubes[42:50]:\n",
    "    mask = cube.data.mask\n",
    "    if master_mask2 is None:\n",
    "        master_mask2 = mask.copy()\n",
    "    else:\n",
    "        master_mask2 |= mask\n",
    "cube_plotting(master_mask2)"
   ]
  },
  {
   "cell_type": "code",
   "execution_count": null,
   "metadata": {},
   "outputs": [],
   "source": [
    "plotted = set()\n",
    "for cube in masked_datasets.cubes:\n",
    "    if any(p in cube.name() for p in plotted):\n",
    "        continue\n",
    "    #     cube_plotting(cube.data.mask, title=f\"{cube.name()} Mask\");\n",
    "    if cube.data.mask.sum() > 9593124:\n",
    "        print(cube.name(), cube.data.mask.sum())\n",
    "        cube_plotting(\n",
    "            cube.data.mask,\n",
    "            title=f\"{cube.name()} Mask\",\n",
    "            fig=plt.figure(figsize=(25, 12)),\n",
    "        )\n",
    "    plotted.update((cube.name(),))"
   ]
  },
  {
   "cell_type": "markdown",
   "metadata": {},
   "source": [
    "### Get shifted data"
   ]
  },
  {
   "cell_type": "code",
   "execution_count": null,
   "metadata": {},
   "outputs": [],
   "source": [
    "(\n",
    "    endog_data,\n",
    "    exog_data,\n",
    "    master_mask,\n",
    "    filled_datasets,\n",
    "    masked_datasets,\n",
    "    land_mask,\n",
    ") = get_offset_data()"
   ]
  },
  {
   "cell_type": "markdown",
   "metadata": {},
   "source": [
    "## Mapping"
   ]
  },
  {
   "cell_type": "code",
   "execution_count": null,
   "metadata": {},
   "outputs": [],
   "source": [
    "with figure_saver(\"high_fapar_high_dry_day_period\", sub_directory=\"map_plots\"):\n",
    "    mpl.rc(\"figure\", figsize=(11, 4))\n",
    "    constrained_map_plot(\n",
    "        {\"FAPAR\": (0.36, None), \"Dry Day Period\": (18, None)},\n",
    "        exog_data,\n",
    "        master_mask,\n",
    "        plot_variable=\"FAPAR\",\n",
    "        coastline_kwargs={\"linewidth\": 0.5},\n",
    "    )"
   ]
  },
  {
   "cell_type": "code",
   "execution_count": null,
   "metadata": {},
   "outputs": [],
   "source": [
    "with figure_saver(\"high_dry_day_period_18_medium_agbtree\", sub_directory=\"map_plots\"):\n",
    "    mpl.rc(\"figure\", figsize=(11, 4))\n",
    "    constrained_map_plot(\n",
    "        {\"Dry Day Period -18 - -6 Month\": (22, None), \"AGB Tree\": (0.9, 20)},\n",
    "        exog_data,\n",
    "        master_mask,\n",
    "        plot_variable=\"AGB Tree\",\n",
    "        coastline_kwargs={\"linewidth\": 0.5},\n",
    "    )"
   ]
  },
  {
   "cell_type": "code",
   "execution_count": null,
   "metadata": {},
   "outputs": [],
   "source": [
    "with figure_saver(\"high_pftCrop\", sub_directory=\"map_plots\"):\n",
    "    mpl.rc(\"figure\", figsize=(11, 4))\n",
    "    constrained_map_plot(\n",
    "        {\"pftCrop\": (0.6, None)},\n",
    "        exog_data,\n",
    "        master_mask,\n",
    "        plot_variable=\"pftCrop\",\n",
    "        coastline_kwargs={\"linewidth\": 0.5},\n",
    "    )"
   ]
  },
  {
   "cell_type": "markdown",
   "metadata": {},
   "source": [
    "## Correlation Plot"
   ]
  },
  {
   "cell_type": "code",
   "execution_count": null,
   "metadata": {},
   "outputs": [],
   "source": [
    "X_corr = exog_data\n",
    "with figure_saver(\"corr_plot\"):\n",
    "    corr_plot(\n",
    "        shorten_columns(X_corr[X_corr.columns[:-15]]), fig_kwargs={\"figsize\": (12, 8)}\n",
    "    )\n",
    "print(\"Excluded columns:\", shorten_columns(X_corr).columns[-15:])"
   ]
  },
  {
   "cell_type": "code",
   "execution_count": null,
   "metadata": {},
   "outputs": [],
   "source": [
    "with figure_saver(\"corr_plot_full\"):\n",
    "    corr_plot(shorten_columns(X_corr[X_corr.columns]), fig_kwargs={\"figsize\": (12, 8)})"
   ]
  }
 ],
 "metadata": {
  "kernelspec": {
   "display_name": "Python [conda env:wildfires]",
   "language": "python",
   "name": "conda-env-wildfires-python3-ffmpeg"
  }
 },
 "nbformat": 4,
 "nbformat_minor": 4
}
