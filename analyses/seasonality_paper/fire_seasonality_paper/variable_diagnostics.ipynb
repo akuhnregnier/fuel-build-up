{
 "cells": [
  {
   "cell_type": "markdown",
   "metadata": {},
   "source": [
    "## Setup"
   ]
  },
  {
   "cell_type": "code",
   "execution_count": null,
   "metadata": {},
   "outputs": [],
   "source": [
    "from specific import *"
   ]
  },
  {
   "cell_type": "markdown",
   "metadata": {},
   "source": [
    "### Get shifted data"
   ]
  },
  {
   "cell_type": "code",
   "execution_count": null,
   "metadata": {},
   "outputs": [],
   "source": [
    "(\n",
    "    endog_data,\n",
    "    exog_data,\n",
    "    master_mask,\n",
    "    filled_datasets,\n",
    "    masked_datasets,\n",
    "    land_mask,\n",
    ") = get_offset_data()"
   ]
  },
  {
   "cell_type": "markdown",
   "metadata": {},
   "source": [
    "## Mapping"
   ]
  },
  {
   "cell_type": "code",
   "execution_count": null,
   "metadata": {},
   "outputs": [],
   "source": [
    "with figure_saver(\"high_fapar_high_dry_day_period\", sub_directory=\"map_plots\"):\n",
    "    mpl.rc(\"figure\", figsize=(11, 4))\n",
    "    constrained_map_plot(\n",
    "        {\"FAPAR\": (0.36, None), \"Dry Day Period\": (18, None)},\n",
    "        exog_data,\n",
    "        master_mask,\n",
    "        plot_variable=\"FAPAR\",\n",
    "        coastline_kwargs={\"linewidth\": 0.5},\n",
    "    )"
   ]
  },
  {
   "cell_type": "code",
   "execution_count": null,
   "metadata": {},
   "outputs": [],
   "source": [
    "with figure_saver(\"high_dry_day_period_18_medium_agbtree\", sub_directory=\"map_plots\"):\n",
    "    mpl.rc(\"figure\", figsize=(11, 4))\n",
    "    constrained_map_plot(\n",
    "        {\"Dry Day Period -18 - -6 Month\": (22, None), \"AGB Tree\": (0.9, 20)},\n",
    "        exog_data,\n",
    "        master_mask,\n",
    "        plot_variable=\"AGB Tree\",\n",
    "        coastline_kwargs={\"linewidth\": 0.5},\n",
    "    )"
   ]
  },
  {
   "cell_type": "code",
   "execution_count": null,
   "metadata": {},
   "outputs": [],
   "source": [
    "with figure_saver(\"high_pftCrop\", sub_directory=\"map_plots\"):\n",
    "    mpl.rc(\"figure\", figsize=(11, 4))\n",
    "    constrained_map_plot(\n",
    "        {\"pftCrop\": (0.6, None)},\n",
    "        exog_data,\n",
    "        master_mask,\n",
    "        plot_variable=\"pftCrop\",\n",
    "        coastline_kwargs={\"linewidth\": 0.5},\n",
    "    )"
   ]
  },
  {
   "cell_type": "markdown",
   "metadata": {},
   "source": [
    "## Correlation Plot"
   ]
  },
  {
   "cell_type": "code",
   "execution_count": null,
   "metadata": {},
   "outputs": [],
   "source": [
    "X_corr = exog_data\n",
    "with figure_saver(\"corr_plot\"):\n",
    "    corr_plot(\n",
    "        shorten_columns(X_corr[X_corr.columns[:-15]]), fig_kwargs={\"figsize\": (12, 8)}\n",
    "    )\n",
    "print(\"Excluded columns:\", shorten_columns(X_corr).columns[-15:])"
   ]
  },
  {
   "cell_type": "code",
   "execution_count": null,
   "metadata": {},
   "outputs": [],
   "source": [
    "with figure_saver(\"corr_plot_full\"):\n",
    "    corr_plot(shorten_columns(X_corr[X_corr.columns]), fig_kwargs={\"figsize\": (12, 8)})"
   ]
  }
 ],
 "metadata": {
  "kernelspec": {
   "display_name": "Python [conda env:wildfires] *",
   "language": "python",
   "name": "conda-env-wildfires-python3-ffmpeg"
  }
 },
 "nbformat": 4,
 "nbformat_minor": 4
}
