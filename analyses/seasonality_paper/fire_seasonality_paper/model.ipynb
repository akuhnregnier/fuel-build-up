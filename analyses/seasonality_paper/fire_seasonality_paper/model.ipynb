{
 "cells": [
  {
   "cell_type": "markdown",
   "metadata": {},
   "source": [
    "## Setup"
   ]
  },
  {
   "cell_type": "code",
   "execution_count": null,
   "metadata": {},
   "outputs": [],
   "source": [
    "from specific import *"
   ]
  },
  {
   "cell_type": "markdown",
   "metadata": {},
   "source": [
    "### Get shifted data"
   ]
  },
  {
   "cell_type": "code",
   "execution_count": null,
   "metadata": {},
   "outputs": [],
   "source": [
    "(\n",
    "    endog_data,\n",
    "    exog_data,\n",
    "    master_mask,\n",
    "    filled_datasets,\n",
    "    masked_datasets,\n",
    "    land_mask,\n",
    ") = get_offset_data()"
   ]
  },
  {
   "cell_type": "code",
   "execution_count": null,
   "metadata": {},
   "outputs": [],
   "source": [
    "client = get_client()\n",
    "client"
   ]
  },
  {
   "cell_type": "markdown",
   "metadata": {},
   "source": [
    "### Define the training and test data"
   ]
  },
  {
   "cell_type": "code",
   "execution_count": null,
   "metadata": {},
   "outputs": [],
   "source": [
    "@data_split_cache\n",
    "def get_split_data():\n",
    "    X_train, X_test, y_train, y_test = train_test_split(\n",
    "        exog_data, endog_data, random_state=1, shuffle=True, test_size=0.3\n",
    "    )\n",
    "    return X_train, X_test, y_train, y_test\n",
    "\n",
    "\n",
    "X_train, X_test, y_train, y_test = get_split_data()"
   ]
  },
  {
   "cell_type": "code",
   "execution_count": null,
   "metadata": {},
   "outputs": [],
   "source": [
    "n_splits = 5\n",
    "\n",
    "# Define the parameter space.\n",
    "\n",
    "parameters_RF = {\n",
    "    \"n_estimators\": [100, 600],\n",
    "    \"max_depth\": [8, 14],\n",
    "    \"min_samples_split\": [2, 10],\n",
    "    \"min_samples_leaf\": [1, 4],\n",
    "    \"max_leaf_nodes\": [1000, None],\n",
    "}\n",
    "\n",
    "default_param_dict = {\n",
    "    \"random_state\": 1,\n",
    "    \"bootstrap\": True,\n",
    "    \"max_features\": \"auto\",\n",
    "}"
   ]
  },
  {
   "cell_type": "markdown",
   "metadata": {},
   "source": [
    "## Hyperparameter optimisation"
   ]
  },
  {
   "cell_type": "code",
   "execution_count": null,
   "metadata": {},
   "outputs": [],
   "source": [
    "@cross_val_cache\n",
    "def run_cross_val():\n",
    "    results, rf = fit_dask_rf_grid_search_cv(\n",
    "        DaskRandomForestRegressor(**default_param_dict),\n",
    "        X_train.values,\n",
    "        y_train.values,\n",
    "        n_splits,\n",
    "        parameters_RF,\n",
    "        client,\n",
    "        verbose=True,\n",
    "        return_train_score=True,\n",
    "        refit=True,\n",
    "        local_n_jobs=30,\n",
    "    )\n",
    "    return results, rf\n",
    "\n",
    "\n",
    "results, rf = run_cross_val()"
   ]
  },
  {
   "cell_type": "markdown",
   "metadata": {},
   "source": [
    "## Hyperparameter Search Visualisation"
   ]
  },
  {
   "cell_type": "code",
   "execution_count": null,
   "metadata": {},
   "outputs": [],
   "source": [
    "hyperparams = defaultdict(list)\n",
    "\n",
    "for param_tuples, param_results in results.items():\n",
    "    for category, scores in param_results.items():\n",
    "        hyperparams[category].extend(scores)\n",
    "\n",
    "    for param, param_value in param_tuples:\n",
    "        hyperparams[param].extend([param_value] * len(scores))"
   ]
  },
  {
   "cell_type": "code",
   "execution_count": null,
   "metadata": {},
   "outputs": [],
   "source": [
    "hyperparams = pd.DataFrame(hyperparams)\n",
    "score_keys = list(param_results)\n",
    "param_keys = list(set(hyperparams.columns) - set(param_results))\n",
    "hyperparams.fillna(-1, inplace=True)"
   ]
  },
  {
   "cell_type": "code",
   "execution_count": null,
   "metadata": {},
   "outputs": [],
   "source": [
    "means = hyperparams.groupby(param_keys).mean()\n",
    "means[means[\"test_scores\"] == np.max(means[\"test_scores\"])]"
   ]
  },
  {
   "cell_type": "code",
   "execution_count": null,
   "metadata": {},
   "outputs": [],
   "source": [
    "hyperparams.boxplot(column=score_keys, by=param_keys[:2])"
   ]
  },
  {
   "cell_type": "code",
   "execution_count": null,
   "metadata": {},
   "outputs": [],
   "source": [
    "melted = pd.melt(\n",
    "    hyperparams,\n",
    "    id_vars=param_keys,\n",
    "    value_vars=score_keys,\n",
    "    var_name=\"category\",\n",
    "    value_name=\"score\",\n",
    ")\n",
    "melted"
   ]
  },
  {
   "cell_type": "code",
   "execution_count": null,
   "metadata": {},
   "outputs": [],
   "source": [
    "for param_key in param_keys:\n",
    "    fig = plt.figure(figsize=(7, 6))\n",
    "    ax = sns.boxplot(x=param_key, y=\"score\", hue=\"category\", data=melted)\n",
    "    ax.set(ylabel=\"R2 Score\")\n",
    "    figure_saver.save_figure(fig, param_key, sub_directory=\"hyperparameters\")"
   ]
  }
 ],
 "metadata": {
  "kernelspec": {
   "display_name": "Python [conda env:wildfires] *",
   "language": "python",
   "name": "conda-env-wildfires-python3-ffmpeg"
  }
 },
 "nbformat": 4,
 "nbformat_minor": 4
}
