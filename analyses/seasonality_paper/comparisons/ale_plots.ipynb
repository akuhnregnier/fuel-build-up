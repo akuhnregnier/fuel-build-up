{
 "cells": [
  {
   "cell_type": "markdown",
   "metadata": {},
   "source": [
    "#### Setup"
   ]
  },
  {
   "cell_type": "code",
   "execution_count": null,
   "metadata": {},
   "outputs": [],
   "source": [
    "from specific import *"
   ]
  },
  {
   "cell_type": "markdown",
   "metadata": {},
   "source": [
    "### Specify the experiments to compare"
   ]
  },
  {
   "cell_type": "code",
   "execution_count": null,
   "metadata": {},
   "outputs": [],
   "source": [
    "experiments = (\"15_most_important\", \"no_temporal_shifts\", \"fire_seasonality_paper\")"
   ]
  },
  {
   "cell_type": "markdown",
   "metadata": {},
   "source": [
    "### Load data"
   ]
  },
  {
   "cell_type": "code",
   "execution_count": null,
   "metadata": {},
   "outputs": [],
   "source": [
    "experiment_data = load_experiment_data(experiments)"
   ]
  },
  {
   "cell_type": "markdown",
   "metadata": {},
   "source": [
    "### Check that the masks are aligned"
   ]
  },
  {
   "cell_type": "code",
   "execution_count": null,
   "metadata": {},
   "outputs": [],
   "source": [
    "comp_masks = [experiment_data[experiment][\"master_mask\"] for experiment in experiments]\n",
    "assert all(np.all(comp_masks[0] == comp_mask) for comp_mask in comp_masks[1:])"
   ]
  },
  {
   "cell_type": "markdown",
   "metadata": {},
   "source": [
    "## Combining multiple ALE plots across models"
   ]
  },
  {
   "cell_type": "code",
   "execution_count": null,
   "metadata": {},
   "outputs": [],
   "source": [
    "# X_train.columns"
   ]
  },
  {
   "cell_type": "code",
   "execution_count": null,
   "metadata": {},
   "outputs": [],
   "source": [
    "# 'Pretty' experiment names mapping.\n",
    "experiment_names = {\n",
    "    \"15_most_important\": \"With Lagged\",\n",
    "    \"no_temporal_shifts\": \"Only Unlagged\",\n",
    "    \"fire_seasonality_paper\": \"All\",\n",
    "}\n",
    "\n",
    "for feature_name in tqdm(\n",
    "    (\"Dry Day Period\", \"SIF\", \"FAPAR\", \"LAI\", \"VOD Ku-band\"),\n",
    "    desc=\"Multiple shift ALE plots\",\n",
    "):\n",
    "    model_X_cols = []\n",
    "    plot_kwargs_list = []\n",
    "\n",
    "    fig_name = f'comp_{feature_name.replace(\" \", \"_\").lower()}_ale_shifts'\n",
    "    for experiment in experiments[2:]:\n",
    "        for feature in (\n",
    "            f\"{feature_name}\",\n",
    "            *(f\"{feature_name} {m} Month\" for m in (-1, -3, -6, -9)),\n",
    "        ):\n",
    "            if feature not in experiment_data[experiment][\"X_train\"]:\n",
    "                continue\n",
    "\n",
    "            model_X_cols.append(\n",
    "                (\n",
    "                    experiment_data[experiment][\"model\"],\n",
    "                    experiment_data[experiment][\"X_train\"],\n",
    "                    feature,\n",
    "                )\n",
    "            )\n",
    "            plot_kwargs_list.append(\n",
    "                {\n",
    "                    \"label\": f\"{experiment_names[experiment]} - {shorten_features(feature)}\"\n",
    "                }\n",
    "            )\n",
    "    assert model_X_cols and plot_kwargs_list\n",
    "\n",
    "    multi_model_ale_plot_1d(\n",
    "        model_X_cols,\n",
    "        plot_kwargs_list,\n",
    "        fig_name=fig_name,\n",
    "        n_jobs=get_ncpus(),\n",
    "        verbose=True,\n",
    "        xlabel=f\"{feature}\",\n",
    "        title=f\"First-order ALE for {feature}\",\n",
    "        figure_saver=figure_saver,\n",
    "    )"
   ]
  }
 ],
 "metadata": {
  "kernelspec": {
   "display_name": "Python [conda env:wildfires]",
   "language": "python",
   "name": "conda-env-wildfires-python3-ffmpeg"
  }
 },
 "nbformat": 4,
 "nbformat_minor": 2
}
