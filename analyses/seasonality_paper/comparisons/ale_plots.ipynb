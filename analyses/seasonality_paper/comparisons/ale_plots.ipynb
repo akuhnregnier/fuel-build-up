{
 "cells": [
  {
   "cell_type": "markdown",
   "metadata": {},
   "source": [
    "#### Setup"
   ]
  },
  {
   "cell_type": "code",
   "execution_count": null,
   "metadata": {},
   "outputs": [],
   "source": [
    "from specific import *"
   ]
  },
  {
   "cell_type": "markdown",
   "metadata": {},
   "source": [
    "### Specify the experiments to compare"
   ]
  },
  {
   "cell_type": "code",
   "execution_count": null,
   "metadata": {},
   "outputs": [],
   "source": [
    "experiments = (\"all\", \"15_most_important\", \"no_temporal_shifts\")\n",
    "zorders = [4, 3, 2]\n",
    "experiment_zorder_dict = {\n",
    "    experiment: zorder for experiment, zorder in zip(experiments, zorders)\n",
    "}"
   ]
  },
  {
   "cell_type": "markdown",
   "metadata": {},
   "source": [
    "### Load data"
   ]
  },
  {
   "cell_type": "code",
   "execution_count": null,
   "metadata": {},
   "outputs": [],
   "source": [
    "experiment_data = load_experiment_data(experiments)"
   ]
  },
  {
   "cell_type": "markdown",
   "metadata": {},
   "source": [
    "### Check that the masks are aligned"
   ]
  },
  {
   "cell_type": "code",
   "execution_count": null,
   "metadata": {},
   "outputs": [],
   "source": [
    "comp_masks = [experiment_data[experiment][\"master_mask\"] for experiment in experiments]\n",
    "assert all(np.all(comp_masks[0] == comp_mask) for comp_mask in comp_masks[1:])"
   ]
  },
  {
   "cell_type": "markdown",
   "metadata": {},
   "source": [
    "## Combining multiple ALE plots across models"
   ]
  },
  {
   "cell_type": "code",
   "execution_count": null,
   "metadata": {},
   "outputs": [],
   "source": [
    "for experiment in experiments:\n",
    "    print(experiment)\n",
    "    print()\n",
    "    print(\"\\n\".join(sort_features(experiment_data[experiment][\"X_train\"].columns)))\n",
    "    print()"
   ]
  },
  {
   "cell_type": "code",
   "execution_count": null,
   "metadata": {},
   "outputs": [],
   "source": [
    "for feature_name in tqdm(\n",
    "    (\"Dry Day Period\", \"SIF 3NN\", \"FAPAR 3NN\", \"LAI 3NN\", \"VOD Ku-band 3NN\"),\n",
    "    desc=\"Features\",\n",
    "):\n",
    "    for lag in tqdm([0, 1, 3, 6, 9], desc=\"Lags\"):\n",
    "        if lag:\n",
    "            feature = f\"{feature_name} {-lag} Month\"\n",
    "        else:\n",
    "            feature = feature_name\n",
    "\n",
    "        short_feature = shorten_features(feature)\n",
    "\n",
    "        model_X_cols_kwargs = []\n",
    "        for experiment in experiments:\n",
    "            # Skip experiments that do not contain this feature.\n",
    "            if feature not in experiment_data[experiment][\"X_train\"]:\n",
    "                continue\n",
    "\n",
    "            # Data required to calculate the ALEs.\n",
    "            model_X_cols_kwargs.append(\n",
    "                (\n",
    "                    experiment,\n",
    "                    experiment_data,\n",
    "                    feature,\n",
    "                    {\n",
    "                        \"label\": experiment_name_dict[experiment],\n",
    "                        \"c\": experiment_color_dict[experiment],\n",
    "                        \"marker\": experiment_marker_dict[experiment],\n",
    "                        \"zorder\": experiment_zorder_dict[experiment],\n",
    "                    },\n",
    "                )\n",
    "            )\n",
    "\n",
    "        if len(model_X_cols_kwargs) <= 1:\n",
    "            # We need at least two models for a comparison.\n",
    "            continue\n",
    "\n",
    "        fig_name = f'comp_{short_feature.replace(\" \", \"_\").lower()}_ale_shifts'\n",
    "\n",
    "        multi_model_ale_plot_1d(\n",
    "            model_X_cols_kwargs,\n",
    "            fig_name=fig_name,\n",
    "            n_jobs=get_ncpus(),\n",
    "            verbose=True,\n",
    "            xlabel=short_feature,\n",
    "            # title=f\"First-order ALE for {short_feature}\",\n",
    "            figure_saver=figure_saver,\n",
    "            figsize=(9, 1.5),\n",
    "        )"
   ]
  }
 ],
 "metadata": {
  "kernelspec": {
   "display_name": "Python [conda env:wildfires] *",
   "language": "python",
   "name": "conda-env-wildfires-python3-ffmpeg"
  }
 },
 "nbformat": 4,
 "nbformat_minor": 4
}
