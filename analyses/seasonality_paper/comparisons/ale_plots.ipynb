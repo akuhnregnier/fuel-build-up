{
 "cells": [
  {
   "cell_type": "markdown",
   "metadata": {},
   "source": [
    "#### Setup"
   ]
  },
  {
   "cell_type": "code",
   "execution_count": null,
   "metadata": {},
   "outputs": [],
   "source": [
    "from specific import *"
   ]
  },
  {
   "cell_type": "markdown",
   "metadata": {},
   "source": [
    "### Specify the experiments to compare"
   ]
  },
  {
   "cell_type": "code",
   "execution_count": null,
   "metadata": {},
   "outputs": [],
   "source": [
    "experiments = (\"15_most_important\", \"no_temporal_shifts\", \"fire_seasonality_paper\")"
   ]
  },
  {
   "cell_type": "markdown",
   "metadata": {},
   "source": [
    "### Load data"
   ]
  },
  {
   "cell_type": "code",
   "execution_count": null,
   "metadata": {},
   "outputs": [],
   "source": [
    "experiment_data = load_experiment_data(experiments)"
   ]
  },
  {
   "cell_type": "markdown",
   "metadata": {},
   "source": [
    "### Check that the masks are aligned"
   ]
  },
  {
   "cell_type": "code",
   "execution_count": null,
   "metadata": {},
   "outputs": [],
   "source": [
    "comp_masks = [experiment_data[experiment][\"master_mask\"] for experiment in experiments]\n",
    "assert all(np.all(comp_masks[0] == comp_mask) for comp_mask in comp_masks[1:])"
   ]
  },
  {
   "cell_type": "markdown",
   "metadata": {},
   "source": [
    "## Combining multiple ALE plots across models"
   ]
  },
  {
   "cell_type": "code",
   "execution_count": null,
   "metadata": {},
   "outputs": [],
   "source": [
    "# X_train.columns"
   ]
  },
  {
   "cell_type": "code",
   "execution_count": null,
   "metadata": {},
   "outputs": [],
   "source": [
    "# 'Pretty' experiment names mapping.\n",
    "experiment_names = {\n",
    "    \"15_most_important\": \"With Lag\",\n",
    "    \"no_temporal_shifts\": \"Unlagged\",\n",
    "    \"fire_seasonality_paper\": \"All\",\n",
    "}\n",
    "\n",
    "default_kwargs = {\n",
    "    \"c\": \"0.5\",\n",
    "    \"alpha\": 0.5,\n",
    "    \"linestyle\": \"--\",\n",
    "}\n",
    "\n",
    "feature_kwargs_map = {\n",
    "    \"fire_seasonality_paper\": {\n",
    "        \"Dry Days\": {\"c\": \"C0\", \"marker\": \"o\"},\n",
    "        \"Dry Days 1 M\": {\"marker\": \"v\", **default_kwargs},\n",
    "        \"Dry Days 3 M\": {\"c\": \"C3\", \"marker\": \"x\"},\n",
    "        \"Dry Days 6 M\": {\"marker\": \"^\", **default_kwargs},\n",
    "        \"Dry Days 9 M\": {\"marker\": \">\", **default_kwargs},\n",
    "        \"SIF\": {\"c\": \"C0\", \"marker\": \"o\"},\n",
    "        \"SIF 1 M\": {\"marker\": \"v\", **default_kwargs},\n",
    "        \"SIF 3 M\": {\"marker\": \"^\", **default_kwargs},\n",
    "        \"SIF 6 M\": {\"c\": \"C3\", \"marker\": \"x\"},\n",
    "        \"SIF 9 M\": {\"marker\": \">\", **default_kwargs},\n",
    "        \"FAPAR\": {\"c\": \"C0\", \"marker\": \"o\"},\n",
    "        \"FAPAR 1 M\": {\"marker\": \"v\", **default_kwargs},\n",
    "        \"FAPAR 3 M\": {\"marker\": \"^\", **default_kwargs},\n",
    "        \"FAPAR 6 M\": {\"marker\": \"<\", **default_kwargs},\n",
    "        \"FAPAR 9 M\": {\"marker\": \">\", **default_kwargs},\n",
    "        \"LAI\": {\"c\": \"C0\", \"marker\": \"o\"},\n",
    "        \"LAI 1 M\": {\"marker\": \"v\", **default_kwargs},\n",
    "        \"LAI 3 M\": {\"c\": \"C3\", \"marker\": \"x\"},\n",
    "        \"LAI 6 M\": {\"marker\": \"^\", **default_kwargs},\n",
    "        \"LAI 9 M\": {\"marker\": \">\", **default_kwargs},\n",
    "        \"VOD\": {\"c\": \"C0\", \"marker\": \"o\"},\n",
    "        \"VOD 1 M\": {\"c\": \"C1\", \"marker\": \"v\"},\n",
    "        \"VOD 3 M\": {\"c\": \"C2\", \"marker\": \"x\"},\n",
    "        \"VOD 6 M\": {\"c\": \"C3\", \"marker\": \"^\"},\n",
    "        \"VOD 9 M\": {\"marker\": \">\", **default_kwargs},\n",
    "    },\n",
    "    \"15_most_important\": {\n",
    "        \"Dry Days\": {\"c\": \"C1\", \"marker\": \"o\"},\n",
    "        \"Dry Days 3 M\": {\"c\": \"C4\", \"marker\": \"x\"},\n",
    "        \"SIF\": {\"c\": \"C1\", \"marker\": \"o\"},\n",
    "        \"SIF 6 M\": {\"c\": \"C4\", \"marker\": \"x\"},\n",
    "        \"FAPAR\": {\"c\": \"C1\", \"marker\": \"o\"},\n",
    "        \"LAI\": {\"c\": \"C1\", \"marker\": \"o\"},\n",
    "        \"LAI 3 M\": {\"c\": \"C4\", \"marker\": \"x\"},\n",
    "        \"VOD\": {\"c\": \"C4\", \"marker\": \"o\"},\n",
    "        \"VOD 1 M\": {\"c\": \"C5\", \"marker\": \"v\"},\n",
    "        \"VOD 3 M\": {\"c\": \"C6\", \"marker\": \"x\"},\n",
    "        \"VOD 6 M\": {\"c\": \"C7\", \"marker\": \"^\"},\n",
    "    },\n",
    "    \"no_temporal_shifts\": {\n",
    "        \"Dry Days\": {\"c\": \"C2\", \"marker\": \"o\"},\n",
    "        \"SIF\": {\"c\": \"C2\", \"marker\": \"o\"},\n",
    "        \"FAPAR\": {\"c\": \"C2\", \"marker\": \"o\"},\n",
    "        \"LAI\": {\"c\": \"C2\", \"marker\": \"o\"},\n",
    "        \"VOD\": {\"c\": \"C8\", \"marker\": \"o\"},\n",
    "    },\n",
    "}\n",
    "\n",
    "markersizes = {}\n",
    "\n",
    "for feature_name in tqdm(\n",
    "    (\"Dry Day Period\", \"SIF\", \"FAPAR\", \"LAI\", \"VOD Ku-band\"),\n",
    "    desc=\"Multiple shift ALE plots\",\n",
    "):\n",
    "    model_X_cols = []\n",
    "    plot_kwargs_list = []\n",
    "\n",
    "    fig_name = f'comp_{feature_name.replace(\" \", \"_\").lower()}_ale_shifts'\n",
    "    for experiment in experiments:\n",
    "        for feature in (\n",
    "            f\"{feature_name}\",\n",
    "            *(f\"{feature_name} {m} Month\" for m in (-1, -3, -6, -9)),\n",
    "        ):\n",
    "            if feature not in experiment_data[experiment][\"X_train\"]:\n",
    "                continue\n",
    "\n",
    "            model_X_cols.append(\n",
    "                (\n",
    "                    experiment_data[experiment][\"model\"],\n",
    "                    experiment_data[experiment][\"X_train\"],\n",
    "                    feature,\n",
    "                )\n",
    "            )\n",
    "            short_feature = shorten_features(feature)\n",
    "\n",
    "            plot_kwargs = {\n",
    "                \"label\": f\"{experiment_names[experiment]} - {short_feature}\",\n",
    "                **feature_kwargs_map[experiment].get(short_feature, {}),\n",
    "            }\n",
    "            plot_kwargs[\"ms\"] = markersizes.get(plot_kwargs.get(\"marker\"), 4)\n",
    "\n",
    "            plot_kwargs_list.append(plot_kwargs)\n",
    "    assert model_X_cols and plot_kwargs_list\n",
    "\n",
    "    multi_model_ale_plot_1d(\n",
    "        model_X_cols,\n",
    "        plot_kwargs_list,\n",
    "        fig_name=fig_name,\n",
    "        n_jobs=get_ncpus(),\n",
    "        verbose=True,\n",
    "        xlabel=f\"{shorten_features(feature_name)}\",\n",
    "        title=f\"First-order ALE for {shorten_features(feature_name)}\",\n",
    "        figure_saver=figure_saver,\n",
    "    )"
   ]
  }
 ],
 "metadata": {
  "kernelspec": {
   "display_name": "Python [conda env:wildfires]",
   "language": "python",
   "name": "conda-env-wildfires-python3-ffmpeg"
  }
 },
 "nbformat": 4,
 "nbformat_minor": 2
}
