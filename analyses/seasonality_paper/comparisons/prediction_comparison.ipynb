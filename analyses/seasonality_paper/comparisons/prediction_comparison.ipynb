{
 "cells": [
  {
   "cell_type": "markdown",
   "metadata": {},
   "source": [
    "#### Setup"
   ]
  },
  {
   "cell_type": "code",
   "execution_count": null,
   "metadata": {},
   "outputs": [],
   "source": [
    "from specific import *"
   ]
  },
  {
   "cell_type": "markdown",
   "metadata": {},
   "source": [
    "### Specify the experiments to compare"
   ]
  },
  {
   "cell_type": "code",
   "execution_count": null,
   "metadata": {},
   "outputs": [],
   "source": [
    "experiments = (\"15_most_important\", \"no_temporal_shifts\")\n",
    "assert len(experiments) == 2"
   ]
  },
  {
   "cell_type": "markdown",
   "metadata": {},
   "source": [
    "### Load data"
   ]
  },
  {
   "cell_type": "code",
   "execution_count": null,
   "metadata": {},
   "outputs": [],
   "source": [
    "experiment_data = load_experiment_data(experiments)"
   ]
  },
  {
   "cell_type": "markdown",
   "metadata": {},
   "source": [
    "### Predict BA"
   ]
  },
  {
   "cell_type": "code",
   "execution_count": null,
   "metadata": {},
   "outputs": [],
   "source": [
    "n_threads = get_ncpus()\n",
    "\n",
    "predictions = {}\n",
    "errors = {}  # GFED4 - prediction.\n",
    "\n",
    "for experiment, data in experiment_data.items():\n",
    "    data[\"model\"].n_jobs = n_threads\n",
    "    with parallel_backend(\"threading\", n_jobs=n_threads):\n",
    "        pred = data[\"model\"].predict(data[\"exog_data\"])\n",
    "\n",
    "    predictions[experiment] = get_masked_array(pred, data[\"master_mask\"])\n",
    "    errors[experiment] = get_masked_array(\n",
    "        data[\"endog_data\"] - pred, data[\"master_mask\"]\n",
    "    )"
   ]
  },
  {
   "cell_type": "code",
   "execution_count": null,
   "metadata": {},
   "outputs": [],
   "source": [
    "diffs = predictions[experiments[1]] - predictions[experiments[0]]"
   ]
  },
  {
   "cell_type": "code",
   "execution_count": null,
   "metadata": {},
   "outputs": [],
   "source": [
    "error_mag_diff = np.abs(errors[experiments[1]]) - np.abs(errors[experiments[0]])"
   ]
  },
  {
   "cell_type": "code",
   "execution_count": null,
   "metadata": {},
   "outputs": [],
   "source": [
    "np.mean(error_mag_diff)"
   ]
  },
  {
   "cell_type": "code",
   "execution_count": null,
   "metadata": {},
   "outputs": [],
   "source": [
    "plt.hist(get_unmasked(errors[experiments[0]]), bins=100)\n",
    "plt.yscale(\"log\")"
   ]
  },
  {
   "cell_type": "code",
   "execution_count": null,
   "metadata": {},
   "outputs": [],
   "source": [
    "plt.hist(get_unmasked(errors[experiments[1]]), bins=100)\n",
    "plt.yscale(\"log\")"
   ]
  },
  {
   "cell_type": "code",
   "execution_count": null,
   "metadata": {},
   "outputs": [],
   "source": [
    "plt.hist(get_unmasked(error_mag_diff), bins=100)\n",
    "plt.yscale(\"log\")"
   ]
  },
  {
   "cell_type": "code",
   "execution_count": null,
   "metadata": {},
   "outputs": [],
   "source": [
    "model_name = f\"comparison_{'_'.join(experiments)}\"\n",
    "\n",
    "# Plotting params.\n",
    "figsize = (5.1, 2.8)\n",
    "mpl.rcParams[\"figure.figsize\"] = figsize\n",
    "coast_linewidth = 0.3\n",
    "date_str = \"2010-01 to 2015-01\""
   ]
  },
  {
   "cell_type": "code",
   "execution_count": null,
   "metadata": {},
   "outputs": [],
   "source": [
    "boundaries = [-1e-2, -1e-3, -1e-4, 0, 1e-4, 1e-3, 1e-2]\n",
    "\n",
    "fig = cube_plotting(\n",
    "    diffs,\n",
    "    title=f\"BA <No Temporal - Top 15>\\n{date_str}\",\n",
    "    boundaries=boundaries,\n",
    "    cmap=\"brewer_RdYlBu_11\",\n",
    "    cmap_midpoint=0,\n",
    "    cmap_symmetric=True,\n",
    "    colorbar_kwargs={\"label\": \"Burned Area Fraction\", \"format\": \"%0.1e\",},\n",
    "    coastline_kwargs={\"linewidth\": coast_linewidth},\n",
    ")\n",
    "figure_saver.save_figure(fig, f\"ba_{model_name}\", sub_directory=\"predictions\")"
   ]
  },
  {
   "cell_type": "code",
   "execution_count": null,
   "metadata": {},
   "outputs": [],
   "source": [
    "boundaries = [-1e-1, 0, 0.1 ** 0.5, 1, 1e1]\n",
    "\n",
    "fig = cube_plotting(\n",
    "    diffs / predictions[experiments[0]],\n",
    "    title=f\"BA <No Temporal - Top 15> / Top 15\\n{date_str}\",\n",
    "    boundaries=boundaries,\n",
    "    cmap=\"brewer_RdYlBu_11\",\n",
    "    cmap_midpoint=0,\n",
    "    cmap_symmetric=False,\n",
    "    colorbar_kwargs={\"label\": \"1\", \"format\": \"%0.1e\",},\n",
    "    coastline_kwargs={\"linewidth\": coast_linewidth},\n",
    ")\n",
    "figure_saver.save_figure(fig, f\"rel_ba_{model_name}\", sub_directory=\"predictions\")"
   ]
  },
  {
   "cell_type": "code",
   "execution_count": null,
   "metadata": {},
   "outputs": [],
   "source": [
    "vmax = np.max(plot_data)\n",
    "boundaries = [1e-5, 1e-4, 1e-3, 1e-2, vmax]\n",
    "\n",
    "fig = cube_plotting(\n",
    "    np.abs(diffs),\n",
    "    title=f\"BA <|No Temporal - Top 15|>\\n{date_str}\",\n",
    "    boundaries=boundaries,\n",
    "    cmap=\"YlOrRd\",\n",
    "    colorbar_kwargs={\"label\": \"Burned Area Fraction\", \"format\": \"%0.1e\",},\n",
    "    coastline_kwargs={\"linewidth\": coast_linewidth},\n",
    ")\n",
    "figure_saver.save_figure(fig, f\"ba_mean_abs_{model_name}\", sub_directory=\"predictions\")"
   ]
  },
  {
   "cell_type": "code",
   "execution_count": null,
   "metadata": {},
   "outputs": [],
   "source": [
    "boundaries = [0.1, 0.316, 1, 3.16, 10]\n",
    "\n",
    "fig = cube_plotting(\n",
    "    np.abs(diffs) / predictions[experiments[0]],\n",
    "    title=f\"BA <|No Temporal - Top 15|> / Top 15\\n{date_str}\",\n",
    "    boundaries=boundaries,\n",
    "    cmap=\"YlOrBr\",\n",
    "    colorbar_kwargs={\"label\": \"1\", \"format\": \"%0.1e\",},\n",
    "    coastline_kwargs={\"linewidth\": coast_linewidth},\n",
    ")\n",
    "figure_saver.save_figure(\n",
    "    fig, f\"rel_ba_mean_abs_{model_name}\", sub_directory=\"predictions\"\n",
    ")"
   ]
  },
  {
   "cell_type": "markdown",
   "metadata": {},
   "source": [
    "#### Comparison of the error between the experiments"
   ]
  },
  {
   "cell_type": "code",
   "execution_count": null,
   "metadata": {},
   "outputs": [],
   "source": [
    "# boundaries = [0.1, 0.316, 1, 3.16, 10]\n",
    "\n",
    "for experiment, error in errors.items():\n",
    "    fig = cube_plotting(\n",
    "        np.abs(error),\n",
    "        title=f\"BA <|Error({experiment})|>\\n{date_str}\",\n",
    "        #     boundaries=boundaries,\n",
    "        cmap=\"YlOrBr\",\n",
    "        colorbar_kwargs={\"label\": \"BA Fraction\", \"format\": \"%0.1e\",},\n",
    "        coastline_kwargs={\"linewidth\": coast_linewidth},\n",
    "    )\n",
    "    figure_saver.save_figure(\n",
    "        fig, f\"error_mag_{experiment}_{model_name}\", sub_directory=\"predictions\"\n",
    "    )"
   ]
  },
  {
   "cell_type": "code",
   "execution_count": null,
   "metadata": {},
   "outputs": [],
   "source": [
    "boundaries = [-5.3e-2, -1e-2, -1e-3, 0, 1e-3, 1e-2, 3.6e-2]\n",
    "\n",
    "fig = cube_plotting(\n",
    "    error_mag_diff,\n",
    "    title=f\"BA <|Error(No Temporal)| - |Error(Top 15)|>\\n{date_str}\",\n",
    "    boundaries=boundaries,\n",
    "    cmap=\"brewer_RdYlBu_11\",\n",
    "    cmap_midpoint=0,\n",
    "    cmap_symmetric=False,\n",
    "    colorbar_kwargs={\"label\": \"BA Fraction\", \"format\": \"%0.1e\",},\n",
    "    coastline_kwargs={\"linewidth\": coast_linewidth},\n",
    ")\n",
    "figure_saver.save_figure(\n",
    "    fig, f\"error_mag_diff_{model_name}\", sub_directory=\"predictions\"\n",
    ")"
   ]
  },
  {
   "cell_type": "code",
   "execution_count": null,
   "metadata": {},
   "outputs": [],
   "source": [
    "# boundaries = [0.1, 0.316, 1, 3.16, 10]\n",
    "\n",
    "fig = cube_plotting(\n",
    "    error_mag_diff\n",
    "    / get_masked_array(\n",
    "        experiment_data[experiments[0]][\"endog_data\"],\n",
    "        experiment_data[experiments[0]][\"master_mask\"],\n",
    "    ),\n",
    "    title=f\"BA <(|Error(No Temporal)| - |Error(Top 15)|) / GFED4>\\n{date_str}\",\n",
    "    #     boundaries=boundaries,\n",
    "    cmap=\"brewer_RdYlBu_11\",\n",
    "    cmap_midpoint=0,\n",
    "    cmap_symmetric=False,\n",
    "    colorbar_kwargs={\"label\": \"1\", \"format\": \"%0.1e\",},\n",
    "    coastline_kwargs={\"linewidth\": coast_linewidth},\n",
    ")\n",
    "figure_saver.save_figure(\n",
    "    fig, f\"rel_error_mag_diff_{model_name}\", sub_directory=\"predictions\"\n",
    ")"
   ]
  },
  {
   "cell_type": "markdown",
   "metadata": {},
   "source": [
    "### Load all feature data"
   ]
  },
  {
   "cell_type": "code",
   "execution_count": null,
   "metadata": {},
   "outputs": [],
   "source": [
    "experiment = \"all\"\n",
    "all_experiment_data = load_experiment_data((experiment,))[\"all\"]"
   ]
  },
  {
   "cell_type": "markdown",
   "metadata": {},
   "source": [
    "### Correlations between diffs and other variables - virtually no correlation between the diffs and any of the features"
   ]
  },
  {
   "cell_type": "code",
   "execution_count": null,
   "metadata": {},
   "outputs": [],
   "source": [
    "diff_data = get_unmasked(diffs)\n",
    "all_features = all_experiment_data[\"exog_data\"].copy()\n",
    "all_features[\"Diffs\"] = diff_data"
   ]
  },
  {
   "cell_type": "code",
   "execution_count": null,
   "metadata": {},
   "outputs": [],
   "source": [
    "with figure_saver(\"diff_corr_plot\"):\n",
    "    corr_plot(shorten_columns(all_features), fig_kwargs={\"figsize\": (12, 8)})"
   ]
  },
  {
   "cell_type": "markdown",
   "metadata": {},
   "source": [
    "### Correlations between rel. diffs and other variables - virtually no correlation between the diffs and any of the features"
   ]
  },
  {
   "cell_type": "code",
   "execution_count": null,
   "metadata": {},
   "outputs": [],
   "source": [
    "rel_diff_data = get_unmasked(diffs / predictions[experiments[0]])\n",
    "rel_all_features = all_experiment_data[\"exog_data\"].copy()\n",
    "rel_all_features[\"Rel. Diffs\"] = rel_diff_data"
   ]
  },
  {
   "cell_type": "code",
   "execution_count": null,
   "metadata": {},
   "outputs": [],
   "source": [
    "with figure_saver(\"rel_diff_corr_plot\"):\n",
    "    corr_plot(shorten_columns(rel_all_features), fig_kwargs={\"figsize\": (12, 8)})"
   ]
  },
  {
   "cell_type": "markdown",
   "metadata": {},
   "source": [
    "### Correlations between |diffs| and other variables - vritually no correlation between the diffs and any of the features"
   ]
  },
  {
   "cell_type": "code",
   "execution_count": null,
   "metadata": {},
   "outputs": [],
   "source": [
    "abs_diff_data = np.abs(get_unmasked(diffs))\n",
    "abs_all_features = all_experiment_data[\"exog_data\"].copy()\n",
    "abs_all_features[\"|Diffs|\"] = abs_diff_data"
   ]
  },
  {
   "cell_type": "code",
   "execution_count": null,
   "metadata": {},
   "outputs": [],
   "source": [
    "with figure_saver(\"abs_diff_corr_plot\"):\n",
    "    corr_plot(shorten_columns(abs_all_features), fig_kwargs={\"figsize\": (12, 8)})"
   ]
  },
  {
   "cell_type": "markdown",
   "metadata": {},
   "source": [
    "### Correlations between rel. |diffs| and other variables - virtually no correlation between the diffs and any of the features"
   ]
  },
  {
   "cell_type": "code",
   "execution_count": null,
   "metadata": {},
   "outputs": [],
   "source": [
    "rel_abs_diff_data = np.abs(get_unmasked(diffs / predictions[experiments[0]]))\n",
    "rel_abs_all_features = all_experiment_data[\"exog_data\"].copy()\n",
    "rel_abs_all_features[\"Rel. |Diffs|\"] = rel_abs_diff_data"
   ]
  },
  {
   "cell_type": "code",
   "execution_count": null,
   "metadata": {},
   "outputs": [],
   "source": [
    "with figure_saver(\"rel_abs_diff_corr_plot\"):\n",
    "    corr_plot(shorten_columns(rel_abs_all_features), fig_kwargs={\"figsize\": (12, 8)})"
   ]
  }
 ],
 "metadata": {
  "kernelspec": {
   "display_name": "Python [conda env:wildfires] *",
   "language": "python",
   "name": "conda-env-wildfires-py"
  }
 },
 "nbformat": 4,
 "nbformat_minor": 4
}
