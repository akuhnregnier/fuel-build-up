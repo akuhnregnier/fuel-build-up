{
 "cells": [
  {
   "cell_type": "markdown",
   "metadata": {},
   "source": [
    "#### Setup"
   ]
  },
  {
   "cell_type": "code",
   "execution_count": null,
   "metadata": {},
   "outputs": [],
   "source": [
    "from specific import *"
   ]
  },
  {
   "cell_type": "markdown",
   "metadata": {},
   "source": [
    "### Specify the experiments to compare"
   ]
  },
  {
   "cell_type": "code",
   "execution_count": null,
   "metadata": {},
   "outputs": [],
   "source": [
    "experiments = (\"15_most_important\", \"no_temporal_shifts\")\n",
    "assert len(experiments) == 2"
   ]
  },
  {
   "cell_type": "markdown",
   "metadata": {},
   "source": [
    "### Load data"
   ]
  },
  {
   "cell_type": "code",
   "execution_count": null,
   "metadata": {},
   "outputs": [],
   "source": [
    "experiment_data = load_experiment_data(experiments)"
   ]
  },
  {
   "cell_type": "markdown",
   "metadata": {},
   "source": [
    "### Check that the masks are aligned"
   ]
  },
  {
   "cell_type": "code",
   "execution_count": null,
   "metadata": {},
   "outputs": [],
   "source": [
    "comp_masks = [experiment_data[experiment][\"master_mask\"] for experiment in experiments]\n",
    "assert np.all(comp_masks[0] == comp_masks[1])"
   ]
  },
  {
   "cell_type": "markdown",
   "metadata": {},
   "source": [
    "### Predict BA"
   ]
  },
  {
   "cell_type": "code",
   "execution_count": null,
   "metadata": {},
   "outputs": [],
   "source": [
    "master_mask = experiment_data[experiments[0]][\"master_mask\"]\n",
    "target_ba = get_masked_array(\n",
    "    experiment_data[experiments[0]][\"endog_data\"].values, master_mask\n",
    ")\n",
    "\n",
    "preds_cache = SimpleCache(f\"predictions_{'_'.join(experiments)}\", cache_dir=CACHE_DIR)\n",
    "\n",
    "# XXX:\n",
    "# preds_cache.clear()\n",
    "\n",
    "n_threads = get_ncpus()\n",
    "\n",
    "\n",
    "@preds_cache\n",
    "def get_predictions():\n",
    "    predictions = {}\n",
    "\n",
    "    for experiment in experiments:\n",
    "        experiment_data[experiment][\"model\"].n_jobs = n_threads\n",
    "        with parallel_backend(\"threading\", n_jobs=n_threads):\n",
    "            predictions[experiment] = get_masked_array(\n",
    "                experiment_data[experiment][\"model\"].predict(\n",
    "                    experiment_data[experiment][\"exog_data\"]\n",
    "                ),\n",
    "                master_mask,\n",
    "            )\n",
    "    return predictions\n",
    "\n",
    "\n",
    "predictions = get_predictions()"
   ]
  },
  {
   "cell_type": "markdown",
   "metadata": {},
   "source": [
    "### Calculate Diffs"
   ]
  },
  {
   "cell_type": "code",
   "execution_count": null,
   "metadata": {},
   "outputs": [],
   "source": [
    "diffs = predictions[experiments[1]] - predictions[experiments[0]]"
   ]
  },
  {
   "cell_type": "markdown",
   "metadata": {},
   "source": [
    "### Compare the predictions"
   ]
  },
  {
   "cell_type": "code",
   "execution_count": null,
   "metadata": {},
   "outputs": [],
   "source": [
    "plt.hist(get_unmasked(diffs), bins=100)\n",
    "plt.yscale(\"log\")\n",
    "plt.xscale(\"symlog\", linthres=1e-6)"
   ]
  },
  {
   "cell_type": "code",
   "execution_count": null,
   "metadata": {},
   "outputs": [],
   "source": [
    "plt.hist(np.abs(get_unmasked(diffs)), bins=2000)\n",
    "plt.yscale(\"log\")\n",
    "plt.xscale(\"symlog\", linthres=1e-6)"
   ]
  },
  {
   "cell_type": "code",
   "execution_count": null,
   "metadata": {},
   "outputs": [],
   "source": [
    "model_name = f\"comparison_{'_'.join(experiments)}\"\n",
    "\n",
    "# Plotting params.\n",
    "figsize = (5.1, 2.8)\n",
    "mpl.rcParams[\"figure.figsize\"] = figsize\n",
    "coast_linewidth = 0.3\n",
    "date_str = \"2010-01 to 2015-01\""
   ]
  },
  {
   "cell_type": "code",
   "execution_count": null,
   "metadata": {},
   "outputs": [],
   "source": [
    "boundaries = [-1e-2, -1e-3, -1e-4, 0, 1e-4, 1e-3, 1e-2]\n",
    "\n",
    "# Plotting predicted.\n",
    "fig = cube_plotting(\n",
    "    diffs,\n",
    "    title=f\"BA <No Temporal - Top 15>\\n{date_str}\",\n",
    "    boundaries=boundaries,\n",
    "    cmap=\"brewer_RdYlBu_11\",\n",
    "    cmap_midpoint=0,\n",
    "    cmap_symmetric=True,\n",
    "    colorbar_kwargs={\"label\": \"Burned Area Fraction\", \"format\": \"%0.1e\",},\n",
    "    coastline_kwargs={\"linewidth\": coast_linewidth},\n",
    ")\n",
    "figure_saver.save_figure(fig, f\"ba_{model_name}\", sub_directory=\"predictions\")"
   ]
  },
  {
   "cell_type": "code",
   "execution_count": null,
   "metadata": {},
   "outputs": [],
   "source": [
    "boundaries = [-1e-1, 0, 0.1 ** 0.5, 1, 1e1]\n",
    "\n",
    "# Plotting predicted.\n",
    "fig = cube_plotting(\n",
    "    diffs / predictions[experiments[0]],\n",
    "    title=f\"BA <No Temporal - Top 15> / Top 15\\n{date_str}\",\n",
    "    boundaries=boundaries,\n",
    "    cmap=\"brewer_RdYlBu_11\",\n",
    "    cmap_midpoint=0,\n",
    "    cmap_symmetric=False,\n",
    "    colorbar_kwargs={\"label\": \"1\", \"format\": \"%0.1e\",},\n",
    "    coastline_kwargs={\"linewidth\": coast_linewidth},\n",
    ")\n",
    "figure_saver.save_figure(fig, f\"rel_ba_{model_name}\", sub_directory=\"predictions\")"
   ]
  },
  {
   "cell_type": "code",
   "execution_count": null,
   "metadata": {},
   "outputs": [],
   "source": [
    "plot_data = np.abs(diffs)\n",
    "vmax = np.max(plot_data)\n",
    "\n",
    "boundaries = [1e-5, 1e-4, 1e-3, 1e-2, vmax]\n",
    "\n",
    "# Plotting predicted.\n",
    "fig = cube_plotting(\n",
    "    np.abs(diffs),\n",
    "    title=f\"BA <|No Temporal - Top 15|>\\n{date_str}\",\n",
    "    boundaries=boundaries,\n",
    "    cmap=\"YlOrRd\",\n",
    "    colorbar_kwargs={\"label\": \"Burned Area Fraction\", \"format\": \"%0.1e\",},\n",
    "    coastline_kwargs={\"linewidth\": coast_linewidth},\n",
    ")\n",
    "figure_saver.save_figure(fig, f\"ba_mean_abs_{model_name}\", sub_directory=\"predictions\")"
   ]
  },
  {
   "cell_type": "code",
   "execution_count": null,
   "metadata": {},
   "outputs": [],
   "source": [
    "plot_data = np.abs(diffs)\n",
    "vmax = np.max(plot_data)\n",
    "\n",
    "boundaries = [0.1, 0.316, 1, 3.16, 10]\n",
    "\n",
    "# Plotting predicted.\n",
    "fig = cube_plotting(\n",
    "    np.abs(diffs) / predictions[experiments[0]],\n",
    "    title=f\"BA <|No Temporal - Top 15|> / Top 15\\n{date_str}\",\n",
    "    boundaries=boundaries,\n",
    "    cmap=\"YlOrBr\",\n",
    "    colorbar_kwargs={\"label\": \"1\", \"format\": \"%0.1e\",},\n",
    "    coastline_kwargs={\"linewidth\": coast_linewidth},\n",
    ")\n",
    "figure_saver.save_figure(\n",
    "    fig, f\"rel_ba_mean_abs_{model_name}\", sub_directory=\"predictions\"\n",
    ")"
   ]
  },
  {
   "cell_type": "markdown",
   "metadata": {},
   "source": [
    "### Load all feature data"
   ]
  },
  {
   "cell_type": "code",
   "execution_count": null,
   "metadata": {},
   "outputs": [],
   "source": [
    "experiment = \"fire_seasonality_paper\"\n",
    "all_experiment_data = load_experiment_data((experiment,))[\"fire_seasonality_paper\"]"
   ]
  },
  {
   "cell_type": "markdown",
   "metadata": {},
   "source": [
    "### Correlations between diffs and other variables - virtually no correlation between the diffs and any of the features"
   ]
  },
  {
   "cell_type": "code",
   "execution_count": null,
   "metadata": {},
   "outputs": [],
   "source": [
    "diff_data = get_unmasked(diffs)\n",
    "all_features = all_experiment_data[\"exog_data\"].copy()\n",
    "all_features[\"Diffs\"] = diff_data"
   ]
  },
  {
   "cell_type": "code",
   "execution_count": null,
   "metadata": {},
   "outputs": [],
   "source": [
    "with figure_saver(\"diff_corr_plot\"):\n",
    "    corr_plot(shorten_columns(all_features), fig_kwargs={\"figsize\": (12, 8)})"
   ]
  },
  {
   "cell_type": "markdown",
   "metadata": {},
   "source": [
    "### Correlations between rel. diffs and other variables - virtually no correlation between the diffs and any of the features"
   ]
  },
  {
   "cell_type": "code",
   "execution_count": null,
   "metadata": {},
   "outputs": [],
   "source": [
    "rel_diff_data = get_unmasked(diffs / predictions[experiments[0]])\n",
    "rel_all_features = all_experiment_data[\"exog_data\"].copy()\n",
    "rel_all_features[\"Rel. Diffs\"] = rel_diff_data"
   ]
  },
  {
   "cell_type": "code",
   "execution_count": null,
   "metadata": {},
   "outputs": [],
   "source": [
    "with figure_saver(\"rel_diff_corr_plot\"):\n",
    "    corr_plot(shorten_columns(rel_all_features), fig_kwargs={\"figsize\": (12, 8)})"
   ]
  },
  {
   "cell_type": "markdown",
   "metadata": {},
   "source": [
    "### Correlations between |diffs| and other variables - vritually no correlation between the diffs and any of the features"
   ]
  },
  {
   "cell_type": "code",
   "execution_count": null,
   "metadata": {},
   "outputs": [],
   "source": [
    "abs_diff_data = np.abs(get_unmasked(diffs))\n",
    "abs_all_features = all_experiment_data[\"exog_data\"].copy()\n",
    "abs_all_features[\"|Diffs|\"] = abs_diff_data"
   ]
  },
  {
   "cell_type": "code",
   "execution_count": null,
   "metadata": {},
   "outputs": [],
   "source": [
    "with figure_saver(\"abs_diff_corr_plot\"):\n",
    "    corr_plot(shorten_columns(abs_all_features), fig_kwargs={\"figsize\": (12, 8)})"
   ]
  },
  {
   "cell_type": "markdown",
   "metadata": {},
   "source": [
    "### Correlations between rel. |diffs| and other variables - virtually no correlation between the diffs and any of the features"
   ]
  },
  {
   "cell_type": "code",
   "execution_count": null,
   "metadata": {},
   "outputs": [],
   "source": [
    "rel_abs_diff_data = np.abs(get_unmasked(diffs / predictions[experiments[0]]))\n",
    "rel_abs_all_features = all_experiment_data[\"exog_data\"].copy()\n",
    "rel_abs_all_features[\"Rel. |Diffs|\"] = rel_abs_diff_data"
   ]
  },
  {
   "cell_type": "code",
   "execution_count": null,
   "metadata": {},
   "outputs": [],
   "source": [
    "with figure_saver(\"rel_abs_diff_corr_plot\"):\n",
    "    corr_plot(shorten_columns(rel_abs_all_features), fig_kwargs={\"figsize\": (12, 8)})"
   ]
  }
 ],
 "metadata": {
  "kernelspec": {
   "display_name": "Python [conda env:wildfires]",
   "language": "python",
   "name": "conda-env-wildfires-py"
  }
 },
 "nbformat": 4,
 "nbformat_minor": 4
}
