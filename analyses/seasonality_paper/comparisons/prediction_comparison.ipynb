{
 "cells": [
  {
   "cell_type": "markdown",
   "metadata": {},
   "source": [
    "#### Setup"
   ]
  },
  {
   "cell_type": "code",
   "execution_count": null,
   "metadata": {},
   "outputs": [],
   "source": [
    "from specific import *"
   ]
  },
  {
   "cell_type": "markdown",
   "metadata": {},
   "source": [
    "### Specify the experiments to compare"
   ]
  },
  {
   "cell_type": "code",
   "execution_count": null,
   "metadata": {},
   "outputs": [],
   "source": [
    "experiments = (\"15_most_important\", \"no_temporal_shifts\")\n",
    "assert len(experiments) == 2"
   ]
  },
  {
   "cell_type": "markdown",
   "metadata": {},
   "source": [
    "### Load data"
   ]
  },
  {
   "cell_type": "code",
   "execution_count": null,
   "metadata": {},
   "outputs": [],
   "source": [
    "import importlib.util\n",
    "\n",
    "spec_modules = {}\n",
    "spec_data = {}\n",
    "spec_models = {}\n",
    "for experiment in experiments:\n",
    "    # Load the different experiments' modules.\n",
    "    spec = importlib.util.spec_from_file_location(\n",
    "        f\"{experiment}_specific\", str(PROJECT_DIR.parent / experiment / \"specific.py\")\n",
    "    )\n",
    "    spec_modules[experiment] = importlib.util.module_from_spec(spec)\n",
    "    spec.loader.exec_module(spec_modules[experiment])\n",
    "    spec_data[experiment] = (\n",
    "        endog_data,\n",
    "        exog_data,\n",
    "        master_mask,\n",
    "        filled_datasets,\n",
    "        masked_datasets,\n",
    "        land_mask,\n",
    "    ) = spec_modules[experiment].get_offset_data()\n",
    "    spec_models[experiment] = spec_modules[experiment].cross_val_cache.load()[1]"
   ]
  },
  {
   "cell_type": "markdown",
   "metadata": {},
   "source": [
    "### Check that the masks are aligned"
   ]
  },
  {
   "cell_type": "code",
   "execution_count": null,
   "metadata": {},
   "outputs": [],
   "source": [
    "comp_masks = [spec_data[experiment][2] for experiment in experiments]\n",
    "assert np.all(comp_masks[0] == comp_masks[1])"
   ]
  },
  {
   "cell_type": "markdown",
   "metadata": {},
   "source": [
    "### Predict BA"
   ]
  },
  {
   "cell_type": "code",
   "execution_count": null,
   "metadata": {},
   "outputs": [],
   "source": [
    "n_threads = get_ncpus()\n",
    "\n",
    "master_mask = spec_data[experiments[0]][2]\n",
    "target_ba = get_masked_array(endog_data.values, master_mask)\n",
    "\n",
    "preds_cache = SimpleCache(f\"predictions_{'_'.join(experiments)}\", cache_dir=CACHE_DIR)\n",
    "\n",
    "# XXX:\n",
    "# preds_cache.clear()\n",
    "\n",
    "\n",
    "@preds_cache\n",
    "def get_predictions():\n",
    "    predictions = {}\n",
    "\n",
    "    for experiment in experiments:\n",
    "        spec_models[experiment].n_jobs = n_threads\n",
    "        with parallel_backend(\"threading\", n_jobs=n_threads):\n",
    "            predictions[experiment] = get_masked_array(\n",
    "                spec_models[experiment].predict(spec_data[experiment][1]), master_mask\n",
    "            )\n",
    "    return predictions\n",
    "\n",
    "\n",
    "predictions = get_predictions()"
   ]
  },
  {
   "cell_type": "markdown",
   "metadata": {},
   "source": [
    "### Compare the predictions"
   ]
  },
  {
   "cell_type": "code",
   "execution_count": null,
   "metadata": {},
   "outputs": [],
   "source": [
    "from wildfires.analysis import MidpointNormalize\n",
    "\n",
    "model_name = f\"comparison_{'_'.join(experiments)}\"\n",
    "\n",
    "diffs = predictions[experiments[1]] - predictions[experiments[0]]\n",
    "\n",
    "# Plotting params.\n",
    "figsize = (6, 3.2)\n",
    "mpl.rcParams[\"figure.figsize\"] = figsize\n",
    "\n",
    "coast_linewidth = 0.5\n",
    "date_str = \"2010-01 to 2015-01\"\n",
    "\n",
    "v0 = abs(min(np.min(predictions[experiment]) for experiment in experiments))\n",
    "v1 = max(np.max(predictions[experiment]) for experiment in experiments)\n",
    "\n",
    "vmax = max((v0, v1))\n",
    "vmin = -vmax\n",
    "\n",
    "boundaries = [vmin, -1e-2, -1e-3, -1e-5, 0, 1e-5, 1e-3, 1e-2, vmax]\n",
    "\n",
    "# Plotting predicted.\n",
    "fig = cube_plotting(\n",
    "    diffs,\n",
    "    cmap=\"brewer_RdYlBu_11\",\n",
    "    label=\"Burned Area Fraction\",\n",
    "    title=f\"BA Change (No Temporal - Top 15)\\n{date_str}\",\n",
    "    log=True,\n",
    "    coastline_kwargs={\"linewidth\": coast_linewidth},\n",
    "    log_auto_bins=False,\n",
    "    colorbar_kwargs={\"norm\": MidpointNormalize(midpoint=0)},\n",
    "    #     min_edge=vmin,\n",
    "    #     extend=None,\n",
    "    #     boundaries=boundaries,\n",
    ")\n",
    "figure_saver.save_figure(fig, f\"ba_{model_name}\", sub_directory=\"predictions\")"
   ]
  },
  {
   "cell_type": "markdown",
   "metadata": {},
   "source": [
    "### Load all feature data"
   ]
  },
  {
   "cell_type": "code",
   "execution_count": null,
   "metadata": {},
   "outputs": [],
   "source": [
    "experiment = \"fire_seasonality_paper\"\n",
    "spec = importlib.util.spec_from_file_location(\n",
    "    f\"{experiment}_specific\", str(PROJECT_DIR.parent / experiment / \"specific.py\")\n",
    ")\n",
    "spec_modules[experiment] = importlib.util.module_from_spec(spec)\n",
    "spec.loader.exec_module(spec_modules[experiment])\n",
    "spec_data[experiment] = (\n",
    "    endog_data,\n",
    "    exog_data,\n",
    "    master_mask,\n",
    "    filled_datasets,\n",
    "    masked_datasets,\n",
    "    land_mask,\n",
    ") = spec_modules[experiment].get_offset_data()"
   ]
  },
  {
   "cell_type": "markdown",
   "metadata": {},
   "source": [
    "### Correlations between diffs and other variables - virtually no correlation between the diffs and any of the features"
   ]
  },
  {
   "cell_type": "code",
   "execution_count": null,
   "metadata": {},
   "outputs": [],
   "source": [
    "diff_data = get_unmasked(diffs)\n",
    "all_features = spec_data[\"fire_seasonality_paper\"][1].copy()\n",
    "all_features[\"Diffs\"] = diff_data"
   ]
  },
  {
   "cell_type": "code",
   "execution_count": null,
   "metadata": {},
   "outputs": [],
   "source": [
    "with figure_saver(\"diff_corr_plot\"):\n",
    "    corr_plot(shorten_columns(all_features), fig_kwargs={\"figsize\": (12, 8)})"
   ]
  }
 ],
 "metadata": {
  "kernelspec": {
   "display_name": "Python [conda env:wildfires]",
   "language": "python",
   "name": "conda-env-wildfires-py"
  }
 },
 "nbformat": 4,
 "nbformat_minor": 2
}
