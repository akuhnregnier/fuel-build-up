{
 "cells": [
  {
   "cell_type": "markdown",
   "metadata": {},
   "source": [
    "## Setup"
   ]
  },
  {
   "cell_type": "code",
   "execution_count": null,
   "metadata": {},
   "outputs": [],
   "source": [
    "from specific import *"
   ]
  },
  {
   "cell_type": "markdown",
   "metadata": {},
   "source": [
    "### Get shifted data"
   ]
  },
  {
   "cell_type": "code",
   "execution_count": null,
   "metadata": {},
   "outputs": [],
   "source": [
    "(\n",
    "    endog_data,\n",
    "    exog_data,\n",
    "    master_mask,\n",
    "    filled_datasets,\n",
    "    masked_datasets,\n",
    "    land_mask,\n",
    ") = get_offset_data()"
   ]
  },
  {
   "cell_type": "markdown",
   "metadata": {},
   "source": [
    "### Retrieve previous results from the 'model' notebook"
   ]
  },
  {
   "cell_type": "code",
   "execution_count": null,
   "metadata": {},
   "outputs": [],
   "source": [
    "results, rf = cross_val_cache.load()"
   ]
  },
  {
   "cell_type": "markdown",
   "metadata": {},
   "source": [
    "### Predict BA"
   ]
  },
  {
   "cell_type": "code",
   "execution_count": null,
   "metadata": {},
   "outputs": [],
   "source": [
    "n_threads = get_ncpus()\n",
    "rf.n_jobs = n_threads\n",
    "with parallel_backend(\"threading\", n_jobs=n_threads):\n",
    "    predicted_ba = get_masked_array(rf.predict(exog_data), master_mask)\n",
    "target_ba = get_masked_array(endog_data.values, master_mask)"
   ]
  },
  {
   "cell_type": "code",
   "execution_count": null,
   "metadata": {},
   "outputs": [],
   "source": [
    "ba_predicted = predicted_ba\n",
    "ba_data = target_ba\n",
    "\n",
    "model_name = \"RF1\"\n",
    "\n",
    "# Plotting params.\n",
    "figsize = (5.1, 2.8)\n",
    "mpl.rcParams[\"figure.figsize\"] = figsize\n",
    "coast_linewidth = 0.3\n",
    "date_str = \"2010-01 to 2015-01\""
   ]
  },
  {
   "cell_type": "code",
   "execution_count": null,
   "metadata": {},
   "outputs": [],
   "source": [
    "boundaries = [1e-7, 1e-6, 1e-5, 1e-4, 1e-3, 1e-2, 1e-1]\n",
    "\n",
    "\n",
    "# Plotting predicted.\n",
    "fig = cube_plotting(\n",
    "    ba_predicted,\n",
    "    cmap=\"brewer_RdYlBu_11_r\",\n",
    "    title=f\"Predicted BA\\n{date_str}\",\n",
    "    boundaries=boundaries,\n",
    "    colorbar_kwargs={\"label\": \"Burned Area Fraction\", \"format\": \"%0.0e\"},\n",
    "    coastline_kwargs={\"linewidth\": coast_linewidth},\n",
    ")\n",
    "figure_saver.save_figure(fig, f\"predicted_ba_{model_name}\", sub_directory=\"predictions\")\n",
    "\n",
    "# Plotting observed.\n",
    "fig = cube_plotting(\n",
    "    ba_data,\n",
    "    cmap=\"brewer_RdYlBu_11_r\",\n",
    "    title=f\"Observed BA\\n{date_str}\",\n",
    "    boundaries=boundaries,\n",
    "    colorbar_kwargs={\"label\": \"Burned Area Fraction\", \"format\": \"%0.0e\"},\n",
    "    coastline_kwargs={\"linewidth\": coast_linewidth},\n",
    ")\n",
    "figure_saver.save_figure(fig, f\"observed_ba_{model_name}\", sub_directory=\"predictions\")"
   ]
  },
  {
   "cell_type": "code",
   "execution_count": null,
   "metadata": {},
   "outputs": [],
   "source": [
    "frac_diffs = (ba_data - ba_predicted) / ba_data"
   ]
  },
  {
   "cell_type": "code",
   "execution_count": null,
   "metadata": {},
   "outputs": [],
   "source": [
    "# Plotting differences.\n",
    "diff_boundaries = [-1e1, -1e0, 0, 1e-1]\n",
    "\n",
    "fig = cube_plotting(\n",
    "    frac_diffs,\n",
    "    cmap=\"brewer_RdYlBu_11\",\n",
    "    title=f\"BA Discrepancy (Obs. - Pred.) / Obs. \\n{date_str}\",\n",
    "    cmap_midpoint=0,\n",
    "    boundaries=diff_boundaries,\n",
    "    colorbar_kwargs={\"label\": \"(Obs. - Pred.) / Obs.\", \"format\": \"%0.0e\"},\n",
    "    coastline_kwargs={\"linewidth\": coast_linewidth},\n",
    ")\n",
    "figure_saver.save_figure(\n",
    "    fig, f\"difference_ba_{model_name}\", sub_directory=\"predictions\"\n",
    ")"
   ]
  }
 ],
 "metadata": {
  "kernelspec": {
   "display_name": "Python [conda env:wildfires]",
   "language": "python",
   "name": "conda-env-wildfires-py"
  }
 },
 "nbformat": 4,
 "nbformat_minor": 4
}
