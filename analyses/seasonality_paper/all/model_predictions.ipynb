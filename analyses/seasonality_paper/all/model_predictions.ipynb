{
 "cells": [
  {
   "cell_type": "markdown",
   "metadata": {},
   "source": [
    "## Setup"
   ]
  },
  {
   "cell_type": "code",
   "execution_count": null,
   "metadata": {},
   "outputs": [],
   "source": [
    "from specific import *"
   ]
  },
  {
   "cell_type": "markdown",
   "metadata": {},
   "source": [
    "### Get shifted data"
   ]
  },
  {
   "cell_type": "code",
   "execution_count": null,
   "metadata": {},
   "outputs": [],
   "source": [
    "(\n",
    "    endog_data,\n",
    "    exog_data,\n",
    "    master_mask,\n",
    "    filled_datasets,\n",
    "    masked_datasets,\n",
    "    land_mask,\n",
    ") = get_offset_data()"
   ]
  },
  {
   "cell_type": "markdown",
   "metadata": {},
   "source": [
    "### Retrieve previous results from the 'model' notebook"
   ]
  },
  {
   "cell_type": "code",
   "execution_count": null,
   "metadata": {},
   "outputs": [],
   "source": [
    "results, rf = cross_val_cache.load()"
   ]
  },
  {
   "cell_type": "markdown",
   "metadata": {},
   "source": [
    "### Predict BA"
   ]
  },
  {
   "cell_type": "code",
   "execution_count": null,
   "metadata": {},
   "outputs": [],
   "source": [
    "n_threads = 32\n",
    "rf.n_jobs = n_threads\n",
    "with parallel_backend(\"threading\", n_jobs=n_threads):\n",
    "    predicted_ba = get_masked_array(rf.predict(exog_data), master_mask)\n",
    "target_ba = get_masked_array(endog_data.values, master_mask)"
   ]
  },
  {
   "cell_type": "code",
   "execution_count": null,
   "metadata": {},
   "outputs": [],
   "source": [
    "ba_predicted = predicted_ba\n",
    "ba_data = target_ba\n",
    "\n",
    "model_name = \"RF1\"\n",
    "\n",
    "# Plotting params.\n",
    "figsize = (5, 3.33)\n",
    "mpl.rcParams[\"figure.figsize\"] = figsize\n",
    "\n",
    "vmin = min((np.min(ba_predicted), np.min(ba_data)))\n",
    "vmax = max((np.max(ba_predicted), np.max(ba_data)))\n",
    "\n",
    "boundaries = [1e-7, 1e-6, 1e-5, 1e-4, 1e-3, 1e-2, 1e-1]\n",
    "coast_linewidth = 0.5\n",
    "date_str = \"2010-01 to 2015-01\"\n",
    "\n",
    "# Plotting predicted.\n",
    "fig = cube_plotting(\n",
    "    ba_predicted,\n",
    "    cmap=\"brewer_RdYlBu_11_r\",\n",
    "    title=f\"Predicted BA\\n{date_str}\",\n",
    "    log=True,\n",
    "    extend=\"min\",\n",
    "    boundaries=boundaries,\n",
    "    colorbar_kwargs={\"label\": \"Burned Area Fraction\"},\n",
    "    coastline_kwargs={\"linewidth\": coast_linewidth},\n",
    ")\n",
    "figure_saver.save_figure(fig, f\"predicted_ba_{model_name}\", sub_directory=\"predictions\")\n",
    "\n",
    "# Plotting observed.\n",
    "fig = cube_plotting(\n",
    "    ba_data,\n",
    "    cmap=\"brewer_RdYlBu_11_r\",\n",
    "    title=f\"Predicted BA\\n{date_str}\",\n",
    "    log=True,\n",
    "    extend=\"min\",\n",
    "    boundaries=boundaries,\n",
    "    colorbar_kwargs={\"label\": \"Burned Area Fraction\"},\n",
    "    coastline_kwargs={\"linewidth\": coast_linewidth},\n",
    ")\n",
    "figure_saver.save_figure(fig, f\"observed_ba_{model_name}\", sub_directory=\"predictions\")\n",
    "\n",
    "# Plotting differences.\n",
    "diff_boundaries = [-1e3, -1e0, -1e-1, -1e-2, 0, 1e-1, 5e-1, 1e0]\n",
    "\n",
    "frac_diffs = (ba_data - ba_predicted) / ba_data\n",
    "\n",
    "fig = cube_plotting(\n",
    "    frac_diffs,\n",
    "    cmap=\"brewer_RdYlBu_11_r\",\n",
    "    title=f\"BA Discrepancy\\n{date_str}\",\n",
    "    log=True,\n",
    "    boundaries=diff_boundaries,\n",
    "    extend=\"min\" if np.max(frac_diffs) <= max(diff_boundaries) else \"both\",\n",
    "    colorbar_kwargs={\"label\": \"(Observed - Predicted) / Observed\"},\n",
    "    coastline_kwargs={\"linewidth\": coast_linewidth},\n",
    ")\n",
    "figure_saver.save_figure(\n",
    "    fig, f\"difference_ba_{model_name}\", sub_directory=\"predictions\"\n",
    ")"
   ]
  }
 ],
 "metadata": {
  "kernelspec": {
   "display_name": "Python [conda env:wildfires]",
   "language": "python",
   "name": "conda-env-wildfires-py"
  }
 },
 "nbformat": 4,
 "nbformat_minor": 4
}
