{
 "cells": [
  {
   "cell_type": "markdown",
   "metadata": {},
   "source": [
    "## Setup"
   ]
  },
  {
   "cell_type": "code",
   "execution_count": null,
   "metadata": {},
   "outputs": [],
   "source": [
    "from specific import *"
   ]
  },
  {
   "cell_type": "markdown",
   "metadata": {},
   "source": [
    "### Get shifted data"
   ]
  },
  {
   "cell_type": "code",
   "execution_count": null,
   "metadata": {},
   "outputs": [],
   "source": [
    "(\n",
    "    endog_data,\n",
    "    exog_data,\n",
    "    master_mask,\n",
    "    filled_datasets,\n",
    "    masked_datasets,\n",
    "    land_mask,\n",
    ") = get_offset_data()"
   ]
  },
  {
   "cell_type": "code",
   "execution_count": null,
   "metadata": {},
   "outputs": [],
   "source": [
    "client = get_client()\n",
    "client"
   ]
  },
  {
   "cell_type": "markdown",
   "metadata": {},
   "source": [
    "### Define the training and test data"
   ]
  },
  {
   "cell_type": "code",
   "execution_count": null,
   "metadata": {},
   "outputs": [],
   "source": [
    "@data_split_cache\n",
    "def get_split_data():\n",
    "    X_train, X_test, y_train, y_test = train_test_split(\n",
    "        exog_data, endog_data, random_state=1, shuffle=True, test_size=0.3\n",
    "    )\n",
    "    return X_train, X_test, y_train, y_test\n",
    "\n",
    "\n",
    "X_train, X_test, y_train, y_test = get_split_data()"
   ]
  },
  {
   "cell_type": "markdown",
   "metadata": {},
   "source": [
    "## Fit combinations"
   ]
  },
  {
   "cell_type": "code",
   "execution_count": null,
   "metadata": {},
   "outputs": [],
   "source": [
    "exog_data.columns"
   ]
  },
  {
   "cell_type": "code",
   "execution_count": null,
   "metadata": {},
   "outputs": [],
   "source": [
    "veg_features = [\"VOD Ku-band 3NN\", \"LAI 3NN\", \"SIF 3NN\", \"FAPAR 3NN\"]\n",
    "shifts = [\"\", *[f\" -{x} Month\" for x in [1, 3, 6, 9]]]\n",
    "veg_lags = []\n",
    "for shift in shifts:\n",
    "    shift_arr = []\n",
    "    for veg_feature in veg_features:\n",
    "        shift_arr.append(veg_feature + shift)\n",
    "    veg_lags.append(shift_arr)\n",
    "assert all(feature in exog_data for unpacked in veg_lags for feature in unpacked)\n",
    "veg_lags"
   ]
  },
  {
   "cell_type": "code",
   "execution_count": null,
   "metadata": {},
   "outputs": [],
   "source": [
    "combinations = [\n",
    "    (\n",
    "        \"Dry Day Period\",\n",
    "        \"Max Temp\",\n",
    "        \"pftCrop\",\n",
    "        \"popd\",\n",
    "        \"Diurnal Temp Range\",\n",
    "        \"Dry Day Period -3 Month\",\n",
    "        \"AGB Tree\",\n",
    "        \"Dry Day Period -1 Month\",\n",
    "        \"SWI(1) 3NN\",\n",
    "        \"Dry Day Period -9 Month\",\n",
    "        *veg_lag_product,\n",
    "    )\n",
    "    for veg_lag_product in product(*veg_lags)\n",
    "]\n",
    "\n",
    "assert all(len(combination) == 15 for combination in combinations)\n",
    "\n",
    "len(combinations)"
   ]
  },
  {
   "cell_type": "code",
   "execution_count": null,
   "metadata": {},
   "outputs": [],
   "source": [
    "scores = dask_fit_combinations(\n",
    "    DaskRandomForestRegressor(**param_dict),\n",
    "    X_train,\n",
    "    y_train,\n",
    "    X_test,\n",
    "    y_test,\n",
    "    client,\n",
    "    combinations,\n",
    "    local_n_jobs=max(get_ncpus() - 2, 1),\n",
    "    verbose=True,\n",
    "    cache_dir=CACHE_DIR,\n",
    ")"
   ]
  },
  {
   "cell_type": "code",
   "execution_count": null,
   "metadata": {},
   "outputs": [],
   "source": [
    "keys = list(scores)"
   ]
  },
  {
   "cell_type": "code",
   "execution_count": null,
   "metadata": {},
   "outputs": [],
   "source": [
    "r2_scores = np.array([results[\"test_score\"][\"r2\"] for results in scores.values()])\n",
    "mse_scores = np.array([results[\"test_score\"][\"mse\"] for results in scores.values()])\n",
    "\n",
    "assert np.argmax(r2_scores) == np.argmin(mse_scores)\n",
    "\n",
    "indices = np.argsort(r2_scores)[::-1]\n",
    "fig, ax = plt.subplots()\n",
    "ax.plot(r2_scores[indices][:10])\n",
    "ax2 = ax.twinx()\n",
    "ax2.plot(mse_scores[indices][:10], c=\"C1\")\n",
    "\n",
    "np.max(r2_scores), keys[np.argmax(r2_scores)]"
   ]
  },
  {
   "cell_type": "code",
   "execution_count": null,
   "metadata": {},
   "outputs": [],
   "source": [
    "train_r2_scores = np.array(\n",
    "    [results[\"train_score\"][\"r2\"] for results in scores.values()]\n",
    ")\n",
    "train_mse_scores = np.array(\n",
    "    [results[\"train_score\"][\"mse\"] for results in scores.values()]\n",
    ")\n",
    "\n",
    "assert np.argmax(train_r2_scores) == np.argmin(train_mse_scores)\n",
    "\n",
    "train_indices = np.argsort(train_r2_scores)[::-1]\n",
    "fig, ax = plt.subplots()\n",
    "ax.plot(train_r2_scores[train_indices][:10])\n",
    "ax2 = ax.twinx()\n",
    "ax2.plot(train_mse_scores[train_indices][:10], c=\"C1\")\n",
    "\n",
    "np.max(train_r2_scores), keys[np.argmax(train_r2_scores)]"
   ]
  }
 ],
 "metadata": {
  "kernelspec": {
   "display_name": "Python [conda env:wildfires] *",
   "language": "python",
   "name": "conda-env-wildfires-py"
  }
 },
 "nbformat": 4,
 "nbformat_minor": 4
}
