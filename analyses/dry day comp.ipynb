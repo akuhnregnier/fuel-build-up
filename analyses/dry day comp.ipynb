{
 "cells": [
  {
   "cell_type": "code",
   "execution_count": null,
   "metadata": {},
   "outputs": [],
   "source": [
    "import matplotlib.pyplot as plt"
   ]
  },
  {
   "cell_type": "code",
   "execution_count": null,
   "metadata": {},
   "outputs": [],
   "source": [
    "from wildfires.analysis import *\n",
    "from wildfires.data.datasets import *"
   ]
  },
  {
   "cell_type": "code",
   "execution_count": null,
   "metadata": {},
   "outputs": [],
   "source": [
    "new = NewERA5_DryDayPeriod()"
   ]
  },
  {
   "cell_type": "code",
   "execution_count": null,
   "metadata": {},
   "outputs": [],
   "source": [
    "old = ERA5_DryDayPeriod()\n",
    "old.cubes = iris.cube.CubeList([old.cube[:20]])"
   ]
  },
  {
   "cell_type": "code",
   "execution_count": null,
   "metadata": {},
   "outputs": [],
   "source": [
    "iris.cube.CubeList([new.cube, old.cube]).realise_data()"
   ]
  },
  {
   "cell_type": "code",
   "execution_count": null,
   "metadata": {},
   "outputs": [],
   "source": [
    "diff = new.cube.data - old.cube.data"
   ]
  },
  {
   "cell_type": "code",
   "execution_count": null,
   "metadata": {},
   "outputs": [],
   "source": [
    "rel_abs_diff = np.mean(np.abs(diff) / old.cube.data, axis=0)"
   ]
  },
  {
   "cell_type": "code",
   "execution_count": null,
   "metadata": {},
   "outputs": [],
   "source": [
    "rel_diff = np.mean(diff / old.cube.data, axis=0)"
   ]
  },
  {
   "cell_type": "code",
   "execution_count": null,
   "metadata": {},
   "outputs": [],
   "source": [
    "cube_plotting(new.cube, fig=plt.figure(figsize=(15, 7)), log=True)"
   ]
  },
  {
   "cell_type": "code",
   "execution_count": null,
   "metadata": {},
   "outputs": [],
   "source": [
    "cube_plotting(old.cube, fig=plt.figure(figsize=(15, 7)), log=True)"
   ]
  },
  {
   "cell_type": "code",
   "execution_count": null,
   "metadata": {},
   "outputs": [],
   "source": [
    "cube_plotting(rel_abs_diff, fig=plt.figure(figsize=(15, 7)))"
   ]
  },
  {
   "cell_type": "code",
   "execution_count": null,
   "metadata": {},
   "outputs": [],
   "source": [
    "cube_plotting(rel_diff, cmap_midpoint=0, fig=plt.figure(figsize=(15, 7)))"
   ]
  },
  {
   "cell_type": "code",
   "execution_count": null,
   "metadata": {},
   "outputs": [],
   "source": [
    "np.where(rel_diff == np.min(rel_diff))"
   ]
  },
  {
   "cell_type": "code",
   "execution_count": null,
   "metadata": {},
   "outputs": [],
   "source": [
    "new.cube.coord(\"latitude\").points[449], new.cube.coord(\"longitude\").points[837]"
   ]
  },
  {
   "cell_type": "code",
   "execution_count": null,
   "metadata": {},
   "outputs": [],
   "source": [
    "plt.hist(diff.flatten(), bins=1000)\n",
    "plt.yscale(\"log\")"
   ]
  },
  {
   "cell_type": "code",
   "execution_count": null,
   "metadata": {},
   "outputs": [],
   "source": [
    "import glob\n",
    "import os\n",
    "\n",
    "from tqdm import tqdm\n",
    "\n",
    "tpdir = os.path.join(DATA_DIR, \"ERA5\", \"tp_daily\")\n",
    "\n",
    "# Sort so that time is increasing.\n",
    "filenames = sorted(\n",
    "    glob.glob(os.path.join(tpdir, \"**\", \"*_daily_mean.nc\"), recursive=True)\n",
    ")\n",
    "\n",
    "precip_cubes = iris.cube.CubeList()\n",
    "\n",
    "prev_dry_day_period = None\n",
    "prev_end = None\n",
    "\n",
    "with warnings.catch_warnings():\n",
    "    warnings.filterwarnings(\n",
    "        \"ignore\",\n",
    "        message=(\n",
    "            \"Collapsing a non-contiguous coordinate. Metadata may not \"\n",
    "            \"be fully descriptive for 'time'.\"\n",
    "        ),\n",
    "    )\n",
    "    for filename in tqdm(filenames[:20]):\n",
    "        raw_cube = iris.load_cube(filename)\n",
    "        precip_cubes.append(raw_cube)"
   ]
  },
  {
   "cell_type": "code",
   "execution_count": null,
   "metadata": {},
   "outputs": [],
   "source": [
    "precip_cubes = homogenise_cube_attributes(precip_cubes)"
   ]
  },
  {
   "cell_type": "code",
   "execution_count": null,
   "metadata": {},
   "outputs": [],
   "source": [
    "all_combined = precip_cubes.concatenate_cube()"
   ]
  },
  {
   "cell_type": "code",
   "execution_count": null,
   "metadata": {},
   "outputs": [],
   "source": [
    "iris.cube.CubeList([all_combined]).realise_data()"
   ]
  },
  {
   "cell_type": "code",
   "execution_count": null,
   "metadata": {},
   "outputs": [],
   "source": [
    "combined = all_combined.intersection(latitude=(22.25, 22.26), longitude=(29.25, 29.26))"
   ]
  },
  {
   "cell_type": "code",
   "execution_count": null,
   "metadata": {},
   "outputs": [],
   "source": [
    "N = 400\n",
    "plt.figure(figsize=(20, 8))\n",
    "plt.plot(combined.data.flatten()[:N], marker=\"o\", linestyle=\"\")\n",
    "plt.hlines(y=M_PER_HR_THRES, xmin=0, xmax=N)"
   ]
  },
  {
   "cell_type": "code",
   "execution_count": null,
   "metadata": {},
   "outputs": [],
   "source": [
    "plt.figure(figsize=(20, 8))\n",
    "plt.plot(\n",
    "    old.cube.intersection(\n",
    "        latitude=(22.25, 22.26), longitude=(29.25, 29.26)\n",
    "    ).data.flatten()[: N // 30],\n",
    "    marker=\"o\",\n",
    "    linestyle=\"\",\n",
    ")"
   ]
  },
  {
   "cell_type": "code",
   "execution_count": null,
   "metadata": {},
   "outputs": [],
   "source": [
    "plt.figure(figsize=(20, 8))\n",
    "plt.plot(\n",
    "    new.cube.intersection(\n",
    "        latitude=(22.25, 22.26), longitude=(29.25, 29.26)\n",
    "    ).data.flatten()[: N // 30],\n",
    "    marker=\"o\",\n",
    "    linestyle=\"\",\n",
    ")"
   ]
  },
  {
   "cell_type": "code",
   "execution_count": null,
   "metadata": {},
   "outputs": [],
   "source": [
    "np.where(rel_diff == np.max(rel_diff))"
   ]
  },
  {
   "cell_type": "code",
   "execution_count": null,
   "metadata": {},
   "outputs": [],
   "source": [
    "all_combined.shape, old.cube.shape, new.cube.shape"
   ]
  },
  {
   "cell_type": "code",
   "execution_count": null,
   "metadata": {},
   "outputs": [],
   "source": [
    "old.cube.coord(\"latitude\").points[403]"
   ]
  },
  {
   "cell_type": "code",
   "execution_count": null,
   "metadata": {},
   "outputs": [],
   "source": [
    "old.cube.coord(\"longitude\").points[660]"
   ]
  },
  {
   "cell_type": "code",
   "execution_count": null,
   "metadata": {},
   "outputs": [],
   "source": [
    "plt.figure(figsize=(20, 8))\n",
    "data = all_combined.intersection(latitude=(10.75, 10.76), longitude=(-15, -14.9)).data\n",
    "max_d = np.max(data)\n",
    "below = data < M_PER_HR_THRES\n",
    "plt.scatter(\n",
    "    list(range(len(data))), data, marker=\"o\", c=[\"r\" if b else \"b\" for b in below]\n",
    ")\n",
    "plt.hlines(y=M_PER_HR_THRES, xmin=0, xmax=all_combined.shape[0])\n",
    "x = 0\n",
    "for cube in precip_cubes:\n",
    "    d = cube.shape[0]\n",
    "    plt.vlines(x=[x, x + d], ymin=0, ymax=max_d, colors=\"g\")\n",
    "    x += d"
   ]
  },
  {
   "cell_type": "code",
   "execution_count": null,
   "metadata": {},
   "outputs": [],
   "source": [
    "plt.figure(figsize=(20, 8))\n",
    "plt.plot(old.cube.data[:, 403, 660], marker=\"o\", linestyle=\"\")"
   ]
  },
  {
   "cell_type": "code",
   "execution_count": null,
   "metadata": {},
   "outputs": [],
   "source": [
    "plt.figure(figsize=(20, 8))\n",
    "plt.plot(new.cube.data[:, 403, 660], marker=\"o\", linestyle=\"\")"
   ]
  },
  {
   "cell_type": "code",
   "execution_count": null,
   "metadata": {},
   "outputs": [],
   "source": [
    "import scipy.ndimage\n",
    "\n",
    "# Find contiguous blocks in the time dimension where dry_days is True.\n",
    "structure = np.zeros((3,), dtype=np.int64)\n",
    "structure[:] = 1\n",
    "labelled = scipy.ndimage.label(below, structure=structure)\n",
    "slices = scipy.ndimage.find_objects(labelled[0])"
   ]
  },
  {
   "cell_type": "code",
   "execution_count": null,
   "metadata": {},
   "outputs": [],
   "source": [
    "labelled"
   ]
  },
  {
   "cell_type": "code",
   "execution_count": null,
   "metadata": {},
   "outputs": [],
   "source": [
    "slices"
   ]
  }
 ],
 "metadata": {
  "kernelspec": {
   "display_name": "Python [conda env:wildfires] *",
   "language": "python",
   "name": "conda-env-wildfires-python3-ffmpeg"
  }
 },
 "nbformat": 4,
 "nbformat_minor": 4
}
