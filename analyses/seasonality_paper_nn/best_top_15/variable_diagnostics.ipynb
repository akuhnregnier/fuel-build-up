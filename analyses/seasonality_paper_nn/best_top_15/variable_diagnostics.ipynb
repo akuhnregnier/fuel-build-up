{
 "cells": [
  {
   "cell_type": "markdown",
   "metadata": {},
   "source": [
    "## Setup"
   ]
  },
  {
   "cell_type": "code",
   "execution_count": null,
   "metadata": {},
   "outputs": [],
   "source": [
    "from specific import *"
   ]
  },
  {
   "cell_type": "markdown",
   "metadata": {},
   "source": [
    "### Get shifted data"
   ]
  },
  {
   "cell_type": "code",
   "execution_count": null,
   "metadata": {},
   "outputs": [],
   "source": [
    "(\n",
    "    endog_data,\n",
    "    exog_data,\n",
    "    master_mask,\n",
    "    filled_datasets,\n",
    "    masked_datasets,\n",
    "    land_mask,\n",
    ") = get_offset_data()"
   ]
  },
  {
   "cell_type": "markdown",
   "metadata": {},
   "source": [
    "## Mapping"
   ]
  },
  {
   "cell_type": "code",
   "execution_count": null,
   "metadata": {},
   "outputs": [],
   "source": [
    "plt.hist(endog_data.values, bins=1000)\n",
    "plt.xscale(\"log\")\n",
    "plt.yscale(\"log\")"
   ]
  },
  {
   "cell_type": "code",
   "execution_count": null,
   "metadata": {},
   "outputs": [],
   "source": [
    "import scipy.stats\n",
    "\n",
    "scipy.stats.percentileofscore(endog_data.values, 0.2)"
   ]
  },
  {
   "cell_type": "code",
   "execution_count": null,
   "metadata": {},
   "outputs": [],
   "source": [
    "combined = exog_data.copy()\n",
    "combined[\"GFED4 BA\"] = endog_data.values"
   ]
  },
  {
   "cell_type": "code",
   "execution_count": null,
   "metadata": {},
   "outputs": [],
   "source": [
    "with figure_saver(\"high_dry_days_low_fapar\", sub_directory=\"map_plots\"):\n",
    "    mpl.rc(\"figure\", figsize=(11, 4))\n",
    "    constrained_map_plot(\n",
    "        {\"Dry Day Period\": (3.7e1, None), \"FAPAR 3NN\": (None, 0.22)},\n",
    "        combined,\n",
    "        master_mask,\n",
    "        plot_variable=\"GFED4 BA\",\n",
    "        coastline_kwargs={\"linewidth\": 0.4},\n",
    "        boundaries=[0.01, 0.1, 0.2, 0.4],\n",
    "        cmap=\"inferno\",\n",
    "    )"
   ]
  },
  {
   "cell_type": "code",
   "execution_count": null,
   "metadata": {},
   "outputs": [],
   "source": [
    "with figure_saver(\"high_dry_days_high_fapar\", sub_directory=\"map_plots\"):\n",
    "    mpl.rc(\"figure\", figsize=(11, 4))\n",
    "    constrained_map_plot(\n",
    "        {\"Dry Day Period\": (3.7e1, None), \"FAPAR 3NN\": (0.41, None)},\n",
    "        combined,\n",
    "        master_mask,\n",
    "        plot_variable=\"GFED4 BA\",\n",
    "        coastline_kwargs={\"linewidth\": 0.4},\n",
    "        boundaries=[0.01, 0.1, 0.2, 0.4],\n",
    "        cmap=\"inferno\",\n",
    "    )"
   ]
  },
  {
   "cell_type": "markdown",
   "metadata": {},
   "source": [
    "## Correlation Plot"
   ]
  },
  {
   "cell_type": "code",
   "execution_count": null,
   "metadata": {},
   "outputs": [],
   "source": [
    "exog_data.columns"
   ]
  },
  {
   "cell_type": "code",
   "execution_count": null,
   "metadata": {},
   "outputs": [],
   "source": [
    "with figure_saver(\"corr_plot\"):\n",
    "    corr_plot(\n",
    "        shorten_columns(exog_data[sort_features(exog_data.columns)]),\n",
    "        fig_kwargs={\"figsize\": (8, 5)},\n",
    "    )"
   ]
  }
 ],
 "metadata": {
  "kernelspec": {
   "display_name": "Python [conda env:wildfires] *",
   "language": "python",
   "name": "conda-env-wildfires-python3-ffmpeg"
  }
 },
 "nbformat": 4,
 "nbformat_minor": 4
}
