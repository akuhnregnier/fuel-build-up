{
 "cells": [
  {
   "cell_type": "markdown",
   "metadata": {},
   "source": [
    "## Setup"
   ]
  },
  {
   "cell_type": "code",
   "execution_count": null,
   "metadata": {},
   "outputs": [],
   "source": [
    "from specific import *"
   ]
  },
  {
   "cell_type": "markdown",
   "metadata": {},
   "source": [
    "### Get shifted data"
   ]
  },
  {
   "cell_type": "code",
   "execution_count": null,
   "metadata": {},
   "outputs": [],
   "source": [
    "(\n",
    "    endog_data,\n",
    "    exog_data,\n",
    "    master_mask,\n",
    "    filled_datasets,\n",
    "    masked_datasets,\n",
    "    land_mask,\n",
    ") = get_offset_data()"
   ]
  },
  {
   "cell_type": "code",
   "execution_count": null,
   "metadata": {},
   "outputs": [],
   "source": [
    "client = get_client()\n",
    "client"
   ]
  },
  {
   "cell_type": "markdown",
   "metadata": {},
   "source": [
    "### Define the training and test data"
   ]
  },
  {
   "cell_type": "code",
   "execution_count": null,
   "metadata": {},
   "outputs": [],
   "source": [
    "@data_split_cache\n",
    "def get_split_data():\n",
    "    X_train, X_test, y_train, y_test = train_test_split(\n",
    "        exog_data, endog_data, random_state=1, shuffle=True, test_size=0.3\n",
    "    )\n",
    "    return X_train, X_test, y_train, y_test\n",
    "\n",
    "\n",
    "X_train, X_test, y_train, y_test = get_split_data()"
   ]
  },
  {
   "cell_type": "markdown",
   "metadata": {},
   "source": [
    "## Fit combinations"
   ]
  },
  {
   "cell_type": "code",
   "execution_count": null,
   "metadata": {},
   "outputs": [],
   "source": [
    "exog_data.columns"
   ]
  },
  {
   "cell_type": "code",
   "execution_count": null,
   "metadata": {},
   "outputs": [],
   "source": [
    "veg_features = get_filled_names([\"VOD Ku-band\", \"LAI\", \"SIF\", \"FAPAR\"])\n",
    "shifts = [\"\", *[f\" -{x} Month\" for x in [1, 3, 6, 9]]]\n",
    "veg_lags = []\n",
    "for shift in shifts:\n",
    "    shift_arr = []\n",
    "    for veg_feature in veg_features:\n",
    "        shift_arr.append(veg_feature + shift)\n",
    "    veg_lags.append(shift_arr)\n",
    "assert all(feature in exog_data for unpacked in veg_lags for feature in unpacked)\n",
    "veg_lags"
   ]
  },
  {
   "cell_type": "code",
   "execution_count": null,
   "metadata": {},
   "outputs": [],
   "source": [
    "combinations = [\n",
    "    (\n",
    "        \"Dry Day Period\",\n",
    "        \"Max Temp\",\n",
    "        \"pftCrop\",\n",
    "        \"Dry Day Period -3 Month\",\n",
    "        \"popd\",\n",
    "        \"Dry Day Period -1 Month\",\n",
    "        \"Dry Day Period -9 Month\",\n",
    "        \"Dry Day Period -6 Month\",\n",
    "        \"ShrubAll\",\n",
    "        \"AGB Tree\",\n",
    "        *veg_lag_product,\n",
    "    )\n",
    "    for veg_lag_product in product(*veg_lags)\n",
    "]\n",
    "\n",
    "assert all(len(combination) == 15 for combination in combinations)\n",
    "\n",
    "len(combinations)"
   ]
  },
  {
   "cell_type": "code",
   "execution_count": null,
   "metadata": {},
   "outputs": [],
   "source": [
    "scores = dask_fit_combinations(\n",
    "    DaskRandomForestRegressor(**param_dict),\n",
    "    X_train,\n",
    "    y_train,\n",
    "    client,\n",
    "    combinations,\n",
    "    n_splits=n_splits,\n",
    "    local_n_jobs=max(get_ncpus() - 1, 1),\n",
    "    verbose=True,\n",
    "    cache_dir=CACHE_DIR,\n",
    ")"
   ]
  },
  {
   "cell_type": "code",
   "execution_count": null,
   "metadata": {},
   "outputs": [],
   "source": [
    "len(scores)"
   ]
  },
  {
   "cell_type": "code",
   "execution_count": null,
   "metadata": {},
   "outputs": [],
   "source": [
    "r2_test_scores = {\n",
    "    key: [data[\"test_score\"][i][\"r2\"] for i in data[\"test_score\"]]\n",
    "    for key, data in scores.items()\n",
    "}\n",
    "mse_test_scores = {\n",
    "    key: [data[\"test_score\"][i][\"mse\"] for i in data[\"test_score\"]]\n",
    "    for key, data in scores.items()\n",
    "}"
   ]
  },
  {
   "cell_type": "code",
   "execution_count": null,
   "metadata": {},
   "outputs": [],
   "source": [
    "keys = np.array(list(r2_test_scores))\n",
    "mean_r2_test_scores = np.array([np.mean(scores) for scores in r2_test_scores.values()])\n",
    "mean_mse_test_scores = np.array(\n",
    "    [np.mean(scores) for scores in mse_test_scores.values()]\n",
    ")"
   ]
  },
  {
   "cell_type": "code",
   "execution_count": null,
   "metadata": {},
   "outputs": [],
   "source": [
    "sort_indices = np.argsort(mean_r2_test_scores)[::-1]\n",
    "keys = keys[sort_indices]\n",
    "mean_r2_test_scores = mean_r2_test_scores[sort_indices]\n",
    "mean_mse_test_scores = mean_mse_test_scores[sort_indices]"
   ]
  },
  {
   "cell_type": "code",
   "execution_count": null,
   "metadata": {},
   "outputs": [],
   "source": [
    "fig, ax = plt.subplots()\n",
    "ax.plot(mean_r2_test_scores)\n",
    "ax2 = ax.twinx()\n",
    "_ = ax2.plot(mean_mse_test_scores, c=\"C1\")"
   ]
  },
  {
   "cell_type": "code",
   "execution_count": null,
   "metadata": {},
   "outputs": [],
   "source": [
    "N = 20\n",
    "fig, ax = plt.subplots()\n",
    "ax.plot(mean_r2_test_scores[:N])\n",
    "ax2 = ax.twinx()\n",
    "_ = ax2.plot(mean_mse_test_scores[:N], c=\"C1\")"
   ]
  },
  {
   "cell_type": "code",
   "execution_count": null,
   "metadata": {},
   "outputs": [],
   "source": [
    "np.max(mean_r2_test_scores)"
   ]
  },
  {
   "cell_type": "code",
   "execution_count": null,
   "metadata": {},
   "outputs": [],
   "source": [
    "mean_r2_test_scores[0]"
   ]
  },
  {
   "cell_type": "code",
   "execution_count": null,
   "metadata": {},
   "outputs": [],
   "source": [
    "print(\"\\n\".join(sort_features(list(keys[0]))))"
   ]
  },
  {
   "cell_type": "code",
   "execution_count": null,
   "metadata": {},
   "outputs": [],
   "source": [
    "r2_test_scores[tuple(keys[0])], np.mean(r2_test_scores[tuple(keys[0])])"
   ]
  },
  {
   "cell_type": "markdown",
   "metadata": {},
   "source": [
    "### Impact of single vegetation variable inclusion on mean scores"
   ]
  },
  {
   "cell_type": "code",
   "execution_count": null,
   "metadata": {},
   "outputs": [],
   "source": [
    "all_var_means = {}\n",
    "for var in [\"VOD\", \"LAI\", \"SIF\", \"FAPAR\"]:\n",
    "    var_means = defaultdict(list)\n",
    "    for i in range(6):\n",
    "        for key, mean_r2 in zip(keys, mean_r2_test_scores):\n",
    "            count = sum(var in feature for feature in key)\n",
    "            var_means[count].append(mean_r2)\n",
    "    lengths = [len(d) for d in var_means.values()]\n",
    "    series = {\n",
    "        key: pd.Series(d).reindex(range(max(lengths))) for key, d in var_means.items()\n",
    "    }\n",
    "    var_means = pd.DataFrame(series)[list(range(6))]\n",
    "    all_var_means[var] = var_means\n",
    "\n",
    "    plt.figure(figsize=(15, 7))\n",
    "    pd.DataFrame(var_means).boxplot()\n",
    "    plt.title(var)"
   ]
  }
 ],
 "metadata": {
  "kernelspec": {
   "display_name": "Python [conda env:wildfires] *",
   "language": "python",
   "name": "conda-env-wildfires-py"
  }
 },
 "nbformat": 4,
 "nbformat_minor": 4
}
