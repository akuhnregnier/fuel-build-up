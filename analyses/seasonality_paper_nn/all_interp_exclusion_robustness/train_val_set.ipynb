{
 "cells": [
  {
   "cell_type": "markdown",
   "metadata": {},
   "source": [
    "## Setup"
   ]
  },
  {
   "cell_type": "code",
   "execution_count": null,
   "metadata": {},
   "outputs": [],
   "source": [
    "from specific import *\n",
    "\n",
    "figure_saver = figure_saver(sub_directory=\"train_val_set\")\n",
    "map_figure_saver = map_figure_saver(sub_directory=\"train_val_set\")"
   ]
  },
  {
   "cell_type": "code",
   "execution_count": null,
   "metadata": {},
   "outputs": [],
   "source": [
    "(\n",
    "    endog_data,\n",
    "    exog_data,\n",
    "    master_mask,\n",
    "    filled_datasets,\n",
    "    masked_datasets,\n",
    "    land_mask,\n",
    ") = get_offset_data()"
   ]
  },
  {
   "cell_type": "code",
   "execution_count": null,
   "metadata": {},
   "outputs": [],
   "source": [
    "X_train, X_val, y_train, y_val = data_split_cache.load()\n",
    "rf = get_model()"
   ]
  },
  {
   "cell_type": "markdown",
   "metadata": {},
   "source": [
    "### BA in the train and validation sets\n",
    "\n",
    "Valid elements are situated where master_mask is False"
   ]
  },
  {
   "cell_type": "code",
   "execution_count": null,
   "metadata": {},
   "outputs": [],
   "source": [
    "valid_indices = np.where(~master_mask.ravel())[0]\n",
    "\n",
    "valid_train_indices, valid_val_indices = train_test_split(\n",
    "    valid_indices, random_state=1, shuffle=True, test_size=0.3\n",
    ")\n",
    "\n",
    "masked_train_data = np.ma.MaskedArray(\n",
    "    np.zeros_like(master_mask, dtype=np.float64), mask=np.ones_like(master_mask)\n",
    ")\n",
    "masked_train_data.ravel()[valid_train_indices] = y_train.values\n",
    "\n",
    "masked_val_data = np.ma.MaskedArray(\n",
    "    np.zeros_like(master_mask, dtype=np.float64), mask=np.ones_like(master_mask)\n",
    ")\n",
    "masked_val_data.ravel()[valid_val_indices] = y_val.values"
   ]
  },
  {
   "cell_type": "code",
   "execution_count": null,
   "metadata": {},
   "outputs": [],
   "source": [
    "for fname, title, indices in zip(\n",
    "    (\"train_set_mask\", \"val_set_mask\"),\n",
    "    (\"Train Set Mask\", \"Validation Set Mask\"),\n",
    "    (valid_train_indices, valid_val_indices),\n",
    "):\n",
    "    with map_figure_saver(fname):\n",
    "        mask = np.ma.MaskedArray(np.zeros_like(master_mask), mask=master_mask.copy())\n",
    "        mask.ravel()[indices] = 1\n",
    "        cube_plotting(\n",
    "            mask,\n",
    "            title=title,\n",
    "            nbins=12,\n",
    "            cmap=\"viridis\",\n",
    "            colorbar_kwargs={\"label\": \"Fraction Present\"},\n",
    "        )"
   ]
  },
  {
   "cell_type": "code",
   "execution_count": null,
   "metadata": {},
   "outputs": [],
   "source": [
    "with map_figure_saver(\"train_val_set_overall_ba_comp\"):\n",
    "    fig, axes = plt.subplots(\n",
    "        3,\n",
    "        1,\n",
    "        constrained_layout=True,\n",
    "        figsize=(5.1, 8.4),\n",
    "        subplot_kw={\"projection\": ccrs.Robinson()},\n",
    "    )\n",
    "    shared_kwargs = {\n",
    "        \"boundaries\": [0, 4e-6, 1e-5, 1e-4, 1e-3, 1e-2, 8e-2],\n",
    "        \"extend\": \"max\",\n",
    "        \"cmap\": \"inferno\",\n",
    "        \"colorbar_kwargs\": {\"format\": \"%0.1e\", \"label\": \"Fractional BA\"},\n",
    "        \"coastline_kwargs\": {\"linewidth\": 0.3},\n",
    "        \"title\": \"\",\n",
    "    }\n",
    "    axes[0].set_title(\"Mean Overall GFED4 BA\")\n",
    "    cube_plotting(\n",
    "        get_masked_array(endog_data.values, master_mask),\n",
    "        ax=axes[0],\n",
    "        fig=fig,\n",
    "        **shared_kwargs\n",
    "    )\n",
    "    axes[1].set_title(\"Mean Train Set GFED4 BA\")\n",
    "    cube_plotting(masked_train_data, ax=axes[1], fig=fig, **shared_kwargs)\n",
    "    axes[2].set_title(\"Mean Validation Set GFED4 BA\")\n",
    "    cube_plotting(masked_val_data, ax=axes[2], fig=fig, **shared_kwargs)"
   ]
  },
  {
   "cell_type": "code",
   "execution_count": null,
   "metadata": {},
   "outputs": [],
   "source": [
    "with map_figure_saver(\"train_val_set_difference\"):\n",
    "    cube_plotting(\n",
    "        np.mean(masked_train_data, axis=0) - np.mean(masked_val_data, axis=0),\n",
    "        cmap=\"RdBu_r\",\n",
    "        nbins=9,\n",
    "        log=True,\n",
    "        min_edge=1e-2,\n",
    "        cmap_midpoint=0,\n",
    "        cmap_symmetric=True,\n",
    "        colorbar_kwargs={\"format\": \"%0.1e\", \"label\": \"Fractional BA\"},\n",
    "        coastline_kwargs={\"linewidth\": 0.3},\n",
    "        title=\"<Train> - <Validation>\",\n",
    "        fig=plt.figure(figsize=(5.1, 2.8)),\n",
    "    )"
   ]
  },
  {
   "cell_type": "code",
   "execution_count": null,
   "metadata": {},
   "outputs": [],
   "source": [
    "with map_figure_saver(\"train_val_set_rel_difference\"):\n",
    "    cube_plotting(\n",
    "        (np.mean(masked_train_data, axis=0) - np.mean(masked_val_data, axis=0))\n",
    "        / np.mean(get_masked_array(endog_data.values, master_mask), axis=0),\n",
    "        cmap=\"RdBu_r\",\n",
    "        nbins=9,\n",
    "        log=True,\n",
    "        min_edge=1e-1,\n",
    "        cmap_midpoint=0,\n",
    "        cmap_symmetric=True,\n",
    "        colorbar_kwargs={\"format\": \"%0.1e\", \"label\": \"Fractional BA\"},\n",
    "        coastline_kwargs={\"linewidth\": 0.3},\n",
    "        title=\"(<Train> - <Validation>) / <GFED4>\",\n",
    "        fig=plt.figure(figsize=(5.1, 2.8)),\n",
    "    )"
   ]
  },
  {
   "cell_type": "code",
   "execution_count": null,
   "metadata": {},
   "outputs": [],
   "source": [
    "print(\"<Train> - <Validation>:\", np.mean(masked_train_data) - np.mean(masked_val_data))"
   ]
  }
 ],
 "metadata": {
  "kernelspec": {
   "display_name": "Python [conda env:wildfires] *",
   "language": "python",
   "name": "conda-env-wildfires-python3-ffmpeg"
  }
 },
 "nbformat": 4,
 "nbformat_minor": 4
}
