{
 "cells": [
  {
   "cell_type": "markdown",
   "metadata": {},
   "source": [
    "## Setup"
   ]
  },
  {
   "cell_type": "code",
   "execution_count": null,
   "metadata": {},
   "outputs": [],
   "source": [
    "from specific import *"
   ]
  },
  {
   "cell_type": "code",
   "execution_count": null,
   "metadata": {},
   "outputs": [],
   "source": [
    "client = get_client()\n",
    "client"
   ]
  },
  {
   "cell_type": "markdown",
   "metadata": {},
   "source": [
    "### Get unshifted data with standard interpolation"
   ]
  },
  {
   "cell_type": "code",
   "execution_count": null,
   "metadata": {},
   "outputs": [],
   "source": [
    "# XXX:\n",
    "# data_memory.clear()\n",
    "\n",
    "(\n",
    "    endog_data,\n",
    "    exog_data,\n",
    "    master_mask,\n",
    "    filled_datasets,\n",
    "    masked_datasets,\n",
    "    land_mask,\n",
    ") = get_data()"
   ]
  },
  {
   "cell_type": "code",
   "execution_count": null,
   "metadata": {},
   "outputs": [],
   "source": [
    "_ = cube_plotting(\n",
    "    master_mask.astype(\"float\"), title=\"Missing Samples with Temporal Interpolation\"\n",
    ")"
   ]
  },
  {
   "cell_type": "code",
   "execution_count": null,
   "metadata": {},
   "outputs": [],
   "source": [
    "@data_split_cache\n",
    "def get_split_data():\n",
    "    X_train, X_test, y_train, y_test = train_test_split(\n",
    "        exog_data, endog_data, random_state=1, shuffle=True, test_size=0.3\n",
    "    )\n",
    "    return X_train, X_test, y_train, y_test\n",
    "\n",
    "\n",
    "X_train, X_test, y_train, y_test = get_split_data()"
   ]
  },
  {
   "cell_type": "code",
   "execution_count": null,
   "metadata": {},
   "outputs": [],
   "source": [
    "rf = get_model(X_train, y_train)"
   ]
  },
  {
   "cell_type": "code",
   "execution_count": null,
   "metadata": {},
   "outputs": [],
   "source": [
    "rf.n_jobs = get_ncpus()\n",
    "with parallel_backend(\"threading\", n_jobs=get_ncpus()):\n",
    "    y_pred = rf.predict(X_test)\n",
    "    y_train_pred = rf.predict(X_train)\n",
    "\n",
    "print(\"Test R2:\", r2_score(y_test, y_pred))\n",
    "print(\"Test MSE:\", mean_squared_error(y_test, y_pred))\n",
    "print(\"Train R2:\", r2_score(y_train, y_train_pred))\n",
    "print(\"Train MSE:\", mean_squared_error(y_train, y_train_pred))"
   ]
  },
  {
   "cell_type": "markdown",
   "metadata": {},
   "source": [
    "### Forego temporal interpolation"
   ]
  },
  {
   "cell_type": "code",
   "execution_count": null,
   "metadata": {},
   "outputs": [],
   "source": [
    "# XXX:\n",
    "# data_memory.clear()\n",
    "\n",
    "(\n",
    "    u_endog_data,\n",
    "    u_exog_data,\n",
    "    u_master_mask,\n",
    "    u_filled_datasets,\n",
    "    u_masked_datasets,\n",
    "    u_land_mask,\n",
    ") = get_data(n_months=0)"
   ]
  },
  {
   "cell_type": "code",
   "execution_count": null,
   "metadata": {},
   "outputs": [],
   "source": [
    "_ = cube_plotting(\n",
    "    u_master_mask.astype(\"float\"),\n",
    "    title=\"Missing Samples without Temporal Interpolation\",\n",
    ")"
   ]
  },
  {
   "cell_type": "markdown",
   "metadata": {},
   "source": [
    "### Train a model without the northern samples"
   ]
  },
  {
   "cell_type": "code",
   "execution_count": null,
   "metadata": {},
   "outputs": [],
   "source": [
    "@u_data_split_cache\n",
    "def u_get_split_data():\n",
    "    u_X_train, u_X_test, u_y_train, u_y_test = train_test_split(\n",
    "        u_exog_data, u_endog_data, random_state=1, shuffle=True, test_size=0.3\n",
    "    )\n",
    "    return u_X_train, u_X_test, u_y_train, u_y_test\n",
    "\n",
    "\n",
    "u_X_train, u_X_test, u_y_train, u_y_test = u_get_split_data()"
   ]
  },
  {
   "cell_type": "code",
   "execution_count": null,
   "metadata": {},
   "outputs": [],
   "source": [
    "u_rf = uninterp_get_model(u_X_train, u_y_train)"
   ]
  },
  {
   "cell_type": "code",
   "execution_count": null,
   "metadata": {},
   "outputs": [],
   "source": [
    "u_rf.n_jobs = get_ncpus()\n",
    "with parallel_backend(\"threading\", n_jobs=get_ncpus()):\n",
    "    u_y_pred = u_rf.predict(u_X_test)\n",
    "    u_y_train_pred = u_rf.predict(u_X_train)\n",
    "\n",
    "print(\"Test R2:\", r2_score(u_y_test, u_y_pred))\n",
    "print(\"Test MSE:\", mean_squared_error(u_y_test, u_y_pred))\n",
    "print(\"Train R2:\", r2_score(u_y_train, u_y_train_pred))\n",
    "print(\"Train MSE:\", mean_squared_error(u_y_train, u_y_train_pred))"
   ]
  },
  {
   "cell_type": "markdown",
   "metadata": {},
   "source": [
    "## Robustness test"
   ]
  },
  {
   "cell_type": "markdown",
   "metadata": {},
   "source": [
    "### Select samples that were made available by interpolation (ie. that were not available for the uninterpolated case) and test model performance for these samplesl"
   ]
  },
  {
   "cell_type": "code",
   "execution_count": null,
   "metadata": {},
   "outputs": [],
   "source": [
    "new_master_mask = master_mask.copy()\n",
    "\n",
    "# Deselect previously seen elements, only select those that arose due to interpolation.\n",
    "new_master_mask[~u_master_mask] = True\n",
    "new_valid_indices = np.where(~new_master_mask.ravel())[0]\n",
    "\n",
    "endog = get_masked_array(endog_data, master_mask)\n",
    "new_endog_data = endog.ravel()[new_valid_indices]\n",
    "new_endog = np.ma.MaskedArray(np.zeros_like(endog), mask=True)\n",
    "new_endog.ravel()[new_valid_indices] = new_endog_data"
   ]
  },
  {
   "cell_type": "code",
   "execution_count": null,
   "metadata": {},
   "outputs": [],
   "source": [
    "new_exog_dict = {}\n",
    "for column in exog_data.columns:\n",
    "    new_exog_dict[column] = get_masked_array(\n",
    "        exog_data[column].to_numpy(), master_mask\n",
    "    ).ravel()[new_valid_indices]\n",
    "new_exog_data = pd.DataFrame(new_exog_dict)"
   ]
  },
  {
   "cell_type": "code",
   "execution_count": null,
   "metadata": {},
   "outputs": [],
   "source": [
    "_ = cube_plotting(endog, log=True)"
   ]
  },
  {
   "cell_type": "code",
   "execution_count": null,
   "metadata": {},
   "outputs": [],
   "source": [
    "_ = cube_plotting(new_master_mask.astype(\"float\"))"
   ]
  },
  {
   "cell_type": "code",
   "execution_count": null,
   "metadata": {},
   "outputs": [],
   "source": [
    "_ = cube_plotting(new_endog, log=True)"
   ]
  },
  {
   "cell_type": "code",
   "execution_count": null,
   "metadata": {},
   "outputs": [],
   "source": [
    "exog_data.columns"
   ]
  },
  {
   "cell_type": "code",
   "execution_count": null,
   "metadata": {},
   "outputs": [],
   "source": [
    "for variable in (\"SIF 3NN\", \"AGB Tree\", \"Dry Day Period\"):\n",
    "    cube_plotting(\n",
    "        get_masked_array(new_exog_data[variable], new_master_mask),\n",
    "        title=variable,\n",
    "        log=True,\n",
    "        min_edge=1,\n",
    "    )"
   ]
  },
  {
   "cell_type": "markdown",
   "metadata": {},
   "source": [
    "### Predict BA for these regions"
   ]
  },
  {
   "cell_type": "code",
   "execution_count": null,
   "metadata": {},
   "outputs": [],
   "source": [
    "u_rf.n_jobs = get_ncpus()\n",
    "with parallel_backend(\"threading\", n_jobs=get_ncpus()):\n",
    "    new_pred = u_rf.predict(new_exog_data)"
   ]
  },
  {
   "cell_type": "code",
   "execution_count": null,
   "metadata": {},
   "outputs": [],
   "source": [
    "boundaries = [1e-5, 1e-4, 1e-3, 1e-2, 1e-1]\n",
    "\n",
    "plot_params = {\n",
    "    \"extend\": \"min\",\n",
    "    \"cmap\": \"YlOrRd\",\n",
    "    \"boundaries\": boundaries,\n",
    "    \"colorbar_kwargs\": {\"label\": \"Burned Area Fraction\", \"format\": \"%0.0e\"},\n",
    "    \"coastline_kwargs\": {\"linewidth\": 0.3},\n",
    "    \"log\": True,\n",
    "}"
   ]
  },
  {
   "cell_type": "code",
   "execution_count": null,
   "metadata": {},
   "outputs": [],
   "source": [
    "_ = cube_plotting(new_endog, title=\"GFED4\", **plot_params)"
   ]
  },
  {
   "cell_type": "code",
   "execution_count": null,
   "metadata": {},
   "outputs": [],
   "source": [
    "_ = cube_plotting(\n",
    "    get_masked_array(new_pred, new_master_mask), title=\"U Prediction\", **plot_params\n",
    ")"
   ]
  },
  {
   "cell_type": "code",
   "execution_count": null,
   "metadata": {},
   "outputs": [],
   "source": [
    "print(\"R2:\", r2_score(new_endog_data, new_pred))\n",
    "print(\"MSE:\", mean_squared_error(new_endog_data, new_pred))"
   ]
  },
  {
   "cell_type": "code",
   "execution_count": null,
   "metadata": {},
   "outputs": [],
   "source": [
    "plt.scatter(new_endog_data, new_pred)"
   ]
  },
  {
   "cell_type": "code",
   "execution_count": null,
   "metadata": {},
   "outputs": [],
   "source": [
    "plt.scatter(u_y_test, u_y_pred, alpha=0.1)\n",
    "plt.xscale(\"log\")\n",
    "plt.yscale(\"log\")"
   ]
  }
 ],
 "metadata": {
  "kernelspec": {
   "display_name": "Python [conda env:wildfires] *",
   "language": "python",
   "name": "conda-env-wildfires-py"
  }
 },
 "nbformat": 4,
 "nbformat_minor": 4
}
