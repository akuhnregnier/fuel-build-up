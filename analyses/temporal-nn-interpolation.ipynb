{
 "cells": [
  {
   "cell_type": "markdown",
   "metadata": {},
   "source": [
    "# Fill in missing values using temporal NN interpolation"
   ]
  },
  {
   "cell_type": "markdown",
   "metadata": {},
   "source": [
    "### Visualise results using VODCA\n",
    "\n",
    "#### Gaps in the climatology over the selected timespan are used to seed the interpolation algorithm."
   ]
  },
  {
   "cell_type": "code",
   "execution_count": null,
   "metadata": {},
   "outputs": [],
   "source": [
    "import warnings\n",
    "from datetime import datetime\n",
    "\n",
    "import iris\n",
    "import iris.coord_categorisation\n",
    "import numpy as np\n",
    "from dateutil.relativedelta import relativedelta\n",
    "from tqdm.auto import tqdm\n",
    "\n",
    "from wildfires.analysis import cube_plotting\n",
    "from wildfires.data import VODCA, Datasets\n",
    "from wildfires.logging_config import enable_logging\n",
    "from wildfires.utils import box_mask, get_land_mask, match_shape, temporal_nn\n",
    "\n",
    "enable_logging(\"jupyter\")\n",
    "warnings.filterwarnings(\"ignore\", \".*converting a masked element to nan.*\")\n",
    "warnings.filterwarnings(\"ignore\", \".*Collapsing a non-contiguous coordinate.*\")\n",
    "\n",
    "# Start and end date of the final data (inclusive).\n",
    "target_timespan = (datetime(2010, 1, 1), datetime(2015, 4, 1))\n",
    "\n",
    "vodca = Datasets(VODCA()).select_variables(\"VOD Ku-band\")\n",
    "\n",
    "source = vodca.dataset.copy_cubes_no_data()\n",
    "source.limit_months(*target_timespan)\n",
    "if not source.cube.coords(\"month_number\"):\n",
    "    iris.coord_categorisation.add_month_number(source.cube, \"time\")\n",
    "\n",
    "source_masks = {}\n",
    "for month_number in range(1, 13):\n",
    "    single_months = source.cube.extract(iris.Constraint(month_number=month_number))\n",
    "\n",
    "    raw_mask = single_months.data.mask\n",
    "\n",
    "    # Add the land mask.\n",
    "    land_mask = get_land_mask(n_lon=vodca.cubes[0].shape[-1])\n",
    "    raw_mask &= match_shape(land_mask, raw_mask.shape)\n",
    "\n",
    "    # Ignore regions south of -60° S.\n",
    "    raw_mask &= match_shape(\n",
    "        box_mask(lats=(-60, 90), lons=(-180, 180), n_lon=vodca.cubes[0].shape[-1]),\n",
    "        raw_mask.shape,\n",
    "    )\n",
    "\n",
    "    source_masks[month_number] = np.mean(raw_mask, axis=0)\n",
    "    _ = cube_plotting(\n",
    "        source_masks[month_number], title=f\"Source Mask Month {month_number}\"\n",
    "    )"
   ]
  },
  {
   "cell_type": "code",
   "execution_count": null,
   "metadata": {},
   "outputs": [],
   "source": [
    "# Number of months allowed to look forward or backward for valid samples.\n",
    "n_months = 3\n",
    "interpolated = temporal_nn(vodca.dataset, target_timespan, n_months, verbose=1)"
   ]
  },
  {
   "cell_type": "code",
   "execution_count": null,
   "metadata": {},
   "outputs": [],
   "source": [
    "cube_plotting(interpolated.cube[1])"
   ]
  },
  {
   "cell_type": "code",
   "execution_count": null,
   "metadata": {},
   "outputs": [],
   "source": [
    "for month_number in range(1, 13):\n",
    "    single_months = interpolated.cube.extract(\n",
    "        iris.Constraint(month_number=month_number)\n",
    "    )\n",
    "\n",
    "    raw_mask = single_months.data.mask\n",
    "\n",
    "    # Add the land mask.\n",
    "    land_mask = get_land_mask(n_lon=vodca.cubes[0].shape[-1])\n",
    "    raw_mask &= match_shape(land_mask, raw_mask.shape)\n",
    "\n",
    "    # Ignore regions south of -60° S.\n",
    "    raw_mask &= match_shape(\n",
    "        box_mask(lats=(-60, 90), lons=(-180, 180), n_lon=vodca.cubes[0].shape[-1]),\n",
    "        raw_mask.shape,\n",
    "    )\n",
    "    _ = cube_plotting(\n",
    "        np.isclose(np.mean(raw_mask, axis=0), 1),\n",
    "        title=f\"Interpolated Mask Month {month_number}\",\n",
    "    )"
   ]
  }
 ],
 "metadata": {
  "kernelspec": {
   "display_name": "Python [conda env:wildfires]",
   "language": "python",
   "name": "conda-env-wildfires-py"
  }
 },
 "nbformat": 4,
 "nbformat_minor": 4
}
