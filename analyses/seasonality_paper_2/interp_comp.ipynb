{
 "cells": [
  {
   "cell_type": "markdown",
   "metadata": {},
   "source": [
    "### Setup"
   ]
  },
  {
   "cell_type": "code",
   "execution_count": null,
   "metadata": {},
   "outputs": [],
   "source": [
    "from common import *\n",
    "\n",
    "figure_saver = figure_saver(sub_directory=\"interp_comp\")"
   ]
  },
  {
   "cell_type": "markdown",
   "metadata": {},
   "source": [
    "## Create datasets"
   ]
  },
  {
   "cell_type": "code",
   "execution_count": null,
   "metadata": {},
   "outputs": [],
   "source": [
    "variables = (\"SWI(1)\", \"FAPAR\", \"LAI\", \"VOD Ku-band\", \"SIF\")\n",
    "datasets = Datasets(\n",
    "    (Copernicus_SWI(), MOD15A2H_LAI_fPAR(), VODCA(), GlobFluo_SIF())\n",
    ").select_variables(variables)"
   ]
  },
  {
   "cell_type": "markdown",
   "metadata": {},
   "source": [
    "### Temporal interpolation"
   ]
  },
  {
   "cell_type": "code",
   "execution_count": null,
   "metadata": {},
   "outputs": [],
   "source": [
    "timeperiod = (datetime(2010, 1, 1, 0, 0), datetime(2015, 1, 1, 0, 0))\n",
    "orig_datasets = datasets.copy()\n",
    "for dataset in orig_datasets:\n",
    "    datasets.add(dataset.get_temporally_interpolated_dataset(timeperiod, 3))\n",
    "for dataset in datasets:\n",
    "    dataset.limit_months(*timeperiod)"
   ]
  },
  {
   "cell_type": "code",
   "execution_count": null,
   "metadata": {},
   "outputs": [],
   "source": [
    "datasets"
   ]
  },
  {
   "cell_type": "code",
   "execution_count": null,
   "metadata": {},
   "outputs": [],
   "source": [
    "datasets.show()"
   ]
  },
  {
   "cell_type": "markdown",
   "metadata": {},
   "source": [
    "## Compare original to interpolated datasets"
   ]
  },
  {
   "cell_type": "code",
   "execution_count": null,
   "metadata": {},
   "outputs": [],
   "source": [
    "period_str = f\"{timeperiod[0]:%Y-%m} - {timeperiod[1]:%Y-%m}\"\n",
    "\n",
    "saver = figure_saver(sub_directory=\"interp_comp\")\n",
    "for var in variables:\n",
    "    interp_var = var + f\" {n_months}NN\"\n",
    "    plot_vars = (var, interp_var)\n",
    "    plot_cubes = [\n",
    "        datasets.select_variables(plot_var, inplace=False).cube\n",
    "        for plot_var in plot_vars\n",
    "    ]\n",
    "\n",
    "    for plot_var, plot_cube in zip(plot_vars, plot_cubes):\n",
    "\n",
    "        if not plot_cube.coords(\"month_number\"):\n",
    "            iris.coord_categorisation.add_month_number(plot_cube, \"time\")\n",
    "\n",
    "        fig = cube_plotting(plot_cube, title=f\"{plot_var}\\n{period_str}\")\n",
    "        saver.save_figure(fig, f\"{plot_var} mean\")\n",
    "\n",
    "    replace_cube_coord(plot_cubes[0], plot_cubes[1].coord(\"month_number\"))\n",
    "    replace_cube_coord(plot_cubes[0], plot_cubes[1].coord(\"latitude\"))\n",
    "    replace_cube_coord(plot_cubes[0], plot_cubes[1].coord(\"longitude\"))\n",
    "\n",
    "    mean_1 = np.mean(plot_cubes[1].data, axis=0)\n",
    "    mean_0 = np.mean(plot_cubes[0].data, axis=0)\n",
    "\n",
    "    fig = cube_plotting(\n",
    "        mean_1 - mean_0,\n",
    "        title=f\"{plot_var} <interp> - <normal>\\n{period_str}\",\n",
    "        cmap_midpoint=0,\n",
    "        cmap_symmetric=True,\n",
    "    )\n",
    "    saver.save_figure(fig, f\"{var} interp - normal mean\")\n",
    "\n",
    "    fig = cube_plotting(\n",
    "        100 * (mean_1 - mean_0) / mean_0,\n",
    "        title=f\"{plot_var} (<interp> - <normal>) / <normal> (%)\\n{period_str}\",\n",
    "        cmap_midpoint=0,\n",
    "        cmap_symmetric=True,\n",
    "        colorbar_kwargs={\"label\": \"%\"},\n",
    "        log=True,\n",
    "    )\n",
    "    saver.save_figure(fig, f\"{var} (interp - normal) normalised mean\")"
   ]
  },
  {
   "cell_type": "code",
   "execution_count": null,
   "metadata": {},
   "outputs": [],
   "source": [
    "period_str = f\"{timeperiod[0]:%Y-%m} - {timeperiod[1]:%Y-%m}\"\n",
    "\n",
    "saver = figure_saver(sub_directory=\"interp_comp_hist\")\n",
    "\n",
    "for var in variables:\n",
    "    interp_var = var + f\" {n_months}NN\"\n",
    "    plot_vars = (var, interp_var)\n",
    "    plot_cubes = [\n",
    "        datasets.select_variables(plot_var, inplace=False).cube\n",
    "        for plot_var in plot_vars\n",
    "    ]\n",
    "\n",
    "    for plot_var, plot_cube in zip(plot_vars, plot_cubes):\n",
    "\n",
    "        if not plot_cube.coords(\"month_number\"):\n",
    "            iris.coord_categorisation.add_month_number(plot_cube, \"time\")\n",
    "\n",
    "    replace_cube_coord(plot_cubes[0], plot_cubes[1].coord(\"month_number\"))\n",
    "    replace_cube_coord(plot_cubes[0], plot_cubes[1].coord(\"latitude\"))\n",
    "    replace_cube_coord(plot_cubes[0], plot_cubes[1].coord(\"longitude\"))\n",
    "\n",
    "    mean_1 = np.mean(plot_cubes[1].data, axis=0)\n",
    "    mean_0 = np.mean(plot_cubes[0].data, axis=0)\n",
    "\n",
    "    fig, ax = plt.subplots()\n",
    "    ax.hist((mean_1 - mean_0).flatten(), bins=200)\n",
    "    ax.set_title(f\"{plot_var} <interp> - <normal>\\n{period_str}\")\n",
    "    ax.set_yscale(\"log\")\n",
    "    ax.set_xlabel(f\"{plot_var}\")\n",
    "    saver.save_figure(fig, f\"{var} interp - normal hist\")\n",
    "\n",
    "    fig, ax = plt.subplots()\n",
    "    ax.hist((100 * (mean_1 - mean_0) / mean_0).flatten(), bins=200)\n",
    "    ax.set_title(f\"{plot_var} (<interp> - <normal>) / <normal> (%)\\n{period_str}\")\n",
    "    ax.set_yscale(\"log\")\n",
    "    ax.set_xlabel(\"%\")\n",
    "    saver.save_figure(fig, f\"{var} (interp - normal) normalised hist\")"
   ]
  },
  {
   "cell_type": "code",
   "execution_count": null,
   "metadata": {},
   "outputs": [],
   "source": [
    "period_str = f\"{timeperiod[0]:%Y-%m} - {timeperiod[1]:%Y-%m}\"\n",
    "\n",
    "saver = figure_saver(sub_directory=\"interp_comp_timeseries\")\n",
    "\n",
    "for var in variables:\n",
    "    interp_var = var + f\" {n_months}NN\"\n",
    "    plot_vars = (var, interp_var)\n",
    "    plot_cubes = [\n",
    "        datasets.select_variables(plot_var, inplace=False).cube\n",
    "        for plot_var in plot_vars\n",
    "    ]\n",
    "\n",
    "    for plot_var, plot_cube in zip(plot_vars, plot_cubes):\n",
    "        if not plot_cube.coords(\"month_number\"):\n",
    "            iris.coord_categorisation.add_month_number(plot_cube, \"time\")\n",
    "\n",
    "    for coord in (\"time\", \"latitude\", \"longitude\"):\n",
    "        assert np.all(\n",
    "            plot_cubes[0].coord(coord).points == plot_cubes[1].coord(coord).points\n",
    "        )\n",
    "\n",
    "    replace_cube_coord(plot_cubes[0], plot_cubes[1].coord(\"month_number\"))\n",
    "    replace_cube_coord(plot_cubes[0], plot_cubes[1].coord(\"latitude\"))\n",
    "    replace_cube_coord(plot_cubes[0], plot_cubes[1].coord(\"longitude\"))\n",
    "\n",
    "    mean_1 = np.mean(plot_cubes[1].data, axis=0)\n",
    "    mean_0 = np.mean(plot_cubes[0].data, axis=0)\n",
    "\n",
    "    normal_data = plot_cubes[0].data\n",
    "    interp_data = plot_cubes[1].data\n",
    "\n",
    "    mean_diff_data = (mean_1 - mean_0) / mean_0\n",
    "\n",
    "    unmasked = get_unmasked(mean_diff_data)\n",
    "    sort_indices = np.argsort(np.abs(unmasked))\n",
    "    for diff_i in sort_indices[-20:]:\n",
    "        diff = unmasked[diff_i]\n",
    "        indices = np.where(mean_diff_data == diff)\n",
    "\n",
    "        lat = plot_cubes[0].coord(\"latitude\").points[indices[0][0]]\n",
    "        lon = plot_cubes[0].coord(\"longitude\").points[indices[1][0]]\n",
    "\n",
    "        lat_str = f\"{abs(lat):0.1f}\" + (\"°N\" if lat >= 0 else \"°S\")\n",
    "        lon_str = f\"{abs(lon):0.1f}\" + (\"°W\" if lon >= 0 else \"°E\")\n",
    "        loc_str = f\"{lat_str}, {lon_str}\"\n",
    "\n",
    "        normal_data_sel = normal_data[:, indices[0][0], indices[1][0]]\n",
    "        interp_data_sel = interp_data[:, indices[0][0], indices[1][0]]\n",
    "\n",
    "        fig, ax = plt.subplots()\n",
    "        ax.set_title(f\"{plot_var}, {diff:0.1f}\\n{period_str}, {loc_str}\")\n",
    "        ax.plot(normal_data_sel, marker=\"o\", label=\"Original\")\n",
    "        ax.plot(interp_data_sel, marker=\"x\", linestyle=\"--\", label=\"Interpolated\")\n",
    "        ax.legend(loc=\"best\")\n",
    "        saver.save_figure(fig, f\"{var}_{lat:0.1f}_{lon:0.1f}\")"
   ]
  },
  {
   "cell_type": "code",
   "execution_count": null,
   "metadata": {},
   "outputs": [],
   "source": [
    "cube_plotting(mean_diff_data.mask)"
   ]
  }
 ],
 "metadata": {
  "kernelspec": {
   "display_name": "Python [conda env:wildfires] *",
   "language": "python",
   "name": "conda-env-wildfires-py"
  }
 },
 "nbformat": 4,
 "nbformat_minor": 4
}
